{
  "cells": [
    {
      "cell_type": "markdown",
      "metadata": {
        "colab_type": "text",
        "id": "view-in-github"
      },
      "source": [
        "<a href=\"https://colab.research.google.com/github/coderacheal/Its-Sunday/blob/main/Sentiment_analysis.ipynb\" target=\"_parent\"><img src=\"https://colab.research.google.com/assets/colab-badge.svg\" alt=\"Open In Colab\"/></a>"
      ]
    },
    {
<<<<<<< HEAD
      "cell_type": "code",
      "execution_count": 2,
      "metadata": {
        "colab": {
          "base_uri": "https://localhost:8080/"
        },
        "id": "R8xlgDHt07hl",
        "outputId": "050ee000-bd39-40a0-a397-7c9000b66ab2"
      },
      "outputs": [
        {
          "name": "stdout",
          "output_type": "stream",
          "text": [
            "Looking in indexes: https://download.pytorch.org/whl/cu117, https://us-python.pkg.dev/colab-wheels/public/simple/\n",
            "Requirement already satisfied: torch in /usr/local/lib/python3.10/dist-packages (2.0.1+cu118)\n",
            "Requirement already satisfied: torchvision in /usr/local/lib/python3.10/dist-packages (0.15.2+cu118)\n",
            "Requirement already satisfied: torchaudio in /usr/local/lib/python3.10/dist-packages (2.0.2+cu118)\n",
            "Requirement already satisfied: filelock in /usr/local/lib/python3.10/dist-packages (from torch) (3.12.0)\n",
            "Requirement already satisfied: typing-extensions in /usr/local/lib/python3.10/dist-packages (from torch) (4.5.0)\n",
            "Requirement already satisfied: sympy in /usr/local/lib/python3.10/dist-packages (from torch) (1.11.1)\n",
            "Requirement already satisfied: networkx in /usr/local/lib/python3.10/dist-packages (from torch) (3.1)\n",
            "Requirement already satisfied: jinja2 in /usr/local/lib/python3.10/dist-packages (from torch) (3.1.2)\n",
            "Requirement already satisfied: triton==2.0.0 in /usr/local/lib/python3.10/dist-packages (from torch) (2.0.0)\n",
            "Requirement already satisfied: cmake in /usr/local/lib/python3.10/dist-packages (from triton==2.0.0->torch) (3.25.2)\n",
            "Requirement already satisfied: lit in /usr/local/lib/python3.10/dist-packages (from triton==2.0.0->torch) (16.0.5)\n",
            "Requirement already satisfied: numpy in /usr/local/lib/python3.10/dist-packages (from torchvision) (1.22.4)\n",
            "Requirement already satisfied: requests in /usr/local/lib/python3.10/dist-packages (from torchvision) (2.27.1)\n",
            "Requirement already satisfied: pillow!=8.3.*,>=5.3.0 in /usr/local/lib/python3.10/dist-packages (from torchvision) (8.4.0)\n",
            "Requirement already satisfied: MarkupSafe>=2.0 in /usr/local/lib/python3.10/dist-packages (from jinja2->torch) (2.1.2)\n",
            "Requirement already satisfied: urllib3<1.27,>=1.21.1 in /usr/local/lib/python3.10/dist-packages (from requests->torchvision) (1.26.15)\n",
            "Requirement already satisfied: certifi>=2017.4.17 in /usr/local/lib/python3.10/dist-packages (from requests->torchvision) (2022.12.7)\n",
            "Requirement already satisfied: charset-normalizer~=2.0.0 in /usr/local/lib/python3.10/dist-packages (from requests->torchvision) (2.0.12)\n",
            "Requirement already satisfied: idna<4,>=2.5 in /usr/local/lib/python3.10/dist-packages (from requests->torchvision) (3.4)\n",
            "Requirement already satisfied: mpmath>=0.19 in /usr/local/lib/python3.10/dist-packages (from sympy->torch) (1.3.0)\n",
            "Looking in indexes: https://pypi.org/simple, https://us-python.pkg.dev/colab-wheels/public/simple/\n",
            "Collecting transformers\n",
            "  Downloading transformers-4.29.2-py3-none-any.whl (7.1 MB)\n",
            "\u001b[2K     \u001b[90m━━━━━━━━━━━━━━━━━━━━━━━━━━━━━━━━━━━━━━━━\u001b[0m \u001b[32m7.1/7.1 MB\u001b[0m \u001b[31m60.7 MB/s\u001b[0m eta \u001b[36m0:00:00\u001b[0m\n",
            "\u001b[?25hRequirement already satisfied: filelock in /usr/local/lib/python3.10/dist-packages (from transformers) (3.12.0)\n",
            "Collecting huggingface-hub<1.0,>=0.14.1 (from transformers)\n",
            "  Downloading huggingface_hub-0.14.1-py3-none-any.whl (224 kB)\n",
            "\u001b[2K     \u001b[90m━━━━━━━━━━━━━━━━━━━━━━━━━━━━━━━━━━━━━━\u001b[0m \u001b[32m224.5/224.5 kB\u001b[0m \u001b[31m30.4 MB/s\u001b[0m eta \u001b[36m0:00:00\u001b[0m\n",
            "\u001b[?25hRequirement already satisfied: numpy>=1.17 in /usr/local/lib/python3.10/dist-packages (from transformers) (1.22.4)\n",
            "Requirement already satisfied: packaging>=20.0 in /usr/local/lib/python3.10/dist-packages (from transformers) (23.1)\n",
            "Requirement already satisfied: pyyaml>=5.1 in /usr/local/lib/python3.10/dist-packages (from transformers) (6.0)\n",
            "Requirement already satisfied: regex!=2019.12.17 in /usr/local/lib/python3.10/dist-packages (from transformers) (2022.10.31)\n",
            "Requirement already satisfied: requests in /usr/local/lib/python3.10/dist-packages (from transformers) (2.27.1)\n",
            "Collecting tokenizers!=0.11.3,<0.14,>=0.11.1 (from transformers)\n",
            "  Downloading tokenizers-0.13.3-cp310-cp310-manylinux_2_17_x86_64.manylinux2014_x86_64.whl (7.8 MB)\n",
            "\u001b[2K     \u001b[90m━━━━━━━━━━━━━━━━━━━━━━━━━━━━━━━━━━━━━━━━\u001b[0m \u001b[32m7.8/7.8 MB\u001b[0m \u001b[31m114.6 MB/s\u001b[0m eta \u001b[36m0:00:00\u001b[0m\n",
            "\u001b[?25hRequirement already satisfied: tqdm>=4.27 in /usr/local/lib/python3.10/dist-packages (from transformers) (4.65.0)\n",
            "Requirement already satisfied: fsspec in /usr/local/lib/python3.10/dist-packages (from huggingface-hub<1.0,>=0.14.1->transformers) (2023.4.0)\n",
            "Requirement already satisfied: typing-extensions>=3.7.4.3 in /usr/local/lib/python3.10/dist-packages (from huggingface-hub<1.0,>=0.14.1->transformers) (4.5.0)\n",
            "Requirement already satisfied: urllib3<1.27,>=1.21.1 in /usr/local/lib/python3.10/dist-packages (from requests->transformers) (1.26.15)\n",
            "Requirement already satisfied: certifi>=2017.4.17 in /usr/local/lib/python3.10/dist-packages (from requests->transformers) (2022.12.7)\n",
            "Requirement already satisfied: charset-normalizer~=2.0.0 in /usr/local/lib/python3.10/dist-packages (from requests->transformers) (2.0.12)\n",
            "Requirement already satisfied: idna<4,>=2.5 in /usr/local/lib/python3.10/dist-packages (from requests->transformers) (3.4)\n",
            "Installing collected packages: tokenizers, huggingface-hub, transformers\n",
            "Successfully installed huggingface-hub-0.14.1 tokenizers-0.13.3 transformers-4.29.2\n"
          ]
        }
=======
      "cell_type": "markdown",
      "source": [
        "# Sentiment Analysis\n",
        "\n",
        "  - A multi-class classification problem that trains a pretrained bert model the sentiment of a message\n",
        "  - Model will be embedded in a web app that will that uses web sockets for end to end communication over a network"
>>>>>>> main
      ],
      "metadata": {
        "id": "FiZ115vpzllE"
      }
    },
    {
      "cell_type": "markdown",
      "source": [
        "## Install torch and transfromers"
      ],
      "metadata": {
        "id": "N-jC0IjZOTPt"
      }
    },
    {
      "cell_type": "code",
      "execution_count": null,
      "metadata": {
        "id": "R8xlgDHt07hl"
      },
      "outputs": [],
      "source": [
        "%pip install torch torchvision torchaudio --index-url https://download.pytorch.org/whl/cu117\n",
        "%pip install transformers"
      ]
    },
    {
      "cell_type": "markdown",
      "source": [
        "## Import all dependencies to be used for the project"
      ],
      "metadata": {
        "id": "3lZArn46Oa_V"
      }
    },
    {
      "cell_type": "code",
      "execution_count": 98,
      "metadata": {
        "id": "bktbQ_8Sw_4x"
      },
      "outputs": [],
      "source": [
        "import pandas as pd\n",
        "import numpy as np\n",
        "import matplotlib.pyplot as plt\n",
        "import seaborn as sns\n",
        "import re\n",
        "import warnings\n",
        "\n",
        "import torch\n",
        "from transformers import AutoTokenizer, AutoModelForSequenceClassification, AdamW\n",
        "from sklearn.model_selection import train_test_split\n",
        "from sklearn.metrics import confusion_matrix, classification_report\n",
        "from torch.utils.data import Dataset, DataLoader\n",
        "from torch.nn.utils.rnn import pad_sequence\n",
        "import tensorflow as tf\n",
        "from sklearn.preprocessing import LabelEncoder\n",
        "from sklearn.metrics import accuracy_score, precision_recall_fscore_support\n",
        "\n",
        "\n",
        "warnings.filterwarnings('ignore')\n",
        "plt.style.use('ggplot')"
      ]
    },
    {
      "cell_type": "markdown",
      "source": [
        "## Mount drive to access the data"
      ],
      "metadata": {
        "id": "jY9y5nwzOqDs"
      }
    },
    {
      "cell_type": "code",
      "execution_count": null,
      "metadata": {
        "colab": {
          "base_uri": "https://localhost:8080/",
          "height": 423
        },
        "id": "WY9S2Tpc1Zjl",
        "outputId": "7d098cf4-810c-4296-839f-422ed9215ece"
      },
      "outputs": [
        {
          "data": {
            "text/html": [
              "\n",
              "  <div id=\"df-5391d91e-7a9d-4797-8d99-492a0d551eb9\">\n",
              "    <div class=\"colab-df-container\">\n",
              "      <div>\n",
              "<style scoped>\n",
              "    .dataframe tbody tr th:only-of-type {\n",
              "        vertical-align: middle;\n",
              "    }\n",
              "\n",
              "    .dataframe tbody tr th {\n",
              "        vertical-align: top;\n",
              "    }\n",
              "\n",
              "    .dataframe thead th {\n",
              "        text-align: right;\n",
              "    }\n",
              "</style>\n",
              "<table border=\"1\" class=\"dataframe\">\n",
              "  <thead>\n",
              "    <tr style=\"text-align: right;\">\n",
              "      <th></th>\n",
              "      <th>Text</th>\n",
              "      <th>Language</th>\n",
              "      <th>Label</th>\n",
              "    </tr>\n",
              "  </thead>\n",
              "  <tbody>\n",
              "    <tr>\n",
              "      <th>0</th>\n",
              "      <td>@Charlie_Corley @Kristine1G @amyklobuchar @Sty...</td>\n",
              "      <td>en</td>\n",
              "      <td>litigious</td>\n",
              "    </tr>\n",
              "    <tr>\n",
              "      <th>1</th>\n",
              "      <td>#BadBunny: Como dos gotas de agua: Joven se di...</td>\n",
              "      <td>es</td>\n",
              "      <td>negative</td>\n",
              "    </tr>\n",
              "    <tr>\n",
              "      <th>2</th>\n",
              "      <td>https://t.co/YJNiO0p1JV Flagstar Bank disclose...</td>\n",
              "      <td>en</td>\n",
              "      <td>litigious</td>\n",
              "    </tr>\n",
              "    <tr>\n",
              "      <th>3</th>\n",
              "      <td>Rwanda is set to host the headquarters of Unit...</td>\n",
              "      <td>en</td>\n",
              "      <td>positive</td>\n",
              "    </tr>\n",
              "    <tr>\n",
              "      <th>4</th>\n",
              "      <td>OOPS. I typed her name incorrectly (today’s br...</td>\n",
              "      <td>en</td>\n",
              "      <td>litigious</td>\n",
              "    </tr>\n",
              "    <tr>\n",
              "      <th>...</th>\n",
              "      <td>...</td>\n",
              "      <td>...</td>\n",
              "      <td>...</td>\n",
              "    </tr>\n",
              "    <tr>\n",
              "      <th>937849</th>\n",
              "      <td>@Juice_Lemons in the dark. it’s so good</td>\n",
              "      <td>en</td>\n",
              "      <td>positive</td>\n",
              "    </tr>\n",
              "    <tr>\n",
              "      <th>937850</th>\n",
              "      <td>8.SSR &amp;amp; Disha Salian case should be solved...</td>\n",
              "      <td>en</td>\n",
              "      <td>negative</td>\n",
              "    </tr>\n",
              "    <tr>\n",
              "      <th>937851</th>\n",
              "      <td>*ACCIDENT:  Damage Only* - Raleigh Fire Depart...</td>\n",
              "      <td>en</td>\n",
              "      <td>negative</td>\n",
              "    </tr>\n",
              "    <tr>\n",
              "      <th>937852</th>\n",
              "      <td>@reblavoie So happy for her! She’s been incred...</td>\n",
              "      <td>en</td>\n",
              "      <td>positive</td>\n",
              "    </tr>\n",
              "    <tr>\n",
              "      <th>937853</th>\n",
              "      <td>I'm lost and I'm found but</td>\n",
              "      <td>en</td>\n",
              "      <td>negative</td>\n",
              "    </tr>\n",
              "  </tbody>\n",
              "</table>\n",
              "<p>937854 rows × 3 columns</p>\n",
              "</div>\n",
              "      <button class=\"colab-df-convert\" onclick=\"convertToInteractive('df-5391d91e-7a9d-4797-8d99-492a0d551eb9')\"\n",
              "              title=\"Convert this dataframe to an interactive table.\"\n",
              "              style=\"display:none;\">\n",
              "        \n",
              "  <svg xmlns=\"http://www.w3.org/2000/svg\" height=\"24px\"viewBox=\"0 0 24 24\"\n",
              "       width=\"24px\">\n",
              "    <path d=\"M0 0h24v24H0V0z\" fill=\"none\"/>\n",
              "    <path d=\"M18.56 5.44l.94 2.06.94-2.06 2.06-.94-2.06-.94-.94-2.06-.94 2.06-2.06.94zm-11 1L8.5 8.5l.94-2.06 2.06-.94-2.06-.94L8.5 2.5l-.94 2.06-2.06.94zm10 10l.94 2.06.94-2.06 2.06-.94-2.06-.94-.94-2.06-.94 2.06-2.06.94z\"/><path d=\"M17.41 7.96l-1.37-1.37c-.4-.4-.92-.59-1.43-.59-.52 0-1.04.2-1.43.59L10.3 9.45l-7.72 7.72c-.78.78-.78 2.05 0 2.83L4 21.41c.39.39.9.59 1.41.59.51 0 1.02-.2 1.41-.59l7.78-7.78 2.81-2.81c.8-.78.8-2.07 0-2.86zM5.41 20L4 18.59l7.72-7.72 1.47 1.35L5.41 20z\"/>\n",
              "  </svg>\n",
              "      </button>\n",
              "      \n",
              "  <style>\n",
              "    .colab-df-container {\n",
              "      display:flex;\n",
              "      flex-wrap:wrap;\n",
              "      gap: 12px;\n",
              "    }\n",
              "\n",
              "    .colab-df-convert {\n",
              "      background-color: #E8F0FE;\n",
              "      border: none;\n",
              "      border-radius: 50%;\n",
              "      cursor: pointer;\n",
              "      display: none;\n",
              "      fill: #1967D2;\n",
              "      height: 32px;\n",
              "      padding: 0 0 0 0;\n",
              "      width: 32px;\n",
              "    }\n",
              "\n",
              "    .colab-df-convert:hover {\n",
              "      background-color: #E2EBFA;\n",
              "      box-shadow: 0px 1px 2px rgba(60, 64, 67, 0.3), 0px 1px 3px 1px rgba(60, 64, 67, 0.15);\n",
              "      fill: #174EA6;\n",
              "    }\n",
              "\n",
              "    [theme=dark] .colab-df-convert {\n",
              "      background-color: #3B4455;\n",
              "      fill: #D2E3FC;\n",
              "    }\n",
              "\n",
              "    [theme=dark] .colab-df-convert:hover {\n",
              "      background-color: #434B5C;\n",
              "      box-shadow: 0px 1px 3px 1px rgba(0, 0, 0, 0.15);\n",
              "      filter: drop-shadow(0px 1px 2px rgba(0, 0, 0, 0.3));\n",
              "      fill: #FFFFFF;\n",
              "    }\n",
              "  </style>\n",
              "\n",
              "      <script>\n",
              "        const buttonEl =\n",
              "          document.querySelector('#df-5391d91e-7a9d-4797-8d99-492a0d551eb9 button.colab-df-convert');\n",
              "        buttonEl.style.display =\n",
              "          google.colab.kernel.accessAllowed ? 'block' : 'none';\n",
              "\n",
              "        async function convertToInteractive(key) {\n",
              "          const element = document.querySelector('#df-5391d91e-7a9d-4797-8d99-492a0d551eb9');\n",
              "          const dataTable =\n",
              "            await google.colab.kernel.invokeFunction('convertToInteractive',\n",
              "                                                     [key], {});\n",
              "          if (!dataTable) return;\n",
              "\n",
              "          const docLinkHtml = 'Like what you see? Visit the ' +\n",
              "            '<a target=\"_blank\" href=https://colab.research.google.com/notebooks/data_table.ipynb>data table notebook</a>'\n",
              "            + ' to learn more about interactive tables.';\n",
              "          element.innerHTML = '';\n",
              "          dataTable['output_type'] = 'display_data';\n",
              "          await google.colab.output.renderOutput(dataTable, element);\n",
              "          const docLink = document.createElement('div');\n",
              "          docLink.innerHTML = docLinkHtml;\n",
              "          element.appendChild(docLink);\n",
              "        }\n",
              "      </script>\n",
              "    </div>\n",
              "  </div>\n",
              "  "
            ],
            "text/plain": [
              "                                                     Text Language      Label\n",
              "0       @Charlie_Corley @Kristine1G @amyklobuchar @Sty...       en  litigious\n",
              "1       #BadBunny: Como dos gotas de agua: Joven se di...       es   negative\n",
              "2       https://t.co/YJNiO0p1JV Flagstar Bank disclose...       en  litigious\n",
              "3       Rwanda is set to host the headquarters of Unit...       en   positive\n",
              "4       OOPS. I typed her name incorrectly (today’s br...       en  litigious\n",
              "...                                                   ...      ...        ...\n",
              "937849            @Juice_Lemons in the dark. it’s so good       en   positive\n",
              "937850  8.SSR &amp; Disha Salian case should be solved...       en   negative\n",
              "937851  *ACCIDENT:  Damage Only* - Raleigh Fire Depart...       en   negative\n",
              "937852  @reblavoie So happy for her! She’s been incred...       en   positive\n",
              "937853                         I'm lost and I'm found but       en   negative\n",
              "\n",
              "[937854 rows x 3 columns]"
            ]
          },
          "execution_count": 4,
          "metadata": {},
<<<<<<< HEAD
          "output_type": "execute_result"
=======
          "execution_count": 3
>>>>>>> main
        }
      ],
      "source": [
        "# from google.colab import drive\n",
        "# drive.mount('/content/drive')\n",
        "\n",
        "# df =  pd.read_csv('/content/drive/MyDrive/Colab Notebooks/dataset.csv')\n",
        "# df"
      ]
    },
    {
      "cell_type": "code",
      "execution_count": null,
      "metadata": {
        "colab": {
          "base_uri": "https://localhost:8080/"
        },
        "id": "d_uo7WcUX74w",
        "outputId": "1994e863-9cd2-42f9-8f31-4bbbdfcf7780"
      },
      "outputs": [
        {
          "data": {
            "text/plain": [
              "(937854, 3)"
            ]
          },
          "execution_count": 5,
          "metadata": {},
<<<<<<< HEAD
          "output_type": "execute_result"
=======
          "execution_count": 4
>>>>>>> main
        }
      ],
      "source": [
        "# df.shape"
      ]
    },
    {
      "cell_type": "code",
      "execution_count": null,
      "metadata": {
        "id": "oHNWPI6aGfDY"
      },
<<<<<<< HEAD
      "outputs": [
        {
          "data": {
            "text/plain": [
              "array(['en', 'es', 'ca', 'fr', 'pt', 'ja', 'hi', 'ar', 'ko', 'nl', 'et',\n",
              "       'in', 'und', 'tl', 'zh', 'de', 'cs', 'ru', 'qme', 'it', 'el', 'ro',\n",
              "       'no', 'tr', 'sv', 'ta', 'fa', 'ht', 'pl', 'da', 'th', 'hu', 'lv',\n",
              "       'uk', 'qht', 'eu', 'qam', 'si', 'cy', 'zxx', 'ml', 'ne', 'mr',\n",
              "       'qst', 'vi', 'bn', 'gu', 'is', 'fi', 'ckb', nan, 'te', 'art', 'bg',\n",
              "       'ur', 'sl', 'lt', 'pa', 'iw', 'kn', 'sr',\n",
              "       \"[Photo(previewUrl='https://pbs.twimg.com/media/FWV94O7UEAAjMOi?format=jpg&name=small', fullUrl='https://pbs.twimg.com/media/FWV94O7UEAAjMOi?format=jpg&name=large')]\",\n",
              "       \"[Photo(previewUrl='https://pbs.twimg.com/media/FWWBzWTXkAAyZqm?format=jpg&name=small', fullUrl='https://pbs.twimg.com/media/FWWBzWTXkAAyZqm?format=jpg&name=large')]\",\n",
              "       'am', 'or',\n",
              "       \"[Photo(previewUrl='https://pbs.twimg.com/media/EPYG2rKVAAA1e_O?format=jpg&name=small', fullUrl='https://pbs.twimg.com/media/EPYG2rKVAAA1e_O?format=jpg&name=large')]\",\n",
              "       'sd',\n",
              "       \"[Photo(previewUrl='https://pbs.twimg.com/media/FWXXH-AUcAAp6Wc?format=jpg&name=small', fullUrl='https://pbs.twimg.com/media/FWXXH-AUcAAp6Wc?format=jpg&name=large')]\",\n",
              "       \"[Photo(previewUrl='https://pbs.twimg.com/media/FWVRZ6bWYAAM8-3?format=jpg&name=small', fullUrl='https://pbs.twimg.com/media/FWVRZ6bWYAAM8-3?format=jpg&name=large')]\",\n",
              "       \"[Photo(previewUrl='https://pbs.twimg.com/media/FWWLs-qWQAEUKqZ?format=jpg&name=small', fullUrl='https://pbs.twimg.com/media/FWWLs-qWQAEUKqZ?format=jpg&name=large')]\",\n",
              "       \"[Photo(previewUrl='https://pbs.twimg.com/media/FWVhrnXX0AE0h9Z?format=jpg&name=small', fullUrl='https://pbs.twimg.com/media/FWVhrnXX0AE0h9Z?format=jpg&name=large')]\",\n",
              "       \"[Video(thumbnailUrl='https://pbs.twimg.com/ext_tw_video_thumb/1541709480324259840/pu/img/E_bkLKnbgX96ui7e.jpg', variants=[VideoVariant(contentType='application/x-mpegURL', url='https://video.twimg.com/ext_tw_video/1541709480324259840/pu/pl/_agIGuySTtX4_1HY.m3u8?tag=12&container=fmp4', bitrate=None), VideoVariant(contentType='video/mp4', url='https://video.twimg.com/ext_tw_video/1541709480324259840/pu/vid/1280x720/VESWY4_w8FIbtAih.mp4?tag=12', bitrate=2176000), VideoVariant(contentType='video/mp4', url='https://video.twimg.com/ext_tw_video/1541709480324259840/pu/vid/480x270/N8UYgrlJKVHmxOkv.mp4?tag=12', bitrate=256000), VideoVariant(contentType='video/mp4', url='https://video.twimg.com/ext_tw_video/1541709480324259840/pu/vid/640x360/0e6bAb2v0ZFSrU2o.mp4?tag=12', bitrate=832000)], duration=18.646, views=5)]\",\n",
              "       \"[Photo(previewUrl='https://pbs.twimg.com/media/FWXYTY7XEAY4sw8?format=jpg&name=small', fullUrl='https://pbs.twimg.com/media/FWXYTY7XEAY4sw8?format=jpg&name=large')]\"],\n",
              "      dtype=object)"
            ]
          },
          "execution_count": 6,
          "metadata": {},
          "output_type": "execute_result"
        }
      ],
=======
      "outputs": [],
>>>>>>> main
      "source": [
        "# df['Language'].unique()"
      ]
    },
    {
      "cell_type": "code",
      "execution_count": null,
      "metadata": {
        "id": "jBs5CPkxbn25"
      },
      "outputs": [],
      "source": [
        "# english_df = df[df['Language'] =='en']\n",
        "\n",
        "# #let's drop the language column\n",
        "# english_df.drop(columns='Language', inplace=True)\n"
      ]
    },
    {
      "cell_type": "code",
      "execution_count": 8,
      "metadata": {
        "id": "_udrC5EG6yLH"
      },
      "outputs": [],
      "source": [
<<<<<<< HEAD
        "\n",
        "uncertainty_df = english_df[df['Label'] =='uncertainty'][:30000]\n",
        "positive_df = english_df[df['Label'] =='positive'][:30000]\n",
        "negative_df = english_df[df['Label'] =='negative'][:30000]\n",
        "litigious_df = english_df[df['Label'] =='litigious'][:1200]"
      ]
    },
    {
      "cell_type": "code",
      "execution_count": 9,
=======
        "# uncertainty_df = english_df[df['Label'] =='uncertainty'][:30000]\n",
        "# positive_df = english_df[df['Label'] =='positive'][:30000]\n",
        "# negative_df = english_df[df['Label'] =='negative'][:30000]\n",
        "# litigious_df = english_df[df['Label'] =='litigious'][:1200]"
      ],
      "metadata": {
        "id": "_udrC5EG6yLH"
      },
      "execution_count": null,
      "outputs": []
    },
    {
      "cell_type": "code",
      "source": [
        "# uncertainty_df"
      ],
>>>>>>> main
      "metadata": {
        "colab": {
          "base_uri": "https://localhost:8080/",
          "height": 423
        },
        "id": "N_hDnrK_bbog",
        "outputId": "c896a6bd-65a4-4df6-9fbd-826ed59aac68"
      },
<<<<<<< HEAD
=======
      "execution_count": null,
>>>>>>> main
      "outputs": [
        {
          "data": {
            "text/html": [
              "\n",
              "  <div id=\"df-511070a4-0943-42b0-834f-8b30e47115fb\">\n",
              "    <div class=\"colab-df-container\">\n",
              "      <div>\n",
              "<style scoped>\n",
              "    .dataframe tbody tr th:only-of-type {\n",
              "        vertical-align: middle;\n",
              "    }\n",
              "\n",
              "    .dataframe tbody tr th {\n",
              "        vertical-align: top;\n",
              "    }\n",
              "\n",
              "    .dataframe thead th {\n",
              "        text-align: right;\n",
              "    }\n",
              "</style>\n",
              "<table border=\"1\" class=\"dataframe\">\n",
              "  <thead>\n",
              "    <tr style=\"text-align: right;\">\n",
              "      <th></th>\n",
              "      <th>Text</th>\n",
              "      <th>Label</th>\n",
              "    </tr>\n",
              "  </thead>\n",
              "  <tbody>\n",
              "    <tr>\n",
              "      <th>7</th>\n",
              "      <td>@ShawnTarloff @itsmieu you can also relate thi...</td>\n",
              "      <td>uncertainty</td>\n",
              "    </tr>\n",
              "    <tr>\n",
              "      <th>22</th>\n",
              "      <td>ew its almost valentine’s day https://t.co/FA5...</td>\n",
              "      <td>uncertainty</td>\n",
              "    </tr>\n",
              "    <tr>\n",
              "      <th>25</th>\n",
              "      <td>@BlackMercury3 I’m thinking that maybe Ironwoo...</td>\n",
              "      <td>uncertainty</td>\n",
              "    </tr>\n",
              "    <tr>\n",
              "      <th>29</th>\n",
              "      <td>@zoidberg95 Infinite Diversity in Infinite Com...</td>\n",
              "      <td>uncertainty</td>\n",
              "    </tr>\n",
              "    <tr>\n",
              "      <th>33</th>\n",
              "      <td>Sad thing is.. he's causing more damage than T...</td>\n",
              "      <td>uncertainty</td>\n",
              "    </tr>\n",
              "    <tr>\n",
              "      <th>...</th>\n",
              "      <td>...</td>\n",
              "      <td>...</td>\n",
              "    </tr>\n",
              "    <tr>\n",
              "      <th>142795</th>\n",
              "      <td>@Sidelinecreepin i’m the opposite. i root for ...</td>\n",
              "      <td>uncertainty</td>\n",
              "    </tr>\n",
              "    <tr>\n",
              "      <th>142811</th>\n",
              "      <td>@donwinslow @PressSec Maybe she could a press ...</td>\n",
              "      <td>uncertainty</td>\n",
              "    </tr>\n",
              "    <tr>\n",
              "      <th>142814</th>\n",
              "      <td>Can't believe it's been almost 10 years since ...</td>\n",
              "      <td>uncertainty</td>\n",
              "    </tr>\n",
              "    <tr>\n",
              "      <th>142830</th>\n",
              "      <td>@Kat_Ozburn Public school can be great. Of cou...</td>\n",
              "      <td>uncertainty</td>\n",
              "    </tr>\n",
              "    <tr>\n",
              "      <th>142832</th>\n",
              "      <td>@viviant_g I have no idea. I just saved this f...</td>\n",
              "      <td>uncertainty</td>\n",
              "    </tr>\n",
              "  </tbody>\n",
              "</table>\n",
              "<p>30000 rows × 2 columns</p>\n",
              "</div>\n",
              "      <button class=\"colab-df-convert\" onclick=\"convertToInteractive('df-511070a4-0943-42b0-834f-8b30e47115fb')\"\n",
              "              title=\"Convert this dataframe to an interactive table.\"\n",
              "              style=\"display:none;\">\n",
              "        \n",
              "  <svg xmlns=\"http://www.w3.org/2000/svg\" height=\"24px\"viewBox=\"0 0 24 24\"\n",
              "       width=\"24px\">\n",
              "    <path d=\"M0 0h24v24H0V0z\" fill=\"none\"/>\n",
              "    <path d=\"M18.56 5.44l.94 2.06.94-2.06 2.06-.94-2.06-.94-.94-2.06-.94 2.06-2.06.94zm-11 1L8.5 8.5l.94-2.06 2.06-.94-2.06-.94L8.5 2.5l-.94 2.06-2.06.94zm10 10l.94 2.06.94-2.06 2.06-.94-2.06-.94-.94-2.06-.94 2.06-2.06.94z\"/><path d=\"M17.41 7.96l-1.37-1.37c-.4-.4-.92-.59-1.43-.59-.52 0-1.04.2-1.43.59L10.3 9.45l-7.72 7.72c-.78.78-.78 2.05 0 2.83L4 21.41c.39.39.9.59 1.41.59.51 0 1.02-.2 1.41-.59l7.78-7.78 2.81-2.81c.8-.78.8-2.07 0-2.86zM5.41 20L4 18.59l7.72-7.72 1.47 1.35L5.41 20z\"/>\n",
              "  </svg>\n",
              "      </button>\n",
              "      \n",
              "  <style>\n",
              "    .colab-df-container {\n",
              "      display:flex;\n",
              "      flex-wrap:wrap;\n",
              "      gap: 12px;\n",
              "    }\n",
              "\n",
              "    .colab-df-convert {\n",
              "      background-color: #E8F0FE;\n",
              "      border: none;\n",
              "      border-radius: 50%;\n",
              "      cursor: pointer;\n",
              "      display: none;\n",
              "      fill: #1967D2;\n",
              "      height: 32px;\n",
              "      padding: 0 0 0 0;\n",
              "      width: 32px;\n",
              "    }\n",
              "\n",
              "    .colab-df-convert:hover {\n",
              "      background-color: #E2EBFA;\n",
              "      box-shadow: 0px 1px 2px rgba(60, 64, 67, 0.3), 0px 1px 3px 1px rgba(60, 64, 67, 0.15);\n",
              "      fill: #174EA6;\n",
              "    }\n",
              "\n",
              "    [theme=dark] .colab-df-convert {\n",
              "      background-color: #3B4455;\n",
              "      fill: #D2E3FC;\n",
              "    }\n",
              "\n",
              "    [theme=dark] .colab-df-convert:hover {\n",
              "      background-color: #434B5C;\n",
              "      box-shadow: 0px 1px 3px 1px rgba(0, 0, 0, 0.15);\n",
              "      filter: drop-shadow(0px 1px 2px rgba(0, 0, 0, 0.3));\n",
              "      fill: #FFFFFF;\n",
              "    }\n",
              "  </style>\n",
              "\n",
              "      <script>\n",
              "        const buttonEl =\n",
              "          document.querySelector('#df-511070a4-0943-42b0-834f-8b30e47115fb button.colab-df-convert');\n",
              "        buttonEl.style.display =\n",
              "          google.colab.kernel.accessAllowed ? 'block' : 'none';\n",
              "\n",
              "        async function convertToInteractive(key) {\n",
              "          const element = document.querySelector('#df-511070a4-0943-42b0-834f-8b30e47115fb');\n",
              "          const dataTable =\n",
              "            await google.colab.kernel.invokeFunction('convertToInteractive',\n",
              "                                                     [key], {});\n",
              "          if (!dataTable) return;\n",
              "\n",
              "          const docLinkHtml = 'Like what you see? Visit the ' +\n",
              "            '<a target=\"_blank\" href=https://colab.research.google.com/notebooks/data_table.ipynb>data table notebook</a>'\n",
              "            + ' to learn more about interactive tables.';\n",
              "          element.innerHTML = '';\n",
              "          dataTable['output_type'] = 'display_data';\n",
              "          await google.colab.output.renderOutput(dataTable, element);\n",
              "          const docLink = document.createElement('div');\n",
              "          docLink.innerHTML = docLinkHtml;\n",
              "          element.appendChild(docLink);\n",
              "        }\n",
              "      </script>\n",
              "    </div>\n",
              "  </div>\n",
              "  "
            ],
            "text/plain": [
              "                                                     Text        Label\n",
              "7       @ShawnTarloff @itsmieu you can also relate thi...  uncertainty\n",
              "22      ew its almost valentine’s day https://t.co/FA5...  uncertainty\n",
              "25      @BlackMercury3 I’m thinking that maybe Ironwoo...  uncertainty\n",
              "29      @zoidberg95 Infinite Diversity in Infinite Com...  uncertainty\n",
              "33      Sad thing is.. he's causing more damage than T...  uncertainty\n",
              "...                                                   ...          ...\n",
              "142795  @Sidelinecreepin i’m the opposite. i root for ...  uncertainty\n",
              "142811  @donwinslow @PressSec Maybe she could a press ...  uncertainty\n",
              "142814  Can't believe it's been almost 10 years since ...  uncertainty\n",
              "142830  @Kat_Ozburn Public school can be great. Of cou...  uncertainty\n",
              "142832  @viviant_g I have no idea. I just saved this f...  uncertainty\n",
              "\n",
              "[30000 rows x 2 columns]"
            ]
          },
          "execution_count": 9,
          "metadata": {},
<<<<<<< HEAD
          "output_type": "execute_result"
=======
          "execution_count": 8
>>>>>>> main
        }
      ],
      "source": [
        "uncertainty_df"
      ]
    },
    {
      "cell_type": "code",
<<<<<<< HEAD
      "execution_count": 10,
=======
      "source": [
        "# uncertainty_df['Text'][7]"
      ],
>>>>>>> main
      "metadata": {
        "colab": {
          "base_uri": "https://localhost:8080/",
          "height": 70
        },
        "id": "kxUu6XI0bkb5",
        "outputId": "466ba011-df71-408e-e3bd-0aebf8175048"
      },
<<<<<<< HEAD
=======
      "execution_count": null,
>>>>>>> main
      "outputs": [
        {
          "data": {
            "application/vnd.google.colaboratory.intrinsic+json": {
              "type": "string"
            },
            "text/plain": [
              "'@ShawnTarloff @itsmieu you can also relate this to art too!!! a lot of people are dismayed in starting art because of this kind of thing and i always try to tell them that everyone starts somewhere and those who are \"good\" by certain ages just trained enough to get there, like with anything you learn'"
            ]
          },
          "execution_count": 10,
          "metadata": {},
<<<<<<< HEAD
          "output_type": "execute_result"
=======
          "execution_count": 9
>>>>>>> main
        }
      ],
      "source": [
        "uncertainty_df['Text'][7]"
      ]
    },
    {
      "cell_type": "markdown",
      "metadata": {
        "id": "mJvQBUzQxxxV"
      },
      "source": [
        "## Feature Engineering\n",
        "\n",
        " - Engineer the litigious label to make it more extensive"
      ]
    },
    {
      "cell_type": "code",
<<<<<<< HEAD
      "execution_count": 11,
=======
      "source": [
        "litigious_records = []\n",
        "\n",
        "litigious_sentences = [\n",
        "    'The plaintiff alleges that the defendant committed defamation by spreading false and damaging statements about their character.',\n",
        "    'The company is facing a lawsuit for patent infringement due to their unauthorized use of a patented technology.',\n",
        "    'The accused party is being sued for breach of contract, as they failed to fulfill their obligations as outlined in the signed agreement.',\n",
        "    'I will bury this place in so much law suit that your grand children are going to need lawyers',\n",
        "    'The plaintiff claims substantial damages resulting from the defendant\\'s fraudulent activities, including misrepresentation of financial information.',\n",
        "    'The employer is facing a legal battle over allegations of wrongful termination and violation of labor laws, as the employee argues they were fired without just cause.',\n",
        "    'The plaintiff seeks compensation for the alleged negligence of the defendant, which resulted in personal injury and financial loss.',\n",
        "    'The company filed a lawsuit against its former employee for alleged misappropriation of trade secrets, claiming significant damages.',\n",
        "    'The court issued an injunction to prevent the defendant from further trademark violation and ordered them to cease all unauthorized use of the protected mark.',\n",
        "    'The plaintiff accuses the defendant of libel and slander, claiming that the false statements made by the defendant harmed their personal and professional reputation.',\n",
        "    'The dispute between the two parties arose from an alleged breach of fiduciary duty, with the plaintiff asserting that the defendant prioritized personal gain over their legal obligations.',\n",
        "    'The neighbors filed a complaint against each other for alleged trespassing, seeking a restraining order to prevent further disputes.',\n",
        "    'The landlord is facing a lawsuit from the tenant, claiming breach of contract due to the landlord\\'s failure to address necessary repairs in a timely manner.',\n",
        "    'A legal battle between former spouses ensued over child custody, with both parties accusing each other of parental alienation and seeking sole custody rights.',\n",
        "    'The homeowners\\' association sent a cease and desist letter to a resident for violating community guidelines by conducting business activities from their home.',\n",
        "    'Siblings engaged in a dispute over their late parent\\'s estate, resulting in a contentious probate case with allegations of undue influence and mismanagement of assets.',\n",
        "    \"The opposing party's deliberate interference has caused significant financial losses.\",\n",
        "    \"The discovery process will uncover crucial evidence to support our position.\",\n",
        "    \"Our attorney will demonstrate the defendant's gross negligence beyond any reasonable doubt.\",\n",
        "    \"The opposing counsel's attempt to mislead the court will not go unchallenged.\",\n",
        "    \"The breach of contract is evident from the defendant's failure to fulfill obligations.\",\n",
        "    \"Our legal representation will seek appropriate damages for the harm suffered.\",\n",
        "    \"The defendant's reckless actions warrant punitive measures to deter future misconduct.\",\n",
        "    \"Our legal team will file an appeal to rectify the erroneous ruling.\",\n",
        "    \"The plaintiff's rights have been violated, necessitating immediate legal action.\"\n",
        "]\n",
        "\n",
        "for i in range(2500):\n",
        "  for sentence in litigious_sentences:\n",
        "    text = sentence\n",
        "    label = 'litigious'\n",
        "    record = {'Text': text, 'Label': label}\n",
        "    litigious_records.append(record)\n",
        "\n",
        "\n",
        "litigious_df = pd.DataFrame(litigious_records)\n",
        "\n",
        "litigious_df.head()"
      ],
>>>>>>> main
      "metadata": {
        "colab": {
          "base_uri": "https://localhost:8080/",
          "height": 206
        },
        "id": "XH77dtno2CUG",
        "outputId": "7367b825-06f3-45f3-9b0d-98850c3bfe70"
      },
<<<<<<< HEAD
=======
      "execution_count": 138,
>>>>>>> main
      "outputs": [
        {
          "data": {
            "text/html": [
              "\n",
              "  <div id=\"df-714313bf-18c4-44f9-85ed-f8e9f10e37ec\">\n",
              "    <div class=\"colab-df-container\">\n",
              "      <div>\n",
              "<style scoped>\n",
              "    .dataframe tbody tr th:only-of-type {\n",
              "        vertical-align: middle;\n",
              "    }\n",
              "\n",
              "    .dataframe tbody tr th {\n",
              "        vertical-align: top;\n",
              "    }\n",
              "\n",
              "    .dataframe thead th {\n",
              "        text-align: right;\n",
              "    }\n",
              "</style>\n",
              "<table border=\"1\" class=\"dataframe\">\n",
              "  <thead>\n",
              "    <tr style=\"text-align: right;\">\n",
              "      <th></th>\n",
              "      <th>Text</th>\n",
              "      <th>Label</th>\n",
              "    </tr>\n",
              "  </thead>\n",
              "  <tbody>\n",
              "    <tr>\n",
              "      <th>0</th>\n",
              "      <td>The plaintiff alleges that the defendant commi...</td>\n",
              "      <td>litigious</td>\n",
              "    </tr>\n",
              "    <tr>\n",
              "      <th>1</th>\n",
              "      <td>The company is facing a lawsuit for patent inf...</td>\n",
              "      <td>litigious</td>\n",
              "    </tr>\n",
              "    <tr>\n",
              "      <th>2</th>\n",
              "      <td>The accused party is being sued for breach of ...</td>\n",
              "      <td>litigious</td>\n",
              "    </tr>\n",
              "    <tr>\n",
              "      <th>3</th>\n",
              "      <td>I will bury this place in so much law suit tha...</td>\n",
              "      <td>litigious</td>\n",
              "    </tr>\n",
              "    <tr>\n",
              "      <th>4</th>\n",
              "      <td>The plaintiff claims substantial damages resul...</td>\n",
              "      <td>litigious</td>\n",
              "    </tr>\n",
              "  </tbody>\n",
              "</table>\n",
              "</div>\n",
              "      <button class=\"colab-df-convert\" onclick=\"convertToInteractive('df-714313bf-18c4-44f9-85ed-f8e9f10e37ec')\"\n",
              "              title=\"Convert this dataframe to an interactive table.\"\n",
              "              style=\"display:none;\">\n",
              "        \n",
              "  <svg xmlns=\"http://www.w3.org/2000/svg\" height=\"24px\"viewBox=\"0 0 24 24\"\n",
              "       width=\"24px\">\n",
              "    <path d=\"M0 0h24v24H0V0z\" fill=\"none\"/>\n",
              "    <path d=\"M18.56 5.44l.94 2.06.94-2.06 2.06-.94-2.06-.94-.94-2.06-.94 2.06-2.06.94zm-11 1L8.5 8.5l.94-2.06 2.06-.94-2.06-.94L8.5 2.5l-.94 2.06-2.06.94zm10 10l.94 2.06.94-2.06 2.06-.94-2.06-.94-.94-2.06-.94 2.06-2.06.94z\"/><path d=\"M17.41 7.96l-1.37-1.37c-.4-.4-.92-.59-1.43-.59-.52 0-1.04.2-1.43.59L10.3 9.45l-7.72 7.72c-.78.78-.78 2.05 0 2.83L4 21.41c.39.39.9.59 1.41.59.51 0 1.02-.2 1.41-.59l7.78-7.78 2.81-2.81c.8-.78.8-2.07 0-2.86zM5.41 20L4 18.59l7.72-7.72 1.47 1.35L5.41 20z\"/>\n",
              "  </svg>\n",
              "      </button>\n",
              "      \n",
              "  <style>\n",
              "    .colab-df-container {\n",
              "      display:flex;\n",
              "      flex-wrap:wrap;\n",
              "      gap: 12px;\n",
              "    }\n",
              "\n",
              "    .colab-df-convert {\n",
              "      background-color: #E8F0FE;\n",
              "      border: none;\n",
              "      border-radius: 50%;\n",
              "      cursor: pointer;\n",
              "      display: none;\n",
              "      fill: #1967D2;\n",
              "      height: 32px;\n",
              "      padding: 0 0 0 0;\n",
              "      width: 32px;\n",
              "    }\n",
              "\n",
              "    .colab-df-convert:hover {\n",
              "      background-color: #E2EBFA;\n",
              "      box-shadow: 0px 1px 2px rgba(60, 64, 67, 0.3), 0px 1px 3px 1px rgba(60, 64, 67, 0.15);\n",
              "      fill: #174EA6;\n",
              "    }\n",
              "\n",
              "    [theme=dark] .colab-df-convert {\n",
              "      background-color: #3B4455;\n",
              "      fill: #D2E3FC;\n",
              "    }\n",
              "\n",
              "    [theme=dark] .colab-df-convert:hover {\n",
              "      background-color: #434B5C;\n",
              "      box-shadow: 0px 1px 3px 1px rgba(0, 0, 0, 0.15);\n",
              "      filter: drop-shadow(0px 1px 2px rgba(0, 0, 0, 0.3));\n",
              "      fill: #FFFFFF;\n",
              "    }\n",
              "  </style>\n",
              "\n",
              "      <script>\n",
              "        const buttonEl =\n",
              "          document.querySelector('#df-714313bf-18c4-44f9-85ed-f8e9f10e37ec button.colab-df-convert');\n",
              "        buttonEl.style.display =\n",
              "          google.colab.kernel.accessAllowed ? 'block' : 'none';\n",
              "\n",
              "        async function convertToInteractive(key) {\n",
              "          const element = document.querySelector('#df-714313bf-18c4-44f9-85ed-f8e9f10e37ec');\n",
              "          const dataTable =\n",
              "            await google.colab.kernel.invokeFunction('convertToInteractive',\n",
              "                                                     [key], {});\n",
              "          if (!dataTable) return;\n",
              "\n",
              "          const docLinkHtml = 'Like what you see? Visit the ' +\n",
              "            '<a target=\"_blank\" href=https://colab.research.google.com/notebooks/data_table.ipynb>data table notebook</a>'\n",
              "            + ' to learn more about interactive tables.';\n",
              "          element.innerHTML = '';\n",
              "          dataTable['output_type'] = 'display_data';\n",
              "          await google.colab.output.renderOutput(dataTable, element);\n",
              "          const docLink = document.createElement('div');\n",
              "          docLink.innerHTML = docLinkHtml;\n",
              "          element.appendChild(docLink);\n",
              "        }\n",
              "      </script>\n",
              "    </div>\n",
              "  </div>\n",
              "  "
            ],
            "text/plain": [
              "                                                Text      Label\n",
              "0  The plaintiff alleges that the defendant commi...  litigious\n",
              "1  The company is facing a lawsuit for patent inf...  litigious\n",
              "2  The accused party is being sued for breach of ...  litigious\n",
              "3  I will bury this place in so much law suit tha...  litigious\n",
              "4  The plaintiff claims substantial damages resul...  litigious"
            ]
          },
          "execution_count": 11,
          "metadata": {},
<<<<<<< HEAD
          "output_type": "execute_result"
=======
          "execution_count": 138
>>>>>>> main
        }
      ],
      "source": [
        "import pandas as pd\n",
        "\n",
        "new_records = []\n",
        "\n",
        "litigious_sentences = [\n",
        "    'The plaintiff alleges that the defendant committed defamation by spreading false and damaging statements about their character.',\n",
        "    'The company is facing a lawsuit for patent infringement due to their unauthorized use of a patented technology.',\n",
        "    'The accused party is being sued for breach of contract, as they failed to fulfill their obligations as outlined in the signed agreement.',\n",
        "    'I will bury this place in so much law suit that your grand children are going to need lawyers',\n",
        "    'The plaintiff claims substantial damages resulting from the defendant\\'s fraudulent activities, including misrepresentation of financial information.',\n",
        "    'The employer is facing a legal battle over allegations of wrongful termination and violation of labor laws, as the employee argues they were fired without just cause.',\n",
        "    'The plaintiff seeks compensation for the alleged negligence of the defendant, which resulted in personal injury and financial loss.',\n",
        "    'The company filed a lawsuit against its former employee for alleged misappropriation of trade secrets, claiming significant damages.',\n",
        "    'The court issued an injunction to prevent the defendant from further trademark violation and ordered them to cease all unauthorized use of the protected mark.',\n",
        "    'The plaintiff accuses the defendant of libel and slander, claiming that the false statements made by the defendant harmed their personal and professional reputation.',\n",
        "    'The dispute between the two parties arose from an alleged breach of fiduciary duty, with the plaintiff asserting that the defendant prioritized personal gain over their legal obligations.',\n",
        "    'The neighbors filed a complaint against each other for alleged trespassing, seeking a restraining order to prevent further disputes.',\n",
        "    'The landlord is facing a lawsuit from the tenant, claiming breach of contract due to the landlord\\'s failure to address necessary repairs in a timely manner.',\n",
        "    'A legal battle between former spouses ensued over child custody, with both parties accusing each other of parental alienation and seeking sole custody rights.',\n",
        "    'The homeowners\\' association sent a cease and desist letter to a resident for violating community guidelines by conducting business activities from their home.',\n",
        "    'Siblings engaged in a dispute over their late parent\\'s estate, resulting in a contentious probate case with allegations of undue influence and mismanagement of assets.'\n",
        "]\n",
        "\n",
        "for i in range(1800):\n",
        "  for sentence in litigious_sentences:\n",
        "    text = sentence\n",
        "    label = 'litigious'\n",
        "    record = {'Text': text, 'Label': label}\n",
        "    new_records.append(record)\n",
        "\n",
        "\n",
        "engineered_litigious_df = pd.DataFrame(new_records)\n",
        "\n",
        "engineered_litigious_df.head()"
      ]
    },
    {
      "cell_type": "code",
<<<<<<< HEAD
      "execution_count": 12,
=======
      "source": [
        "litigious_df.shape"
      ],
>>>>>>> main
      "metadata": {
        "colab": {
          "base_uri": "https://localhost:8080/"
        },
        "id": "1zyyj5Yx9jNm",
        "outputId": "eb1272f8-babe-48a4-836f-e1064a243081"
      },
<<<<<<< HEAD
=======
      "execution_count": 139,
>>>>>>> main
      "outputs": [
        {
          "data": {
            "text/plain": [
              "(62500, 2)"
            ]
          },
          "execution_count": 12,
          "metadata": {},
<<<<<<< HEAD
          "output_type": "execute_result"
=======
          "execution_count": 139
>>>>>>> main
        }
      ],
      "source": [
        "engineered_litigious_df.shape"
      ]
    },
    {
      "cell_type": "code",
<<<<<<< HEAD
      "execution_count": 13,
=======
      "source": [
        "positive_records = []\n",
        "\n",
        "positive_sentences = [\n",
        "    \"A ray of sunshine illuminated the room, filling it with warmth and joy.\",\n",
        "    \"Laughter echoed through the air, spreading contagious happiness to all.\",\n",
        "    \"Love blossomed like a vibrant garden, filling hearts with pure bliss.\",\n",
        "    \"The melody danced in the air, lifting spirits and creating a symphony of happiness.\",\n",
        "    \"Dreams soared high like colorful kites, painting the sky with endless possibilities.\",\n",
        "    \"Kindness rippled through the community, creating a tapestry of compassion and support.\",\n",
        "    \"Achievement unlocked! The feeling of success washed over, rewarding dedication and hard work.\",\n",
        "    \"The vibrant colors of nature painted a picturesque scene, invoking awe and wonder.\",\n",
        "    \"Friendship sparkled like a precious gem, bringing companionship and endless smiles.\",\n",
        "    \"Hope ignited like a flame, lighting the path to a brighter tomorrow.\",\n",
        "    \"The sweet taste of victory lingered, reminding us that perseverance pays off.\",\n",
        "    \"Innovation flourished, sparking new ideas and shaping a brighter future.\",\n",
        "    \"A gentle breeze whispered serenity, soothing weary souls with tranquility.\",\n",
        "    \"Talent blossomed like a rare flower, captivating hearts with its beauty.\",\n",
        "    \"The embrace of a loved one radiated warmth, reminding us of the power of connection.\",\n",
        "    \"New beginnings unfolded, opening doors to endless opportunities and growth.\",\n",
        "    \"The sound of applause filled the room, celebrating accomplishments and inspiring confidence.\",\n",
        "    \"Courage bloomed in the face of adversity, showing strength and resilience.\",\n",
        "    \"The radiant smiles illuminated the room, spreading contagious happiness.\",\n",
        "    \"Joy overflowed like a bubbling fountain, filling hearts with uncontainable delight.\",\n",
        "    \"The scent of freshly baked goods wafted through the air, invoking feelings of comfort and joy.\",\n",
        "    \"Inspiration sparked like a flame, igniting creativity and passion within.\",\n",
        "    \"The symphony of laughter echoed, creating a harmonious melody of happiness.\",\n",
        "    \"The world shimmered with endless possibilities, inviting dreams to take flight.\",\n",
        "    \"Kind words uplifted spirits, weaving a tapestry of positivity and encouragement.\",\n",
        "]\n",
        "\n",
        "\n",
        "for i in range(2500):\n",
        "  for sentence in positive_sentences:\n",
        "    text = sentence\n",
        "    label = 'positive'\n",
        "    record = {'Text': text, 'Label': label}\n",
        "    positive_records.append(record)\n",
        "\n",
        "\n",
        "positive_df = pd.DataFrame(positive_records)\n",
        "\n",
        "positive_df.head()"
      ],
>>>>>>> main
      "metadata": {
        "id": "q1p-ccmBjRc9",
        "colab": {
          "base_uri": "https://localhost:8080/",
          "height": 206
        },
        "outputId": "ce60615e-268c-4104-eb0e-d127a5542ad7"
      },
<<<<<<< HEAD
=======
      "execution_count": 140,
>>>>>>> main
      "outputs": [
        {
          "data": {
<<<<<<< HEAD
=======
            "text/plain": [
              "                                                Text     Label\n",
              "0  A ray of sunshine illuminated the room, fillin...  positive\n",
              "1  Laughter echoed through the air, spreading con...  positive\n",
              "2  Love blossomed like a vibrant garden, filling ...  positive\n",
              "3  The melody danced in the air, lifting spirits ...  positive\n",
              "4  Dreams soared high like colorful kites, painti...  positive"
            ],
>>>>>>> main
            "text/html": [
              "\n",
              "  <div id=\"df-7d9c71ab-e37b-4b3d-b341-c6a94ea75922\">\n",
              "    <div class=\"colab-df-container\">\n",
              "      <div>\n",
              "<style scoped>\n",
              "    .dataframe tbody tr th:only-of-type {\n",
              "        vertical-align: middle;\n",
              "    }\n",
              "\n",
              "    .dataframe tbody tr th {\n",
              "        vertical-align: top;\n",
              "    }\n",
              "\n",
              "    .dataframe thead th {\n",
              "        text-align: right;\n",
              "    }\n",
              "</style>\n",
              "<table border=\"1\" class=\"dataframe\">\n",
              "  <thead>\n",
              "    <tr style=\"text-align: right;\">\n",
              "      <th></th>\n",
              "      <th>Text</th>\n",
              "      <th>Label</th>\n",
              "    </tr>\n",
              "  </thead>\n",
              "  <tbody>\n",
              "    <tr>\n",
              "      <th>0</th>\n",
              "      <td>A ray of sunshine illuminated the room, fillin...</td>\n",
              "      <td>positive</td>\n",
              "    </tr>\n",
              "    <tr>\n",
              "      <th>1</th>\n",
              "      <td>Laughter echoed through the air, spreading con...</td>\n",
              "      <td>positive</td>\n",
              "    </tr>\n",
              "    <tr>\n",
              "      <th>2</th>\n",
              "      <td>Love blossomed like a vibrant garden, filling ...</td>\n",
              "      <td>positive</td>\n",
              "    </tr>\n",
              "    <tr>\n",
              "      <th>3</th>\n",
              "      <td>The melody danced in the air, lifting spirits ...</td>\n",
              "      <td>positive</td>\n",
              "    </tr>\n",
              "    <tr>\n",
              "      <th>4</th>\n",
              "      <td>Dreams soared high like colorful kites, painti...</td>\n",
              "      <td>positive</td>\n",
              "    </tr>\n",
              "  </tbody>\n",
              "</table>\n",
              "</div>\n",
              "      <button class=\"colab-df-convert\" onclick=\"convertToInteractive('df-7d9c71ab-e37b-4b3d-b341-c6a94ea75922')\"\n",
              "              title=\"Convert this dataframe to an interactive table.\"\n",
              "              style=\"display:none;\">\n",
              "        \n",
              "  <svg xmlns=\"http://www.w3.org/2000/svg\" height=\"24px\"viewBox=\"0 0 24 24\"\n",
              "       width=\"24px\">\n",
              "    <path d=\"M0 0h24v24H0V0z\" fill=\"none\"/>\n",
              "    <path d=\"M18.56 5.44l.94 2.06.94-2.06 2.06-.94-2.06-.94-.94-2.06-.94 2.06-2.06.94zm-11 1L8.5 8.5l.94-2.06 2.06-.94-2.06-.94L8.5 2.5l-.94 2.06-2.06.94zm10 10l.94 2.06.94-2.06 2.06-.94-2.06-.94-.94-2.06-.94 2.06-2.06.94z\"/><path d=\"M17.41 7.96l-1.37-1.37c-.4-.4-.92-.59-1.43-.59-.52 0-1.04.2-1.43.59L10.3 9.45l-7.72 7.72c-.78.78-.78 2.05 0 2.83L4 21.41c.39.39.9.59 1.41.59.51 0 1.02-.2 1.41-.59l7.78-7.78 2.81-2.81c.8-.78.8-2.07 0-2.86zM5.41 20L4 18.59l7.72-7.72 1.47 1.35L5.41 20z\"/>\n",
              "  </svg>\n",
              "      </button>\n",
              "      \n",
              "  <style>\n",
              "    .colab-df-container {\n",
              "      display:flex;\n",
              "      flex-wrap:wrap;\n",
              "      gap: 12px;\n",
              "    }\n",
              "\n",
              "    .colab-df-convert {\n",
              "      background-color: #E8F0FE;\n",
              "      border: none;\n",
              "      border-radius: 50%;\n",
              "      cursor: pointer;\n",
              "      display: none;\n",
              "      fill: #1967D2;\n",
              "      height: 32px;\n",
              "      padding: 0 0 0 0;\n",
              "      width: 32px;\n",
              "    }\n",
              "\n",
              "    .colab-df-convert:hover {\n",
              "      background-color: #E2EBFA;\n",
              "      box-shadow: 0px 1px 2px rgba(60, 64, 67, 0.3), 0px 1px 3px 1px rgba(60, 64, 67, 0.15);\n",
              "      fill: #174EA6;\n",
              "    }\n",
              "\n",
              "    [theme=dark] .colab-df-convert {\n",
              "      background-color: #3B4455;\n",
              "      fill: #D2E3FC;\n",
              "    }\n",
              "\n",
              "    [theme=dark] .colab-df-convert:hover {\n",
              "      background-color: #434B5C;\n",
              "      box-shadow: 0px 1px 3px 1px rgba(0, 0, 0, 0.15);\n",
              "      filter: drop-shadow(0px 1px 2px rgba(0, 0, 0, 0.3));\n",
              "      fill: #FFFFFF;\n",
              "    }\n",
              "  </style>\n",
              "\n",
              "      <script>\n",
              "        const buttonEl =\n",
              "          document.querySelector('#df-7d9c71ab-e37b-4b3d-b341-c6a94ea75922 button.colab-df-convert');\n",
              "        buttonEl.style.display =\n",
              "          google.colab.kernel.accessAllowed ? 'block' : 'none';\n",
              "\n",
              "        async function convertToInteractive(key) {\n",
              "          const element = document.querySelector('#df-7d9c71ab-e37b-4b3d-b341-c6a94ea75922');\n",
              "          const dataTable =\n",
              "            await google.colab.kernel.invokeFunction('convertToInteractive',\n",
              "                                                     [key], {});\n",
              "          if (!dataTable) return;\n",
              "\n",
              "          const docLinkHtml = 'Like what you see? Visit the ' +\n",
              "            '<a target=\"_blank\" href=https://colab.research.google.com/notebooks/data_table.ipynb>data table notebook</a>'\n",
              "            + ' to learn more about interactive tables.';\n",
              "          element.innerHTML = '';\n",
              "          dataTable['output_type'] = 'display_data';\n",
              "          await google.colab.output.renderOutput(dataTable, element);\n",
              "          const docLink = document.createElement('div');\n",
              "          docLink.innerHTML = docLinkHtml;\n",
              "          element.appendChild(docLink);\n",
              "        }\n",
              "      </script>\n",
              "    </div>\n",
              "  </div>\n",
              "  "
            ],
            "text/plain": [
              "                                                     Text      Label\n",
              "0       @Charlie_Corley @Kristine1G @amyklobuchar @Sty...  litigious\n",
              "1       https://t.co/YJNiO0p1JV Flagstar Bank disclose...  litigious\n",
              "2       OOPS. I typed her name incorrectly (today’s br...  litigious\n",
              "3       @SaltBurned [When the first sign of surrender ...  litigious\n",
              "4       \"It's Your fight to save the UK from the liars...  litigious\n",
              "...                                                   ...        ...\n",
              "119995  The neighbors filed a complaint against each o...  litigious\n",
              "119996  The landlord is facing a lawsuit from the tena...  litigious\n",
              "119997  A legal battle between former spouses ensued o...  litigious\n",
              "119998  The homeowners' association sent a cease and d...  litigious\n",
              "119999  Siblings engaged in a dispute over their late ...  litigious\n",
              "\n",
              "[120000 rows x 2 columns]"
            ]
          },
          "execution_count": 13,
          "metadata": {},
<<<<<<< HEAD
          "output_type": "execute_result"
=======
          "execution_count": 140
        }
      ]
    },
    {
      "cell_type": "code",
      "source": [
        "positive_df.shape"
      ],
      "metadata": {
        "colab": {
          "base_uri": "https://localhost:8080/"
        },
        "id": "3k7HFpIAtP7S",
        "outputId": "52637175-5d81-45cc-9dd8-107a2ef89e51"
      },
      "execution_count": 141,
      "outputs": [
        {
          "output_type": "execute_result",
          "data": {
            "text/plain": [
              "(62500, 2)"
            ]
          },
          "metadata": {},
          "execution_count": 141
        }
      ]
    },
    {
      "cell_type": "code",
      "source": [
        "negative_records = []\n",
        "\n",
        "negative_sentences = [\n",
        "    \"Everything fell apart, leaving nothing but ruins in its wake.\",\n",
        "    \"The world seemed engulfed in darkness, with no hope in sight.\",\n",
        "    \"My heart shattered into a million pieces, irreparable and broken.\",\n",
        "    \"The relentless pain gnawed at my soul, consuming any flicker of joy.\",\n",
        "    \"Loneliness gripped me tightly, suffocating any sense of connection.\",\n",
        "    \"All efforts were in vain, leading to a bitter and disappointing outcome.\",\n",
        "    \"Regret seeped into my being, poisoning every thought and action.\",\n",
        "    \"The weight of despair pressed upon my shoulders, crushing any sense of optimism.\",\n",
        "    \"Tears cascaded down my cheeks, a river of sorrow and anguish.\",\n",
        "    \"Betrayal cut deep, leaving scars that would never truly heal.\",\n",
        "    \"Fear took hold of me, paralyzing any chance of taking a leap of faith.\",\n",
        "    \"The dreams I once cherished turned into ashes, fading into oblivion.\",\n",
        "    \"Every step forward seemed to lead to a deeper abyss of despair.\",\n",
        "    \"Failure consumed me, whispering words of self-doubt and worthlessness.\",\n",
        "    \"Dark clouds loomed overhead, casting a shadow of gloom upon everything.\",\n",
        "    \"Bitterness poisoned my heart, staining even the sweetest moments.\",\n",
        "    \"The world became a cruel and unforgiving place, devoid of compassion.\",\n",
        "    \"The shattered pieces of trust could never be reassembled.\",\n",
        "    \"My spirit was shattered, leaving me numb and hollow inside.\",\n",
        "    \"The echoes of pain reverberated through my existence, a constant reminder.\",\n",
        "    \"Desperation gripped my soul, leaving me grasping for any glimmer of hope.\",\n",
        "    \"Anguish clung to me like a heavy cloak, draining away any remnants of happiness.\",\n",
        "    \"The walls closed in around me, suffocating any chance of escape.\",\n",
        "    \"Grief consumed me, engulfing every fiber of my being.\",\n",
        "    \"There was no solace to be found, only a never-ending abyss of sorrow.\"\n",
        "]\n",
        "\n",
        "for i in range(2500):\n",
        "  for sentence in negative_sentences:\n",
        "    text = sentence\n",
        "    label = 'negative'\n",
        "    record = {'Text': text, 'Label': label}\n",
        "    negative_records.append(record)\n",
        "\n",
        "\n",
        "negative_df = pd.DataFrame(negative_records)\n",
        "\n",
        "negative_df.head()"
      ],
      "metadata": {
        "colab": {
          "base_uri": "https://localhost:8080/",
          "height": 206
        },
        "id": "F_2u2IwMmzYj",
        "outputId": "8e271366-1512-47de-89b1-a02085c02575"
      },
      "execution_count": 142,
      "outputs": [
        {
          "output_type": "execute_result",
          "data": {
            "text/plain": [
              "                                                Text     Label\n",
              "0  Everything fell apart, leaving nothing but rui...  negative\n",
              "1  The world seemed engulfed in darkness, with no...  negative\n",
              "2  My heart shattered into a million pieces, irre...  negative\n",
              "3  The relentless pain gnawed at my soul, consumi...  negative\n",
              "4  Loneliness gripped me tightly, suffocating any...  negative"
            ],
            "text/html": [
              "\n",
              "  <div id=\"df-bb36c180-cc27-43bf-a603-e457085365ac\">\n",
              "    <div class=\"colab-df-container\">\n",
              "      <div>\n",
              "<style scoped>\n",
              "    .dataframe tbody tr th:only-of-type {\n",
              "        vertical-align: middle;\n",
              "    }\n",
              "\n",
              "    .dataframe tbody tr th {\n",
              "        vertical-align: top;\n",
              "    }\n",
              "\n",
              "    .dataframe thead th {\n",
              "        text-align: right;\n",
              "    }\n",
              "</style>\n",
              "<table border=\"1\" class=\"dataframe\">\n",
              "  <thead>\n",
              "    <tr style=\"text-align: right;\">\n",
              "      <th></th>\n",
              "      <th>Text</th>\n",
              "      <th>Label</th>\n",
              "    </tr>\n",
              "  </thead>\n",
              "  <tbody>\n",
              "    <tr>\n",
              "      <th>0</th>\n",
              "      <td>Everything fell apart, leaving nothing but rui...</td>\n",
              "      <td>negative</td>\n",
              "    </tr>\n",
              "    <tr>\n",
              "      <th>1</th>\n",
              "      <td>The world seemed engulfed in darkness, with no...</td>\n",
              "      <td>negative</td>\n",
              "    </tr>\n",
              "    <tr>\n",
              "      <th>2</th>\n",
              "      <td>My heart shattered into a million pieces, irre...</td>\n",
              "      <td>negative</td>\n",
              "    </tr>\n",
              "    <tr>\n",
              "      <th>3</th>\n",
              "      <td>The relentless pain gnawed at my soul, consumi...</td>\n",
              "      <td>negative</td>\n",
              "    </tr>\n",
              "    <tr>\n",
              "      <th>4</th>\n",
              "      <td>Loneliness gripped me tightly, suffocating any...</td>\n",
              "      <td>negative</td>\n",
              "    </tr>\n",
              "  </tbody>\n",
              "</table>\n",
              "</div>\n",
              "      <button class=\"colab-df-convert\" onclick=\"convertToInteractive('df-bb36c180-cc27-43bf-a603-e457085365ac')\"\n",
              "              title=\"Convert this dataframe to an interactive table.\"\n",
              "              style=\"display:none;\">\n",
              "        \n",
              "  <svg xmlns=\"http://www.w3.org/2000/svg\" height=\"24px\"viewBox=\"0 0 24 24\"\n",
              "       width=\"24px\">\n",
              "    <path d=\"M0 0h24v24H0V0z\" fill=\"none\"/>\n",
              "    <path d=\"M18.56 5.44l.94 2.06.94-2.06 2.06-.94-2.06-.94-.94-2.06-.94 2.06-2.06.94zm-11 1L8.5 8.5l.94-2.06 2.06-.94-2.06-.94L8.5 2.5l-.94 2.06-2.06.94zm10 10l.94 2.06.94-2.06 2.06-.94-2.06-.94-.94-2.06-.94 2.06-2.06.94z\"/><path d=\"M17.41 7.96l-1.37-1.37c-.4-.4-.92-.59-1.43-.59-.52 0-1.04.2-1.43.59L10.3 9.45l-7.72 7.72c-.78.78-.78 2.05 0 2.83L4 21.41c.39.39.9.59 1.41.59.51 0 1.02-.2 1.41-.59l7.78-7.78 2.81-2.81c.8-.78.8-2.07 0-2.86zM5.41 20L4 18.59l7.72-7.72 1.47 1.35L5.41 20z\"/>\n",
              "  </svg>\n",
              "      </button>\n",
              "      \n",
              "  <style>\n",
              "    .colab-df-container {\n",
              "      display:flex;\n",
              "      flex-wrap:wrap;\n",
              "      gap: 12px;\n",
              "    }\n",
              "\n",
              "    .colab-df-convert {\n",
              "      background-color: #E8F0FE;\n",
              "      border: none;\n",
              "      border-radius: 50%;\n",
              "      cursor: pointer;\n",
              "      display: none;\n",
              "      fill: #1967D2;\n",
              "      height: 32px;\n",
              "      padding: 0 0 0 0;\n",
              "      width: 32px;\n",
              "    }\n",
              "\n",
              "    .colab-df-convert:hover {\n",
              "      background-color: #E2EBFA;\n",
              "      box-shadow: 0px 1px 2px rgba(60, 64, 67, 0.3), 0px 1px 3px 1px rgba(60, 64, 67, 0.15);\n",
              "      fill: #174EA6;\n",
              "    }\n",
              "\n",
              "    [theme=dark] .colab-df-convert {\n",
              "      background-color: #3B4455;\n",
              "      fill: #D2E3FC;\n",
              "    }\n",
              "\n",
              "    [theme=dark] .colab-df-convert:hover {\n",
              "      background-color: #434B5C;\n",
              "      box-shadow: 0px 1px 3px 1px rgba(0, 0, 0, 0.15);\n",
              "      filter: drop-shadow(0px 1px 2px rgba(0, 0, 0, 0.3));\n",
              "      fill: #FFFFFF;\n",
              "    }\n",
              "  </style>\n",
              "\n",
              "      <script>\n",
              "        const buttonEl =\n",
              "          document.querySelector('#df-bb36c180-cc27-43bf-a603-e457085365ac button.colab-df-convert');\n",
              "        buttonEl.style.display =\n",
              "          google.colab.kernel.accessAllowed ? 'block' : 'none';\n",
              "\n",
              "        async function convertToInteractive(key) {\n",
              "          const element = document.querySelector('#df-bb36c180-cc27-43bf-a603-e457085365ac');\n",
              "          const dataTable =\n",
              "            await google.colab.kernel.invokeFunction('convertToInteractive',\n",
              "                                                     [key], {});\n",
              "          if (!dataTable) return;\n",
              "\n",
              "          const docLinkHtml = 'Like what you see? Visit the ' +\n",
              "            '<a target=\"_blank\" href=https://colab.research.google.com/notebooks/data_table.ipynb>data table notebook</a>'\n",
              "            + ' to learn more about interactive tables.';\n",
              "          element.innerHTML = '';\n",
              "          dataTable['output_type'] = 'display_data';\n",
              "          await google.colab.output.renderOutput(dataTable, element);\n",
              "          const docLink = document.createElement('div');\n",
              "          docLink.innerHTML = docLinkHtml;\n",
              "          element.appendChild(docLink);\n",
              "        }\n",
              "      </script>\n",
              "    </div>\n",
              "  </div>\n",
              "  "
            ]
          },
          "metadata": {},
          "execution_count": 142
        }
      ]
    },
    {
      "cell_type": "code",
      "source": [
        "negative_df.shape"
      ],
      "metadata": {
        "colab": {
          "base_uri": "https://localhost:8080/"
        },
        "id": "RUIG1ThftWvx",
        "outputId": "2a6021a3-2682-4c55-9798-5480e80fda2f"
      },
      "execution_count": 143,
      "outputs": [
        {
          "output_type": "execute_result",
          "data": {
            "text/plain": [
              "(62500, 2)"
            ]
          },
          "metadata": {},
          "execution_count": 143
        }
      ]
    },
    {
      "cell_type": "code",
      "source": [
        "uncertainty_records = []\n",
        "\n",
        "uncertainty_sentences = [\n",
        "    \"I'm not quite sure how things will turn out in the end.\",\n",
        "    \"There seems to be a lot of unknowns in this situation.\",\n",
        "    \"It's hard to say for certain what the future holds.\",\n",
        "    \"I find myself grappling with doubt and uncertainty.\",\n",
        "    \"There's a sense of ambiguity surrounding this decision.\",\n",
        "    \"I'm not entirely confident in my ability to make the right choice.\",\n",
        "    \"Uncertainty clouds my judgment, making it difficult to decide.\",\n",
        "    \"The outcome is up in the air, leaving me feeling unsure.\",\n",
        "    \"I can't say with absolute certainty what the best course of action is.\",\n",
        "    \"There's a lingering sense of doubt that I can't shake off.\",\n",
        "    \"It feels like I'm navigating through a fog of uncertainty.\",\n",
        "    \"The answers to my questions remain elusive and uncertain.\",\n",
        "    \"I'm caught in a state of indecision, unsure which path to take.\",\n",
        "    \"There's a constant nagging of uncertainty at the back of my mind.\",\n",
        "    \"I find myself second-guessing every step I take.\",\n",
        "    \"It's a complex situation, leaving me uncertain about the right approach.\",\n",
        "    \"I'm wavering between different possibilities, unable to commit.\",\n",
        "    \"The future feels unpredictable, with no clear path forward.\",\n",
        "    \"There are so many variables at play, making it hard to predict the outcome.\",\n",
        "    \"I'm grappling with a sense of doubt and unease about what lies ahead.\",\n",
        "    \"The situation is filled with ambiguity, leaving me feeling lost.\",\n",
        "    \"I'm uncertain about the implications and consequences of my choices.\",\n",
        "    \"The answers I seek remain elusive, leaving me in a state of uncertainty.\",\n",
        "    \"I'm struggling to find clarity amidst a sea of uncertainties.\",\n",
        "    \"It's a challenging decision to make, and I'm uncertain about the right path.\"\n",
        "]\n",
        "\n",
        "\n",
        "for i in range(2500):\n",
        "  for sentence in uncertainty_sentences:\n",
        "    text = sentence\n",
        "    label = 'uncertainty'\n",
        "    record = {'Text': text, 'Label': label}\n",
        "    uncertainty_records.append(record)\n",
        "\n",
        "\n",
        "uncertainty_df = pd.DataFrame(uncertainty_records)\n",
        "\n",
        "uncertainty_df.head()"
      ],
      "metadata": {
        "colab": {
          "base_uri": "https://localhost:8080/",
          "height": 206
        },
        "id": "lbqCSvjfm18c",
        "outputId": "0d646565-3180-4249-b29d-97eb8bbd1532"
      },
      "execution_count": 144,
      "outputs": [
        {
          "output_type": "execute_result",
          "data": {
            "text/plain": [
              "                                                Text        Label\n",
              "0  I'm not quite sure how things will turn out in...  uncertainty\n",
              "1  There seems to be a lot of unknowns in this si...  uncertainty\n",
              "2  It's hard to say for certain what the future h...  uncertainty\n",
              "3  I find myself grappling with doubt and uncerta...  uncertainty\n",
              "4  There's a sense of ambiguity surrounding this ...  uncertainty"
            ],
            "text/html": [
              "\n",
              "  <div id=\"df-b83ea6cd-d87b-4311-a63b-1870da3908ca\">\n",
              "    <div class=\"colab-df-container\">\n",
              "      <div>\n",
              "<style scoped>\n",
              "    .dataframe tbody tr th:only-of-type {\n",
              "        vertical-align: middle;\n",
              "    }\n",
              "\n",
              "    .dataframe tbody tr th {\n",
              "        vertical-align: top;\n",
              "    }\n",
              "\n",
              "    .dataframe thead th {\n",
              "        text-align: right;\n",
              "    }\n",
              "</style>\n",
              "<table border=\"1\" class=\"dataframe\">\n",
              "  <thead>\n",
              "    <tr style=\"text-align: right;\">\n",
              "      <th></th>\n",
              "      <th>Text</th>\n",
              "      <th>Label</th>\n",
              "    </tr>\n",
              "  </thead>\n",
              "  <tbody>\n",
              "    <tr>\n",
              "      <th>0</th>\n",
              "      <td>I'm not quite sure how things will turn out in...</td>\n",
              "      <td>uncertainty</td>\n",
              "    </tr>\n",
              "    <tr>\n",
              "      <th>1</th>\n",
              "      <td>There seems to be a lot of unknowns in this si...</td>\n",
              "      <td>uncertainty</td>\n",
              "    </tr>\n",
              "    <tr>\n",
              "      <th>2</th>\n",
              "      <td>It's hard to say for certain what the future h...</td>\n",
              "      <td>uncertainty</td>\n",
              "    </tr>\n",
              "    <tr>\n",
              "      <th>3</th>\n",
              "      <td>I find myself grappling with doubt and uncerta...</td>\n",
              "      <td>uncertainty</td>\n",
              "    </tr>\n",
              "    <tr>\n",
              "      <th>4</th>\n",
              "      <td>There's a sense of ambiguity surrounding this ...</td>\n",
              "      <td>uncertainty</td>\n",
              "    </tr>\n",
              "  </tbody>\n",
              "</table>\n",
              "</div>\n",
              "      <button class=\"colab-df-convert\" onclick=\"convertToInteractive('df-b83ea6cd-d87b-4311-a63b-1870da3908ca')\"\n",
              "              title=\"Convert this dataframe to an interactive table.\"\n",
              "              style=\"display:none;\">\n",
              "        \n",
              "  <svg xmlns=\"http://www.w3.org/2000/svg\" height=\"24px\"viewBox=\"0 0 24 24\"\n",
              "       width=\"24px\">\n",
              "    <path d=\"M0 0h24v24H0V0z\" fill=\"none\"/>\n",
              "    <path d=\"M18.56 5.44l.94 2.06.94-2.06 2.06-.94-2.06-.94-.94-2.06-.94 2.06-2.06.94zm-11 1L8.5 8.5l.94-2.06 2.06-.94-2.06-.94L8.5 2.5l-.94 2.06-2.06.94zm10 10l.94 2.06.94-2.06 2.06-.94-2.06-.94-.94-2.06-.94 2.06-2.06.94z\"/><path d=\"M17.41 7.96l-1.37-1.37c-.4-.4-.92-.59-1.43-.59-.52 0-1.04.2-1.43.59L10.3 9.45l-7.72 7.72c-.78.78-.78 2.05 0 2.83L4 21.41c.39.39.9.59 1.41.59.51 0 1.02-.2 1.41-.59l7.78-7.78 2.81-2.81c.8-.78.8-2.07 0-2.86zM5.41 20L4 18.59l7.72-7.72 1.47 1.35L5.41 20z\"/>\n",
              "  </svg>\n",
              "      </button>\n",
              "      \n",
              "  <style>\n",
              "    .colab-df-container {\n",
              "      display:flex;\n",
              "      flex-wrap:wrap;\n",
              "      gap: 12px;\n",
              "    }\n",
              "\n",
              "    .colab-df-convert {\n",
              "      background-color: #E8F0FE;\n",
              "      border: none;\n",
              "      border-radius: 50%;\n",
              "      cursor: pointer;\n",
              "      display: none;\n",
              "      fill: #1967D2;\n",
              "      height: 32px;\n",
              "      padding: 0 0 0 0;\n",
              "      width: 32px;\n",
              "    }\n",
              "\n",
              "    .colab-df-convert:hover {\n",
              "      background-color: #E2EBFA;\n",
              "      box-shadow: 0px 1px 2px rgba(60, 64, 67, 0.3), 0px 1px 3px 1px rgba(60, 64, 67, 0.15);\n",
              "      fill: #174EA6;\n",
              "    }\n",
              "\n",
              "    [theme=dark] .colab-df-convert {\n",
              "      background-color: #3B4455;\n",
              "      fill: #D2E3FC;\n",
              "    }\n",
              "\n",
              "    [theme=dark] .colab-df-convert:hover {\n",
              "      background-color: #434B5C;\n",
              "      box-shadow: 0px 1px 3px 1px rgba(0, 0, 0, 0.15);\n",
              "      filter: drop-shadow(0px 1px 2px rgba(0, 0, 0, 0.3));\n",
              "      fill: #FFFFFF;\n",
              "    }\n",
              "  </style>\n",
              "\n",
              "      <script>\n",
              "        const buttonEl =\n",
              "          document.querySelector('#df-b83ea6cd-d87b-4311-a63b-1870da3908ca button.colab-df-convert');\n",
              "        buttonEl.style.display =\n",
              "          google.colab.kernel.accessAllowed ? 'block' : 'none';\n",
              "\n",
              "        async function convertToInteractive(key) {\n",
              "          const element = document.querySelector('#df-b83ea6cd-d87b-4311-a63b-1870da3908ca');\n",
              "          const dataTable =\n",
              "            await google.colab.kernel.invokeFunction('convertToInteractive',\n",
              "                                                     [key], {});\n",
              "          if (!dataTable) return;\n",
              "\n",
              "          const docLinkHtml = 'Like what you see? Visit the ' +\n",
              "            '<a target=\"_blank\" href=https://colab.research.google.com/notebooks/data_table.ipynb>data table notebook</a>'\n",
              "            + ' to learn more about interactive tables.';\n",
              "          element.innerHTML = '';\n",
              "          dataTable['output_type'] = 'display_data';\n",
              "          await google.colab.output.renderOutput(dataTable, element);\n",
              "          const docLink = document.createElement('div');\n",
              "          docLink.innerHTML = docLinkHtml;\n",
              "          element.appendChild(docLink);\n",
              "        }\n",
              "      </script>\n",
              "    </div>\n",
              "  </div>\n",
              "  "
            ]
          },
          "metadata": {},
          "execution_count": 144
        }
      ]
    },
    {
      "cell_type": "code",
      "source": [
        "uncertainty_df.shape"
      ],
      "metadata": {
        "colab": {
          "base_uri": "https://localhost:8080/"
        },
        "id": "ObUHH-1AvbWU",
        "outputId": "2a45881a-c280-4208-cb7f-bbf3a5d0f840"
      },
      "execution_count": 145,
      "outputs": [
        {
          "output_type": "execute_result",
          "data": {
            "text/plain": [
              "(62500, 2)"
            ]
          },
          "metadata": {},
          "execution_count": 145
        }
      ]
    },
    {
      "cell_type": "code",
      "source": [
        "data = pd.concat([litigious_df, uncertainty_df, positive_df, negative_df], axis=0, ignore_index=True)\n",
        "data"
      ],
      "metadata": {
        "colab": {
          "base_uri": "https://localhost:8080/",
          "height": 423
        },
        "id": "D2y2VvJ51eFO",
        "outputId": "0d341365-e880-46e7-f729-22c4f94fc813"
      },
      "execution_count": 146,
      "outputs": [
        {
          "output_type": "execute_result",
          "data": {
            "text/plain": [
              "                                                     Text      Label\n",
              "0       The plaintiff alleges that the defendant commi...  litigious\n",
              "1       The company is facing a lawsuit for patent inf...  litigious\n",
              "2       The accused party is being sued for breach of ...  litigious\n",
              "3       I will bury this place in so much law suit tha...  litigious\n",
              "4       The plaintiff claims substantial damages resul...  litigious\n",
              "...                                                   ...        ...\n",
              "249995  Desperation gripped my soul, leaving me graspi...   negative\n",
              "249996  Anguish clung to me like a heavy cloak, draini...   negative\n",
              "249997  The walls closed in around me, suffocating any...   negative\n",
              "249998  Grief consumed me, engulfing every fiber of my...   negative\n",
              "249999  There was no solace to be found, only a never-...   negative\n",
              "\n",
              "[250000 rows x 2 columns]"
            ],
            "text/html": [
              "\n",
              "  <div id=\"df-71073a0c-8c3a-409c-b0c0-594edd4742f3\">\n",
              "    <div class=\"colab-df-container\">\n",
              "      <div>\n",
              "<style scoped>\n",
              "    .dataframe tbody tr th:only-of-type {\n",
              "        vertical-align: middle;\n",
              "    }\n",
              "\n",
              "    .dataframe tbody tr th {\n",
              "        vertical-align: top;\n",
              "    }\n",
              "\n",
              "    .dataframe thead th {\n",
              "        text-align: right;\n",
              "    }\n",
              "</style>\n",
              "<table border=\"1\" class=\"dataframe\">\n",
              "  <thead>\n",
              "    <tr style=\"text-align: right;\">\n",
              "      <th></th>\n",
              "      <th>Text</th>\n",
              "      <th>Label</th>\n",
              "    </tr>\n",
              "  </thead>\n",
              "  <tbody>\n",
              "    <tr>\n",
              "      <th>0</th>\n",
              "      <td>The plaintiff alleges that the defendant commi...</td>\n",
              "      <td>litigious</td>\n",
              "    </tr>\n",
              "    <tr>\n",
              "      <th>1</th>\n",
              "      <td>The company is facing a lawsuit for patent inf...</td>\n",
              "      <td>litigious</td>\n",
              "    </tr>\n",
              "    <tr>\n",
              "      <th>2</th>\n",
              "      <td>The accused party is being sued for breach of ...</td>\n",
              "      <td>litigious</td>\n",
              "    </tr>\n",
              "    <tr>\n",
              "      <th>3</th>\n",
              "      <td>I will bury this place in so much law suit tha...</td>\n",
              "      <td>litigious</td>\n",
              "    </tr>\n",
              "    <tr>\n",
              "      <th>4</th>\n",
              "      <td>The plaintiff claims substantial damages resul...</td>\n",
              "      <td>litigious</td>\n",
              "    </tr>\n",
              "    <tr>\n",
              "      <th>...</th>\n",
              "      <td>...</td>\n",
              "      <td>...</td>\n",
              "    </tr>\n",
              "    <tr>\n",
              "      <th>249995</th>\n",
              "      <td>Desperation gripped my soul, leaving me graspi...</td>\n",
              "      <td>negative</td>\n",
              "    </tr>\n",
              "    <tr>\n",
              "      <th>249996</th>\n",
              "      <td>Anguish clung to me like a heavy cloak, draini...</td>\n",
              "      <td>negative</td>\n",
              "    </tr>\n",
              "    <tr>\n",
              "      <th>249997</th>\n",
              "      <td>The walls closed in around me, suffocating any...</td>\n",
              "      <td>negative</td>\n",
              "    </tr>\n",
              "    <tr>\n",
              "      <th>249998</th>\n",
              "      <td>Grief consumed me, engulfing every fiber of my...</td>\n",
              "      <td>negative</td>\n",
              "    </tr>\n",
              "    <tr>\n",
              "      <th>249999</th>\n",
              "      <td>There was no solace to be found, only a never-...</td>\n",
              "      <td>negative</td>\n",
              "    </tr>\n",
              "  </tbody>\n",
              "</table>\n",
              "<p>250000 rows × 2 columns</p>\n",
              "</div>\n",
              "      <button class=\"colab-df-convert\" onclick=\"convertToInteractive('df-71073a0c-8c3a-409c-b0c0-594edd4742f3')\"\n",
              "              title=\"Convert this dataframe to an interactive table.\"\n",
              "              style=\"display:none;\">\n",
              "        \n",
              "  <svg xmlns=\"http://www.w3.org/2000/svg\" height=\"24px\"viewBox=\"0 0 24 24\"\n",
              "       width=\"24px\">\n",
              "    <path d=\"M0 0h24v24H0V0z\" fill=\"none\"/>\n",
              "    <path d=\"M18.56 5.44l.94 2.06.94-2.06 2.06-.94-2.06-.94-.94-2.06-.94 2.06-2.06.94zm-11 1L8.5 8.5l.94-2.06 2.06-.94-2.06-.94L8.5 2.5l-.94 2.06-2.06.94zm10 10l.94 2.06.94-2.06 2.06-.94-2.06-.94-.94-2.06-.94 2.06-2.06.94z\"/><path d=\"M17.41 7.96l-1.37-1.37c-.4-.4-.92-.59-1.43-.59-.52 0-1.04.2-1.43.59L10.3 9.45l-7.72 7.72c-.78.78-.78 2.05 0 2.83L4 21.41c.39.39.9.59 1.41.59.51 0 1.02-.2 1.41-.59l7.78-7.78 2.81-2.81c.8-.78.8-2.07 0-2.86zM5.41 20L4 18.59l7.72-7.72 1.47 1.35L5.41 20z\"/>\n",
              "  </svg>\n",
              "      </button>\n",
              "      \n",
              "  <style>\n",
              "    .colab-df-container {\n",
              "      display:flex;\n",
              "      flex-wrap:wrap;\n",
              "      gap: 12px;\n",
              "    }\n",
              "\n",
              "    .colab-df-convert {\n",
              "      background-color: #E8F0FE;\n",
              "      border: none;\n",
              "      border-radius: 50%;\n",
              "      cursor: pointer;\n",
              "      display: none;\n",
              "      fill: #1967D2;\n",
              "      height: 32px;\n",
              "      padding: 0 0 0 0;\n",
              "      width: 32px;\n",
              "    }\n",
              "\n",
              "    .colab-df-convert:hover {\n",
              "      background-color: #E2EBFA;\n",
              "      box-shadow: 0px 1px 2px rgba(60, 64, 67, 0.3), 0px 1px 3px 1px rgba(60, 64, 67, 0.15);\n",
              "      fill: #174EA6;\n",
              "    }\n",
              "\n",
              "    [theme=dark] .colab-df-convert {\n",
              "      background-color: #3B4455;\n",
              "      fill: #D2E3FC;\n",
              "    }\n",
              "\n",
              "    [theme=dark] .colab-df-convert:hover {\n",
              "      background-color: #434B5C;\n",
              "      box-shadow: 0px 1px 3px 1px rgba(0, 0, 0, 0.15);\n",
              "      filter: drop-shadow(0px 1px 2px rgba(0, 0, 0, 0.3));\n",
              "      fill: #FFFFFF;\n",
              "    }\n",
              "  </style>\n",
              "\n",
              "      <script>\n",
              "        const buttonEl =\n",
              "          document.querySelector('#df-71073a0c-8c3a-409c-b0c0-594edd4742f3 button.colab-df-convert');\n",
              "        buttonEl.style.display =\n",
              "          google.colab.kernel.accessAllowed ? 'block' : 'none';\n",
              "\n",
              "        async function convertToInteractive(key) {\n",
              "          const element = document.querySelector('#df-71073a0c-8c3a-409c-b0c0-594edd4742f3');\n",
              "          const dataTable =\n",
              "            await google.colab.kernel.invokeFunction('convertToInteractive',\n",
              "                                                     [key], {});\n",
              "          if (!dataTable) return;\n",
              "\n",
              "          const docLinkHtml = 'Like what you see? Visit the ' +\n",
              "            '<a target=\"_blank\" href=https://colab.research.google.com/notebooks/data_table.ipynb>data table notebook</a>'\n",
              "            + ' to learn more about interactive tables.';\n",
              "          element.innerHTML = '';\n",
              "          dataTable['output_type'] = 'display_data';\n",
              "          await google.colab.output.renderOutput(dataTable, element);\n",
              "          const docLink = document.createElement('div');\n",
              "          docLink.innerHTML = docLinkHtml;\n",
              "          element.appendChild(docLink);\n",
              "        }\n",
              "      </script>\n",
              "    </div>\n",
              "  </div>\n",
              "  "
            ]
          },
          "metadata": {},
          "execution_count": 146
>>>>>>> main
        }
      ],
      "source": [
        "data = pd.concat([litigious_df, uncertainty_df, positive_df, negative_df, engineered_litigious_df], axis=0, ignore_index=True)\n",
        "data"
      ]
    },
    {
      "cell_type": "markdown",
      "metadata": {
        "id": "81BEYRHSbzzR"
      },
      "source": [
        "## EDA"
      ]
    },
    {
      "cell_type": "code",
      "execution_count": 147,
      "metadata": {
        "colab": {
          "base_uri": "https://localhost:8080/"
        },
        "id": "PdpIDmTWr6MR",
        "outputId": "7adf84b6-5d1e-4989-b0e1-339648f96fc9"
      },
      "outputs": [
        {
          "name": "stdout",
          "output_type": "stream",
          "text": [
            "<class 'pandas.core.frame.DataFrame'>\n",
            "RangeIndex: 250000 entries, 0 to 249999\n",
            "Data columns (total 2 columns):\n",
            " #   Column  Non-Null Count   Dtype \n",
            "---  ------  --------------   ----- \n",
            " 0   Text    250000 non-null  object\n",
            " 1   Label   250000 non-null  object\n",
            "dtypes: object(2)\n",
            "memory usage: 3.8+ MB\n"
          ]
        }
      ],
      "source": [
        "data.info()"
      ]
    },
    {
      "cell_type": "code",
      "execution_count": 148,
      "metadata": {
        "colab": {
          "base_uri": "https://localhost:8080/"
        },
        "id": "TXPDU8_rb2HA",
        "outputId": "f75718a1-b0af-4240-e80b-d15b8c36855f"
      },
      "outputs": [
        {
          "data": {
            "text/plain": [
              "litigious      62500\n",
              "uncertainty    62500\n",
              "positive       62500\n",
              "negative       62500\n",
              "Name: Label, dtype: int64"
            ]
          },
          "execution_count": 15,
          "metadata": {},
<<<<<<< HEAD
          "output_type": "execute_result"
=======
          "execution_count": 148
>>>>>>> main
        }
      ],
      "source": [
        "sentiments = data['Label'].value_counts().sort_values(ascending=False)\n",
        "sentiments"
      ]
    },
    {
      "cell_type": "code",
      "execution_count": 149,
      "metadata": {
        "colab": {
          "base_uri": "https://localhost:8080/",
          "height": 546
        },
        "id": "5NLT77j4cvAB",
        "outputId": "e41aba4b-e632-4f97-9bfa-a4d03bb08a71"
      },
      "outputs": [
        {
          "data": {
            "image/png": "iVBORw0KGgoAAAANSUhEUgAAA3QAAAIRCAYAAAAC3v/mAAAAOXRFWHRTb2Z0d2FyZQBNYXRwbG90bGliIHZlcnNpb24zLjcuMSwgaHR0cHM6Ly9tYXRwbG90bGliLm9yZy/bCgiHAAAACXBIWXMAAA9hAAAPYQGoP6dpAABINUlEQVR4nO3de3zO9f/H8ee1XdtsmG0MG+YQk1MOiQ5ETpEIiUo5hb5R+H5/1Tf55lBJvqofFaUsh0L5KkpFB2edKHI+M8w2s9jY2Pn9+8Nv17erDXO89rbH/XbbjetzfF2f1/XZ9tzn5DDGGAEAAAAArOPl6QIAAAAAAJeGQAcAAAAAliLQAQAAAIClCHQAAAAAYCkCHQAAAABYikAHAAAAAJYi0AEAAACApQh0AAAAAGApAh0AAAAAWIpABwCXoG/fvnI4HIqOjvZ0KbjG5s2bp4YNG6pkyZJyOBwaPny4p0u6JDNnzpTD4dDMmTPdhlepUkVVqlS55OU6HA61bNnysmqzWXR0tBwOh/r27evpUgAUEQQ6ANeVXr16yeFwaOrUqRectl27dnI4HFq4cOE1qOzaycjIUFRUlDp27KiwsDD5+fmpZMmSatCggYYPH67Nmzd7usQCudxgcTX89NNP6tWrl06dOqUnnnhCo0ePVvv27c87T25wOt9XYXufhcl3332nrl27Kjw8XL6+vgoODlZkZKQeeOABvfnmmzLGXPOaikpoLYz7IIC8nJ4uAACupIEDB2ru3LmaPn26Bg8efM7poqOj9f333yssLEydOnW6hhVeXbt371aXLl20Y8cOlSlTRm3btlVERIQyMjK0fft2vfvuu3rzzTe1aNEide7c2dPlWuerr76SMUazZ8/W7bffflHz1q9fX126dMl3XFBQ0OUXd4UsW7bM0yW4vPLKKxo5cqScTqfat2+vmjVrytvbW/v27dOqVau0YMECDR48WE5n4fl1pkKFCtqxY4dKlSrl6VIAFBGF5zsgAFwBLVu2VGRkpDZu3KgNGzaoUaNG+U4XFRUlY4z69etXqH4ZvBxHjx5V69atFRMTo+HDh+uVV16Rv7+/2zQJCQkaO3asTpw44aEq7RYbGytJCg8Pv+h5GzRooDFjxlzhiq68G264wdMlSJIOHjyoUaNGKTAwUGvXrlW9evXcxufk5Oi7776Tt7e3hyrMn4+Pj2688UZPlwGgCOGUSwDXnYEDB0qS3n///XzHZ2dna8aMGXI4HBowYIAkadGiRXrkkUcUGRmp4sWLq3jx4rr55pv15ptvKicnp0DrXblypRwOxzl/aT/f6Uvz5s3TXXfdpaCgIBUrVky1atXSyy+/rPT09AKtW5L+9a9/KSYmRg899JD+93//N0+Yk6SyZctqypQpevDBB92Gx8XFaciQIapSpYp8fX0VGhqqbt266bfffsuzjDFjxsjhcGjlypV5xp3r+qE/X3M4bdo01atXT8WKFVO5cuU0aNAgJScnu6bN3Y4HDx7UwYMH3U5N/PNy16xZo06dOqlixYry8/NT+fLldeutt2rs2LEF3mY5OTl69913dcstt6hEiRIqXry4brnlFr3zzjtufc89bXLGjBmSpKpVq7pquhrXUeZ+VlJTU/XMM88oIiJCfn5+ql69uiZMmJDvaYbGGE2ePFm1a9dWsWLFVKFCBT355JNKTk6+qFPn8ps2IyNDb775pho1aqTg4GAFBASoSpUquu+++/T999/nu5zExEQNGjTIddpvnTp1XNuvIH755RdlZ2frrrvuyhPmJMnLy0t33323HA5HvvN2795d5cuXl6+vrypVqqTHH3/cFcj/rGXLlnI4HMrKytIrr7yiGjVqyM/PT5UqVdI///lPZWRkuKbN/RxI0qpVq9w+m7n7/YX2gQMHDujtt9929alKlSp65ZVXXD39z3/+oyZNmqh48eIqW7asnnzySZ05cybfbbRz50717dtXlSpVkq+vr8qVK6eHH35Yu3btyjNtYd0HAVy+6+PP0gDwJ3369NHIkSM1b948vf766woICHAbv2TJEh05ckRt27ZV1apVJUnPPfecvLy81LRpU1WoUEHJyclavny5hg0bpvXr1+vDDz+8avX2799fM2bMUMWKFXX//fcrKChIP//8s1544QUtW7ZM33333QWPIp45c8ZV4+jRoy+4Tj8/P9f/Dxw4oGbNmik2NlatWrXSQw89pMOHD+s///mPvvrqK3366ae69957L+9N/r9nn31W33zzjTp16qR27dppxYoVev/997V3714tX75c0tlAMXr0aE2aNEmS3G460qBBA0nS0qVL1bFjRwUGBqpz586qUKGCjh8/rh07dmjq1KkF2gaS9Oijj2ru3LmqVKmSBgwY4LqmcvDgwVq7dq3mzJnjWu/o0aO1aNEibdq0ScOGDXOdJnm1TpfMzMzU3XffrdjYWHXo0EFOp1OLFi3Sc889p7S0tDzvcciQIXrnnXcUHh6uQYMGydfXV1988YXWrVunzMxM+fj4XHItffv21bx581S3bl317t1b/v7+io2N1dq1a7V06VK1adPGbfqkpCTdcccd8vX1Vffu3ZWenq7//Oc/6t+/v7y8vNSnT58LrrN06dKSpP379ys7O7vAR+I++OADDRo0SH5+furcubMqVaqkPXv2aPr06Vq8eLF+/vlnRURE5Jnv4Ycf1po1a9ShQwcFBgbq66+/1r///W8lJCS4gmju52Ds2LGqXLmyW7gp6DV1Tz/9tFauXOnaB7744guNHDlSGRkZCgkJ0XPPPacuXbqoefPm+u677zRlyhRlZ2frnXfecVvO0qVL1a1bN2VmZqpTp06qXr26YmJi9Nlnn+mrr77SihUr8j1DobDtgwCuAAMA16EePXoYSWbGjBl5xnXu3NlIMv/5z39cw/bu3ZtnuuzsbNO7d28jyfz8889u4/r06WMkmQMHDriGrVixwkgyo0ePzremypUrm8qVK7sNmzFjhpFkunbtak6fPu02bvTo0UaSmTRp0vnfrDFm9erVRpKpUKHCBaf9q3bt2hlJ5uWXX3Yb/sMPPxhvb28TEhJiTp06laeuFStW5FnWgQMHjCTTp08ft+G526tSpUrm4MGDruGZmZmmefPmRpL55Zdf3ObJb3vl6tatm5Fkfv/99zzjjh07doF3fNbcuXONJNOwYUO395eSkmJuvvlmI8nMmTMn3/fx575fSG6P69evb0aPHp3v15IlS9zmqVy5spFkOnTo4Pa5OHr0qClVqpQpVaqUycjIcA3P7X9kZKQ5ceKEa3h6erpr+57rs/fXfeSv2z0pKck4HA5z8803m6ysrDzvLzEx0e21JCPJPPbYY27Tb9u2zXh7e5tatWpdaJMZY872IXc7NG/e3ERFRZmtW7fmW0OuXbt2GR8fH3PDDTeYmJgYt3Hff/+98fLyMl26dHEb3qJFCyPJNGrUyPzxxx9u67/hhhuMl5eXiYuLy/MeW7RokW8NF9oHKleu7FbbiRMnTOnSpU1AQIApU6aM2b59u2tcWlqaqVWrlvH19TVHjx51DT9+/LgJCgoypUuXNtu2bXNbz5YtW0zx4sVNw4YN811/YdoHAVwZnHIJ4Lo0aNAgSdL06dPdhsfFxenrr79W2bJldd9997mG53fdkJeXl4YNGyZJ+uabb65KnZMnT5bT6dQHH3yQ5xTJF154QaVLl3YdJTqfuLg4SVLFihUvav0xMTH69ttvFRERoWeffdZt3O23366HHnpIx48f12effXZRyz2XUaNGuR0dcTqd6tevnyRp3bp1F728/E4rLVOmTIHm/eCDDyRJr776qkqUKOEaXrx4cU2YMEFS3s/P5di0aZPGjh2b79fSpUvznefNN990e4+5n9vk5GS30+pmzZolSRo5cqTbEUNfX1+NHz/+sup2OBwyxsjPz09eXnl/bcg9kvZnAQEBeuONN9yOqtWuXVt33HGHduzYoZSUlAuut3jx4vriiy/UoEEDrVmzRo899pjq1q2rkiVLqkWLFpo6dWqeU5LfeecdZWZmavLkyapQoYLbuNatW6tz585avHixTp06lWd9EyZMUEhIiNv6e/XqpZycHP36668XrLegXnjhBbfagoKC1LlzZ50+fVpPPPGEatWq5Rrn5+ennj17KiMjQzt27HANnz17tpKSkjR27FjVrl3bbfl169bVwIEDtXHjRm3fvj3P+gvTPgjgyuCUSwDXpVatWumGG27QDz/8oB07drh+SZoxY4aysrLUt29ft1PQ/vjjD02cOFFff/219u/fr9TUVLflHTly5IrXePr0aW3atEllypRxndr0V35+fm6/yF1pGzdulCQ1b94831PyWrVqpY8++kgbN25U7969L3t9jRs3zjOsUqVKknRRN2rp1auXPvvsMzVt2lQ9e/bUXXfdpTvuuOOiAu2GDRvk5eWV76lyLVq0kLe3t2v7XAl9+vTJ88y38ylVqpSqV6+eZ3h+2yu3zmbNmuWZ/tZbb72sG/8EBgaqU6dOWrx4sRo0aKD7779fzZs3V9OmTfOczpyrRo0aCgwMPG/tfw7R53LTTTdp48aN+vXXX7VixQpt2LBBP/30k1avXq3Vq1frvffe04oVKxQcHCzp7GMlpLPXt61fvz7P8hISEpSdna3du3fr5ptvdht3pT6bF5LfenJvsvPXmiS5wl9MTIxrWO773LRpU77X7O7evVuStGPHjjyBrzDtgwCuDAIdgOtS7g1PRowYoenTp+v111+XMUZRUVFyOByuG6dIZ6/3ueWWW3TgwAE1adJEvXv3VkhIiJxOp5KSkjR58uSLujlJQZ04cULGGB07duyybyIQFhYm6eKDZ+6NEHLnP9dyk5KSLr24P8nverPcsJGdnV3g5XTr1k1ffvmlXn/9dX3wwQeaNm2apLO/EI8fP15t27a94DKSk5MVEhIiX1/ffGsqU6aMEhISClzTlXaua/Py2165fSxXrlye6b29vfM9inYxPvnkE02YMEFz5851XRtVrFgxde/eXa+99lqe9V5M7QXRuHFjtyCybt069enTx3XUM/cPIn/88YckaeLEieddXn5HCK/UZ/NC8nucQe56zjcuMzPTNSz3fZ7rxk+5rub7vBL7IIArg1MuAVy3+vXrJx8fH82ePVsZGRlavny59u/fr7vuusvtyMf06dN14MABjR49Wr/88oumTp2ql19+WWPGjFHPnj0LvL7c09GysrLyHf/XUJT7y1vDhg1ljDnv14U0btxYfn5+iomJcf11viBya4iPj893fO6pnH/+RfN87/NKBb+C6Nixo5YvX64TJ05o2bJl+vvf/65t27bp3nvvzfdUs78qVaqUjh8/7vaLcq6srCwlJibme5SpMMqt8+jRo3nGZWdnuwLApfL399eYMWO0e/duHTp0SB999JGaNWumjz76SN27d7+sZV+KJk2a6O2335Yk1408pP9+TpOTk8+7P7Vo0eKa13wl5b7PTZs2nfd9FuTmM5fjcvdBAFcGgQ7AdatcuXLq3LmzEhMTtWjRItf1ULnX1+Xau3evJOn+++/Ps4xVq1YVeH25p30dPnw4z7i9e/e63RZckkqUKKE6depo27ZtOn78eIHXkx9/f389+uijkqQXX3zxgtPnHnFs2LChJGnt2rX5BrQVK1ZIktvd8s73Pq/ktUbe3t4FOmJQvHhxtWrVSm+88Yaef/55ZWRkaMmSJRecr2HDhsrJydHq1avzjFu9erWys7PP+RzDwubPffyrn3/++Zx/ZLgUlSpVUq9evfTNN9+oevXqWrt27WUHxktRsmRJSXL7g8ett94q6ezt9K8mLy+vK3rU7mJdq/d5tfdBAFcGgQ7AdS331MrXX39dCxcuVJkyZdS1a1e3aXKfufXX56pt3Ljxom4oceONNyowMFCff/6526l6Z86c0dChQ/Od5x//+IcyMjLUv3//fI9unThxQhs2bCjQ+l9++WVVrFhRc+bM0TPPPJPvs6sSExM1dOhQffzxx5LO3kSlbdu2io6OznMd3y+//KK5c+cqODjYbZs1adJE0n+vR8x1+PDhAoXJgipdurSOHTuW7/tYvXp1viEl9wjVua7t+rP+/ftLkkaMGKHTp0+7hp8+fVrPPfecJOmxxx67pNqvtdzrG8eNG+f2h4OMjAw9//zzl7XsY8eOacuWLXmGp6amKiUlRU6nM9/TVi/XunXrNHPmzHz7n5mZ6bpxzZ133uka/uSTT8rHx0d///vf8z1SnZGRcUVCUOnSpfP9g8a10q9fPwUFBWns2LH53sgkJycn3+dEXqyrvQ8CuDK4hg7Ada1du3aqUqWK65eeJ598Ms8vn71799bEiRM1fPhwrVixQjVq1NCePXv05Zdfqlu3bvrkk08KtC4fHx8NGzZML730kho2bKiuXbsqKytL3333ncLDw103Pviz/v3767ffftPUqVN1ww036O6771ZERISOHz+uAwcOaPXq1erXr5/efffdC66/XLlyWrZsmbp06aLXXntNs2bNUtu2bRUREeG6S97KlSuVnp6uRYsWueZ79913dccdd+iZZ57Rt99+q8aNG7ueQ+fl5aUZM2a4joZIUtOmTXXnnXdq9erVatKkiVq1aqWjR49q8eLFuvvuu6/YL7qtW7fW+vXr1b59e915553y8/NT/fr11alTJw0dOlRHjhzRHXfc4XoY+m+//ably5ercuXKeR6cnp+HH35Yn3/+uebPn686deqoS5cucjgcWrRokQ4cOKCePXuqV69eV+S9SNLvv/9+zofOSzrvuAtp0aKFBg0apPfee0916tTR/fffLx8fHy1evFilSpVSeHh4vneoLIgjR46oYcOGqlevnm666SZVqlRJJ0+e1Jdffqn4+HgNHTrU7fNxpcTGxqpfv3568skn1axZM9eDuOPi4rR06VLFx8erevXqGjVqlGueG2+8UR988IH69++vOnXqqH379oqMjFRmZqYOHTqkNWvWKDQ0VDt37rys2lq3bq2PP/5YnTp1UqNGjeTj46M777zTLVxeTaVLl9aCBQvUtWtX3XrrrWrdurXq1Kkjh8Ohw4cP66efftIff/yhtLS0y1rP1d4HAVwh1+r5CADgKS+//LLr2Vg7d+7Md5pt27aZTp06mdDQUBMQEGAaNWpk3n///Qs+U+qvzyPLyckx48ePN9WqVTM+Pj6mUqVK5plnnjGpqannfabT4sWLTceOHU1oaKjx8fEx5cqVM7fccosZOXKk2bFjx0W93/T0dDN9+nTToUMHU758eePj42NKlChh6tata5566imzefPmPPPExMSYv/3tbyYiIsL4+PiY0qVLm/vuu8+sW7cu33WcOHHCDBgwwISGhhpfX19Tp04dM23atIveXsac+/l9KSkp5m9/+5upUKGC8fb2dlvuJ598Yh588EFTvXp1U7x4cVOyZElTp04d8/zzz5uEhIQCb6vs7GwzZcoUc/PNNxt/f3/j7+9vGjVqZN5++22TnZ2dZ/rLeQ7dhb7+7HyflXM9BzA7O9u88cYbpmbNmsbX19eEhYWZwYMHm6SkJFOiRAlTv379fOu60HPoTpw4YcaOHWvuuusuEx4ebnx9fU358uVNixYtzNy5c01OTo7b/DrPM9ouZvudPHnSzJ071/Tt29fUq1fPlC5d2nh7e5vg4GBz2223mfHjx7s9P/DPNm/ebPr06WMiIiKMr6+vCQ4ONnXq1DGDBg0yy5Ytc5s29zl0+TnXNjp69Kh56KGHTNmyZY2Xl5fb5/dS9oHzPdvxXDXkrmvIkCGmevXqxs/Pz5QsWdLUrFnTPPLII2bhwoUFXr8n90EAl89hTAGutgcAAFbas2ePIiMj9eCDD2revHmeLgcAcIVxDR0AANeB+Ph45eTkuA07ffq0hg8fLkl5rh0FAFwfuIYOAIDrwKRJkzRv3jy1bNlSYWFhio+P17JlyxQTE6MOHTrogQce8HSJAICrgEAHAMB1oG3bttq0aZO+/fZbHT9+XE6nU5GRkRo6dKiGDx8uh8Ph6RIBAFcB19ABAAAAgKW4hg4AAAAALEWgAwAAAABLEegAAAAAwFIEOgAAAACwFHe5LIROnDihrKwsT5eBqyw0NFTHjh3zdBm4Buh10UGviw56XXTQ66KjsPXa6XQqODj4wtNdg1pwkbKyspSZmenpMnAV5d4+PCsrS9xo9vpGr4sOel100Ouig14XHTb3mlMuAQAAAMBSBDoAAAAAsBSBDgAAAAAsRaADAAAAAEsR6AAAAADAUgQ6AAAAALAUgQ4AAAAALEWgAwAAAABLEegAAAAAwFIEOgAAAACwFIEOAAAAACxFoAMAAAAASxHoAAAAAMBSBDoAAAAAsBSBDgAAAAAsRaADAAAAAEsR6AAAAADAUgQ6AAAAALAUgQ4AAAAALEWgAwAAAABLEegAAAAAwFIEOgAAAACwFIEOAAAAACxFoAMAAAAASxHoAAAAAMBSBDoAAAAAsJTT0wUgry2pUlK6w9Nl4Go7Gff//6HX1z16XXTQ66KDXhcd9LrI6Bbm6QouDUfoAAAAAMBSBDoAAAAAsBSBDgAAAAAsRaADAAAAAEsR6AAAAADAUgQ6AAAAALAUgQ4AAAAALEWgAwAAAABLEegAAAAAwFIEOgAAAACwFIEOAAAAACxFoAMAAAAASxHoAAAAAMBSBDoAAAAAsBSBDgAAAAAsRaADAAAAAEsR6AAAAADAUgQ6AAAAALAUgQ4AAAAALEWgAwAAAABLEegAAAAAwFIEOgAAAACwFIEOAAAAACxFoMvH/Pnz9cwzz3i6DAAAAAA4ryIf6Hr06KF169a5DevcubNGjRrloYoAAAAAoGCcni6gMCpWrJiKFSvm6TIAAAAA4Lw8FujGjBmjiIgI+fr6atmyZXI6nWrbtq169OghSUpNTdWHH36o9evXKysrS9WqVVOfPn1UpUoV1zI+/fRTLVmyRBkZGbr99ttVsmRJ/f7775o4caIkae/evZo3b56io6OVlZWlKlWqqE+fPqpWrZokaciQIZKk1157TZIUGhqqKVOmaP78+Vq/fr0mTpyoTZs26d///rfee+89FS9e3LXuGTNm6NChQxo9erQkaefOnZo7d6727dunwMBA3XLLLXr44YcJhgAAAACuGo+ecrlq1Sr5+fnplVde0SOPPKJPP/1UmzdvliS98cYbSk5O1vPPP69XX31VVatW1UsvvaSUlBRJ0po1a/TZZ5+pV69eevXVV1WmTBl9++23bstPS0tTixYt9OKLL2rcuHEKCwvT+PHjdebMGUnS+PHjJUmDBw/We++953r9Z/Xq1VNAQIB++eUX17CcnBz9+OOPat68uSQpPj5e48aNU9OmTfXaa69p+PDh2rVrlz744IPzvv/MzEydPn3a9ZVbFwAAAIBrz+FwFJqvgvLoKZeVK1fWAw88IEkKCwvT0qVLtWXLFvn6+mrv3r2aPn26fHx8JEm9e/fW+vXr9fPPP6tNmzZaunSpWrVqpbvuukuS1L17d23atElpaWmu5detW9dtfYMGDVK/fv20fft23XzzzQoMDJQkBQQEKCgoKN8avby8dMcdd2jt2rVq1aqVJGnLli06ffq0mjZtKklatGiRmjdvro4dO7reS79+/TR69GgNGDBAvr6++S574cKFWrBgget11apVNWHChIvahgAAAACujPLly3u6hIvm0UAXERHh9jo4OFjJycmKjo5WWlqa+vfv7zY+IyND8fHxkqTY2Fi1a9fObXz16tW1detW1+ukpCR9/PHH2r59u5KTk5WTk6OMjAwlJiZeVJ3NmjXTyJEjdfz4cYWEhGjNmjVq2LCh6xTMgwcP6uDBg1qzZo3bfMYYJSQkqGLFivkut2vXrrr33ntdry8miQMAAAC4suLj42WM8XQZkiSn06nQ0NALT3cNajn3yp15V2+MUVpamoKDgzVmzJg84wMCAgq8/ClTpiglJUV9+/ZVaGiofHx8NHLkSGVlZV1UndWrV1f58uX1448/ql27dlq/fr0GDx7sGp+WlqY2bdronnvuyTNvmTJlzrlcHx8f1xFIAAAAAJ5ljCk0ga6gCuVdLqtVq6akpCR5eXmpbNmy+U4THh6uffv2qUWLFq5h+/btc5tm165dGjBggBo1aiRJSkxM1KlTp9ym8fb2Vk5OzgVratasmdasWaOQkBA5HA7XMqWzp0oeOXLEykO0AAAAAOxVKJ9DV69ePUVGRrruMpmQkKBdu3Zp3rx5rtDWvn17LV++XCtXrlRcXJw+/fRTHTx40O20xbCwMK1evVoxMTHas2eP3nrrrTzXs5UtW1Zbt25VUlKS64Yr+WnevLkOHDighQsX6tZbb3U7snbfffdp165dioqKUnR0tOLi4rR+/XpFRUVd4S0DAAAAAP9VKI/QORwOjRgxQvPmzdPUqVN18uRJBQUFqVatWipVqpSkswHr6NGj+vDDD5WZmanbbrtNLVu21N69e13L+dvf/qb33ntP//znP1WmTBk99NBD+vDDD93W9eijj2r27NlatmyZQkJCNGXKlHxrKl++vKpXr669e/eqT58+buMqV66sMWPG6OOPP9aoUaNkjFH58uV12223XeEtAwAAAAD/5TC2nSR6Hi+99JKCgoL01FNPebqUy7I8+piS0i/uOj8AAAAAl65bzTDFxcUVmmvofHx8CnRTlEJ5ymVBpKen68svv9Thw4d15MgRzZ8/X1u2bHG7pg4AAAAArmeF8pTLgnA4HNq4caM+++wzZWZmKjw8XP/zP/+jm266ydOlAQAAAMA1YW2g8/X11QsvvODpMgAAAADAY6w95RIAAAAAijoCHQAAAABYikAHAAAAAJYi0AEAAACApQh0AAAAAGApAh0AAAAAWIpABwAAAACWItABAAAAgKUIdAAAAABgKQIdAAAAAFiKQAcAAAAAliLQAQAAAIClCHQAAAAAYCkCHQAAAABYikAHAAAAAJYi0AEAAACApQh0AAAAAGApAh0AAAAAWIpABwAAAACWcnq6AORVr7iU6Ws8XQauIofDobCwMMXFxckYen09o9dFB70uOuh10UGviw6Hw+HpEi4ZR+gAAAAAwFIEOgAAAACwFIEOAAAAACxFoAMAAAAASxHoAAAAAMBSBDoAAAAAsBSBDgAAAAAsRaADAAAAAEsR6AAAAADAUgQ6AAAAALAUgQ4AAAAALEWgAwAAAABLEegAAAAAwFIEOgAAAACwFIEOAAAAACxFoAMAAAAASxHoAAAAAMBSBDoAAAAAsBSBDgAAAAAsRaADAAAAAEsR6AAAAADAUgQ6AAAAALAUgQ4AAAAALEWgAwAAAABLEegAAAAAwFIEOgAAAACwFIEOAAAAACxFoAMAAAAASxHoAAAAAMBSBDoAAAAAsBSBDgAAAAAsRaADAAAAAEsR6AAAAADAUgQ6AAAAALAUgQ4AAAAALEWgAwAAAABLEegAAAAAwFIEOgAAAACwFIEOAAAAACxFoAMAAAAASxHoAAAAAMBSBDoAAAAAsBSBDgAAAAAsRaADAAAAAEsR6AAAAADAUgQ6AAAAALAUgQ4AAAAALEWgAwAAAABLEegAAAAAwFIEOgAAAACwFIEOAAAAACxFoAMAAAAASxHoAAAAAMBSBDoAAAAAsBSBDgAAAAAsRaADAAAAAEsR6AAAAADAUk5PF4C8tqRKSekOT5eBq+1k3P//h15f9+h10UGviw56XXTQ6yKjW5inK7g0HKEDAAAAAEsR6AAAAADAUgQ6AAAAALAUgQ4AAAAALEWgAwAAAABLEegAAAAAwFIEOgAAAACwFIEOAAAAACxFoAMAAAAASxHoAAAAAMBSBDoAAAAAsBSBDgAAAAAsRaADAAAAAEsR6AAAAADAUgQ6AAAAALAUgQ4AAAAALEWgAwAAAABLEegAAAAAwFIEOgAAAACwFIEOAAAAACxFoAMAAAAASxHoAAAAAMBSRS7Qbdu2TT169FBqaup5pxsyZIi++uqra1QVAAAAAFw8hzHGeLqIaykrK0spKSkqVaqUHA6HVq5cqZkzZ2rmzJlu0508eVJ+fn7y8/O75jUujz6mpPSsa75eAAAAoKjqVjNMcXFxKizxyMfHR6GhoRecznkNailUnE6ngoKCLjhdYGDg1S8GAAAAAC5DoQx0Y8aMUaVKlSRJq1evltPpVNu2bdWzZ085HA6lpKRo5syZ+u2335SZmanatWurX79+CgsLkyQdO3ZMUVFR2rVrl7KyshQaGqpHHnlEjRo10rZt2zR27FjNmDFD0dHRmjp1qiSpR48ekqTu3burR48eGjJkiO655x517NhRkydPVk5Ojv7+97+7aszKytLjjz+u3r17q0WLFsrJydHnn3+u77//XklJSQoPD9f999+vW2+99RpvPQAAAABFRaEMdJK0atUqtWrVSuPHj9e+ffv03nvvqUyZMmrTpo2mTp2quLg4Pfvss/L399ecOXM0fvx4vfHGG3I6nYqKilJWVpbGjh0rPz8/xcTEqFixYnnWUbNmTfXt21effPKJJk+eLEn5Tte8eXO98cYbSktLc43ftGmT0tPT1aRJE0nSokWLtGbNGg0cOFBhYWHasWOH3nrrLQUGBqp27dpXcUsBAAAAKKoKbaArXbq0+vTpI4fDofDwcB06dEhfffWV6tSpo19//VUvvfSSatasKUkaOnSonnjiCa1fv1633XabEhMT1bRpU0VEREiSypUrl+86nE6nAgIC5HA4znsaZv369eXn56d169bpzjvvlCStXbtWjRs3lr+/vzIzM7Vw4UK98MILioyMdK1z586d+u67784Z6DIzM5WZmel67XA45O/vf9HbCgAAAMDlczgcni7hohXaQFejRg23DRoZGakvv/xSMTEx8vb2Vo0aNVzjSpYsqfDwcB05ckSS1KFDB02fPl2bN29WvXr11LRpU1WuXPmSa/H29tZtt92mNWvW6M4771RaWpp+/fVXDRs2TJIUHx+v9PR0vfTSS27zZWVlqWrVqudc7sKFC7VgwQLX66pVq2rChAmXXCcAAACAS1e+fHlPl3DRCm2guxytW7dW/fr1tWHDBm3evFkLFy5U79691aFDh0teZvPmzTVmzBglJydr8+bN8vX1VYMGDSRJaWlpkqQRI0YoJCTEbT6n89ybuGvXrrr33ntdr238iwAAAABwvYiPjy80d7l0Op123+Vy7969bq/37Nmj8uXLq2LFisrOztaePXtcp1yeOnVKsbGxqlixomv6MmXKqF27dmrXrp3mzp2rZcuW5RvonE6ncnJyLlhPzZo1Vbp0af3444/6/fffdeutt7rCWsWKFeXj46PExMSLul7Ox8dHPj4+BZ4eAAAAwNVjjCk0ga6gCu2DxRMTEzVr1izFxsZq7dq1WrJkie655x6FhYWpcePGmjZtmnbu3Kno6Gi99dZbCgkJUePGjSVJM2fO1O+//66EhATt379f27ZtU4UKFfJdT2hoqNLS0rRlyxadPHlS6enp56ypWbNm+u6777R582Y1b97cNdzf31+dOnXSrFmztHLlSsXHx2v//v1asmSJVq5ceUW3CwAAAADkKrRH6O68805lZGRoxIgR8vLy0j333KM2bdpIkgYPHqyZM2fq1VdfVVZWlmrVqqURI0a4jpjl5OQoKipKx48fl7+/vxo0aKA+ffrku56aNWuqbdu2mjRpkk6dOuV6bEF+mjVrps8++0yhoaGuo4O5evbsqcDAQC1atEhHjx5V8eLFVbVqVXXt2vUKbhUAAAAA+C+HKYTHFMeMGaMqVaqob9++ni7FI5ZHH1NSepanywAAAACKjG41wxQXF1doTrn08fEp0DV0hfaUSwAAAADA+RHoAAAAAMBShfIaujFjxni6BAAAAAAo9DhCBwAAAACWItABAAAAgKUIdAAAAABgKQIdAAAAAFiKQAcAAAAAliLQAQAAAIClCHQAAAAAYCkCHQAAAABYikAHAAAAAJYi0AEAAACApQh0AAAAAGApAh0AAAAAWIpABwAAAACWItABAAAAgKUIdAAAAABgKQIdAAAAAFiKQAcAAAAAliLQAQAAAIClCHQAAAAAYCmnpwtAXvWKS5m+xtNl4CpyOBwKCwtTXFycjKHX1zN6XXTQ66KDXhcd9LrocDgcni7hknGEDgAAAAAsRaADAAAAAEsR6AAAAADAUgQ6AAAAALAUgQ4AAAAALEWgAwAAAABLEegAAAAAwFIEOgAAAACwFIEOAAAAACxFoAMAAAAASxHoAAAAAMBSBDoAAAAAsBSBDgAAAAAsRaADAAAAAEsR6AAAAADAUgQ6AAAAALAUgQ4AAAAALEWgAwAAAABLEegAAAAAwFIEOgAAAACwFIEOAAAAACxFoAMAAAAASxHoAAAAAMBSBDoAAAAAsBSBDgAAAAAsRaADAAAAAEsR6AAAAADAUgQ6AAAAALAUgQ4AAAAALEWgAwAAAABLEegAAAAAwFIEOgAAAACwFIEOAAAAACxFoAMAAAAASxHoAAAAAMBSBDoAAAAAsBSBDgAAAAAsRaADAAAAAEsR6AAAAADAUgQ6AAAAALAUgQ4AAAAALEWgAwAAAABLEegAAAAAwFIEOgAAAACwFIEOAAAAACxFoAMAAAAASxHoAAAAAMBSBDoAAAAAsBSBDgAAAAAsRaADAAAAAEsR6AAAAADAUgQ6AAAAALAUgQ4AAAAALEWgAwAAAABLEegAAAAAwFIEOgAAAACwFIEOAAAAACzl9HQByGtLqpSU7vB0GbjaTsb9/3/o9XWPXhcd9LrooNdFB70uMrqFebqCS8MROgAAAACwFIEOAAAAACxFoAMAAAAASxHoAAAAAMBSBDoAAAAAsBSBDgAAAAAsRaADAAAAAEsR6AAAAADAUgQ6AAAAALAUgQ4AAAAALEWgAwAAAABLEegAAAAAwFIEOgAAAACwFIEOAAAAACxFoAMAAAAASxHoAAAAAMBSBDoAAAAAsBSBDgAAAAAsRaADAAAAAEsR6AAAAADAUgQ6AAAAALAUgQ4AAAAALEWgAwAAAABLFelAt23bNvXo0UOpqameLgUAAAAALtp1EehWrlypvn37XvR8NWvW1HvvvaeAgIACzzNlyhT9+9//vuh1AQAAAMCV5vR0AZcrKyvrkud1Op0KCgq6csUAAAAAwDXkMMaYgk48ZMgQ3XPPPerYsaNr2DPPPKNbbrlFPXr0UI8ePfT4449rw4YN2rRpk0JCQtS7d281btzYNf3hw4c1Z84c7dixQ8YYValSRYMHD1b58uUlScuWLdOXX36phIQEhYaGqkOHDrr77rslSQkJCXryySc1fPhwffPNN9q7d68GDhyoqVOnutXZvXt39ejRQ6tXr9bXX3+t2NhY+fn5qW7duurbt69KlSol6ewpl2PHjtWMGTNUvHhxrVy5UjNnztTw4cM1a9YsJSYm6sYbb9TgwYMVHBys+fPna8GCBW7rGj16tBYsWKCKFSvqsccecw0/efKkHn/8cT3//POqV69eQTexJGl59DElpV96UAUAAABwcbrVDFNcXJwuIh5dVT4+PgoNDb3gdFf8CN2CBQvUq1cvPfroo1qyZInefPNNTZ06VSVKlNDx48c1evRo1a5dW6NGjZK/v7927dqlnJwcSdKaNWs0f/589e/fX1WrVtWBAwc0bdo0+fn5qWXLlq51zJkzR71791bVqlXlcDjUt29fffLJJ5o8ebIkqVixYpLOHr3r2bOnwsPDlZycrNmzZ2vq1KkaMWLEOetPT0/X4sWL9eSTT8rhcOitt97Shx9+qKFDh6pz5846cuSIzpw5o8GDB0uSSpQoodatWysqKkq9e/eWj4+PJGn16tUKCQlR3bp1z7muzMxMZWZmul47HA75+/tf2oYHAAAAcFkcDoenS7hoVzzQtWjRQs2aNZMkPfTQQ1qyZIn27t2rBg0aaOnSpQoICNDw4cPldJ5ddXh4uGve+fPn69FHH1XTpk0lSWXLllVMTIy+//57t0DXsWNH1zSSFBAQIIfDkef0yVatWrn+X65cOfXr108jRoxQWlqaK/T9VXZ2tgYOHOg6Yti+fXvXUblixYrJ19dXmZmZbutq0qSJoqKitH79et1+++2SpFWrVqlly5bn/VAsXLjQ7Yhf1apVNWHChHNODwAAAODqyc0ANrniga5y5cqu/xcrVkz+/v5KTk6WJB08eFA33nijK8z9WVpamo4ePap3331X06ZNcw3PycnJc9OSatWqFaiW/fv3a/78+Tp48KBSU1Ndh08TExNVsWLFfOfx8/Nza2RwcLBOnjx53vX4+vrqzjvv1IoVK3T77bdr//79OnTokJ599tnzzte1a1fde++9rtc2/kUAAAAAuF7Ex8cXmlMunU7nlT/l0uFw5HmD2dnZbq+9vb3POU/u6Yj5SUtLkyQ9/vjjqlGjhts4Ly/3m3Ge6+jaX5c3btw41a9fX0OHDlVgYKASExM1bty4895I5a/1SypQU1u3bq1nnnlGf/zxh1auXKm6detesAE+Pj7n3SYAAAAArh1jTKEJdAV1UYEuMDBQSUlJrtenT59WQkJCgeevXLmyVq1apaysrDxH6YKCghQcHKyjR4+qefPmF1OWnE6n6zq8XLGxsTp16pQefvhhlSlTRpK0b9++i1puQdclSREREbrhhhu0bNkyrV27Vv3797/sdQEAAADA+VzUc+jq1q2r1atXa8eOHTp06JCmTJmS5+jZ+bRv315nzpzRpEmTtG/fPsXFxWn16tWKjY2VJPXo0UOLFi1y3Zny0KFDWrFihb788svzLjc0NFRpaWnasmWLTp48qfT0dJUpU0ZOp1NLly7V0aNH9euvv+rTTz+9mLd7znUdOnRIsbGxOnnypNvRvlatWmnRokUyxqhJkyaXvS4AAAAAOJ+LOkLXpUsXJSQk6NVXX1VAQIB69ux5UUfoSpYsqVGjRumjjz7SmDFj5OXlpSpVqqhmzZqSzp626Ofnpy+++EIfffSR/Pz8FBER4faYhPzUrFlTbdu21aRJk3Tq1CnXYwsGDx6sefPmacmSJapataoeffTRy34oeJs2bbR9+3Y999xzSktL0+jRo1WnTh1JUrNmzTRr1izdcccd8vX1vaz1AAAAAMCFXNRz6HB+CQkJeuqppzR+/PgC37glPzyHDgAAALi2eA5dEZaVlaWUlBR9/PHHioyMvKwwBwAAAAAFdVHX0CF/u3bt0qBBg7Rv3z4NHDjQ0+UAAAAAKCI4QncF1KlTR/Pnz/d0GQAAAACKGI7QAQAAAIClCHQAAAAAYCkCHQAAAABYikAHAAAAAJYi0AEAAACApQh0AAAAAGApAh0AAAAAWIpABwAAAACWItABAAAAgKUIdAAAAABgKQIdAAAAAFiKQAcAAAAAliLQAQAAAIClCHQAAAAAYCkCHQAAAABYikAHAAAAAJYi0AEAAACApQh0AAAAAGApAh0AAAAAWMrp6QKQV73iUqav8XQZuIocDofCwsIUFxcnY+j19YxeFx30uuig10UHvS46HA6Hp0u4ZByhAwAAAABLEegAAAAAwFIEOgAAAACwFIEOAAAAACxFoAMAAAAASxHoAAAAAMBSBDoAAAAAsBSBDgAAAAAsRaADAAAAAEsR6AAAAADAUgQ6AAAAALAUgQ4AAAAALEWgAwAAAABLEegAAAAAwFIEOgAAAACwFIEOAAAAACxFoAMAAAAASxHoAAAAAMBSBDoAAAAAsBSBDgAAAAAsRaADAAAAAEsR6AAAAADAUgQ6AAAAALAUgQ4AAAAALEWgAwAAAABLEegAAAAAwFIEOgAAAACwFIEOAAAAACxFoAMAAAAASxHoAAAAAMBSBDoAAAAAsBSBDgAAAAAsRaADAAAAAEsR6AAAAADAUgQ6AAAAALAUgQ4AAAAALEWgAwAAAABLEegAAAAAwFIEOgAAAACwFIEOAAAAACxFoAMAAAAASxHoAAAAAMBSBDoAAAAAsBSBDgAAAAAsRaADAAAAAEsR6AAAAADAUgQ6AAAAALAUgQ4AAAAALEWgAwAAAABLEegAAAAAwFIEOgAAAACwFIEOAAAAACxFoAMAAAAASxHoAAAAAMBSBDoAAAAAsBSBDgAAAAAsRaADAAAAAEs5PV0A8tqSKiWlOzxdBq62k3H//x96fd2j10UHvS466HXRQa+LjG5hnq7g0nCEDgAAAAAsRaADAAAAAEsR6AAAAADAUgQ6AAAAALAUgQ4AAAAALEWgAwAAAABLEegAAAAAwFIEOgAAAACwFIEOAAAAACxFoAMAAAAASxHoAAAAAMBSBDoAAAAAsBSBDgAAAAAsRaADAAAAAEsR6AAAAADAUgQ6AAAAALAUgQ4AAAAALEWgAwAAAABLEegAAAAAwFIEOgAAAACwFIEOAAAAACxFoAMAAAAASxXKQDdmzBjNnDlTkjRkyBB99dVX551+/vz5euaZZy55HQAAAABgI6enC7iQ8ePHy8/Pz/W6R48eevrpp9WkSRPXsM6dO6tDhw4Xtdynn35a3t7eV6xOAAAAALjWCn2gCwwMvOA0xYoVU7FixS5quSVKlLjUkgAAAACgUCj0gW7IkCG655571LFjRw0ZMkSS9Nprr0mSQkNDNWXKFM2fP1/r16/XxIkTJUnZ2dmaNWuWVq9eLS8vL7Vq1UpJSUk6ffq0nn32WUlnT7msUqWK+vbtK0lKSUnRzJkz9dtvvykzM1O1a9dWv379FBYWJkl51iFJX331lb7++mtNmTJFkrRt2zZ99NFHiomJkbe3typVqqShQ4cqNDT0mmwrAAAAAEVLoQ90fzZ+/HgNGDBAgwcPVoMGDeTllf8lgJ9//rnWrl2rwYMHq0KFCvr666+1fv161alT55zLnjp1quLi4vTss8/K399fc+bM0fjx4/XGG2/I6bzwZsrOztbEiRPVunVrDRs2TFlZWdq7d68cDsclv18AAAAAOB+rAl3u6ZcBAQEKCgo653RLlixRly5dXNfZPfbYY9q4ceM5p4+Li9Ovv/6ql156STVr1pQkDR06VE888YTWr1+v22677YK1nTlzRqdPn9bNN9+s8uXLS5IqVqx43nkyMzOVmZnpeu1wOOTv73/BdQEAAAC48mw8GGNVoCuI06dPKzk5WdWrV3cN8/LyUrVq1ZSTk5PvPEeOHJG3t7dq1KjhGlayZEmFh4fryJEjBVpviRIl1LJlS40bN0716tXTTTfdpNtuu03BwcHnnGfhwoVasGCB63XVqlU1YcKEAq0PAAAAwJWVe2DGJtddoLta8ju9Mzs72+314MGD1aFDB/3+++/68ccf9fHHH+tf//qXIiMj811m165dde+997pe2/gXAQAAAOB6ER8fL2OMp8uQJDmdzgLdi6NQPofufLy9vc95pE06ezpmqVKltG/fPtewnJwcHThw4JzzVKhQQdnZ2dqzZ49r2KlTpxQbG+s6bTIwMFBJSUluDY6Ojs6zrKpVq6pr1656+eWXValSJa1du/ac6/Xx8VFAQIDri9MtAQAAAM8xxhSar4KyLtCVLVtWW7duVVJSklJSUvKdpkOHDlq0aJHWr1+v2NhYzZgxQykpKec8AhYWFqbGjRtr2rRp2rlzp6Kjo/XWW28pJCREjRs3liTVrl1bJ0+e1Oeff674+HgtXbrU7bq8hIQEzZ07V7t379axY8e0adMmxcfHX/A6OgAAAAC4VNadcvnoo49q9uzZWrZsmUJCQlyPDPiz++67T0lJSXr77bfl5eWlNm3aqH79+ue8K6Z09nTJmTNn6tVXX1VWVpZq1aqlESNGuO5wWbFiRT322GNauHChPv30UzVt2lSdOnXSsmXLJEm+vr46cuSIVq1apVOnTik4OFh333232rRpc3U2BAAAAIAiz2EKy0miV1FOTo7+/ve/67bbbtODDz7o6XIuaHn0MSWlZ3m6DAAAAKDI6FYzTHFxcYXmGjofH58CXUNn3RG6gsg95bF27drKysrS0qVLlZCQoGbNmnm6NAAAAAC4Yq7LQOdwOLRq1Sp9+OGHkqRKlSrphRde4Ho2AAAAANeV6zLQlSlTRi+99JKnywAAAACAq8q6u1wCAAAAAM4i0AEAAACApQh0AAAAAGApAh0AAAAAWIpABwAAAACWItABAAAAgKUIdAAAAABgKQIdAAAAAFiKQAcAAAAAliLQAQAAAIClCHQAAAAAYCkCHQAAAABYikAHAAAAAJYi0AEAAACApQh0AAAAAGApAh0AAAAAWIpABwAAAACWItABAAAAgKUIdAAAAABgKaenC0Be9YpLmb7G02XgKnI4HAoLC1NcXJyModfXM3pddNDrooNeFx30uuhwOByeLuGScYQOAAAAACxFoAMAAAAASxHoAAAAAMBSBDoAAAAAsBSBDgAAAAAsRaADAAAAAEsR6AAAAADAUgQ6AAAAALAUgQ4AAAAALEWgAwAAAABLEegAAAAAwFIEOgAAAACwFIEOAAAAACxFoAMAAAAASxHoAAAAAMBSBDoAAAAAsBSBDgAAAAAsRaADAAAAAEsR6AAAAADAUgQ6AAAAALAUgQ4AAAAALEWgAwAAAABLEegAAAAAwFIEOgAAAACwFIEOAAAAACxFoAMAAAAASxHoAAAAAMBSTk8XgLycTtpSVNDrooNeFx30uuig10UHvS46ClOvC1qLwxhjrnItKKDMzEz5+Ph4ugwAAAAAluCUy0IkMzNTkydP1pkzZzxdCq6yM2fO6J///Ce9LgLoddFBr4sOel100Ouiw+ZeE+gKmR9++EEcNL3+GWN04MABel0E0Ouig14XHfS66KDXRYfNvSbQAQAAAIClCHQAAAAAYCkCXSHi4+Oj7t27c2OUIoBeFx30uuig10UHvS466HXRYXOvucslAAAAAFiKI3QAAAAAYCkCHQAAAABYikAHAAAAAJYi0AEAAACApZyeLgBnLV26VIsXL1ZSUpIqV66s/v37q3r16p4uC+cwf/58LViwwG1YeHi4Jk2aJEnKyMjQ7Nmz9eOPPyozM1P169fXgAEDFBQU5Jo+MTFR77//vrZt26ZixYqpRYsWevjhh+Xt7e2aZtu2bZo9e7YOHz6s0qVL6/7771fLli2vwTssurZv364vvvhCBw4c0IkTJ/T000+rSZMmrvHGGM2fP1/Lli1TamqqbrzxRg0YMEBhYWGuaVJSUvTBBx/ot99+k8PhUNOmTdWvXz8VK1bMNc3BgwcVFRWlffv2KTAwUO3bt9d9993nVstPP/2kTz75RMeOHVP58uXVq1cvNWrU6OpvhCLiQr2eMmWKVq1a5TZP/fr1NXLkSNdrem2HhQsXat26dTpy5Ih8fX0VGRmpRx55ROHh4a5pruX3bX7mXz0F6fWYMWO0fft2t/natGmjQYMGuV7T68Lv22+/1bfffqtjx45JkipWrKju3burYcOGkorYPm3gcT/88IN56KGHzPLly83hw4fNu+++a/r27WuSkpI8XRrO4ZNPPjH/+Mc/zIkTJ1xfycnJrvHvvfee+dvf/ma2bNli9u3bZ55//nnzr3/9yzU+Ozvb/OMf/zAvvviiOXDggNmwYYPp37+/mTNnjmuao0ePmkceecTMmjXLHD582CxZssT07NnTbNy48Vq+1SJnw4YNZt68eeaXX34xDzzwgPnll1/cxi9cuND06dPHrFu3zkRHR5sJEyaYIUOGmPT0dNc048aNM08//bTZvXu32bFjh3nqqafMpEmTXONTU1PNgAEDzOTJk82hQ4fM2rVrTa9evcx3333nmmbnzp2mZ8+e5vPPPzeHDx828+bNMw8++KA5ePDg1d8IRcSFev3222+bcePGue3np06dcpuGXtvh5ZdfNitWrDCHDh0yBw4cMK+88op54oknzJkzZ1zTXKvv2/zMv7oK0uvRo0ebd999123fTk1NdY2n13ZYv369+e2330xsbKw5cuSImTt3rnnwwQfNoUOHjDFFa58m0BUCI0aMMNOnT3e9zs7ONoMGDTILFy70XFE4r08++cQ8/fTT+Y5LTU01Dz74oPnpp59cw2JiYswDDzxgdu3aZYw5+4tkjx49zIkTJ1zTfPPNN6Z3794mMzPTGGPMhx9+aP7xj3+4Lft///d/zcsvv3yF3w3O5a+/5Ofk5JiBAweazz//3DUsNTXVPPzww2bt2rXGGGMOHz5sHnjgAbN3717XNBs3bjQ9evQwf/zxhzHmbK/79u3r6rUxxnz00Udm2LBhrtdvvPGGGT9+vFs9zz//vJk2bdoVfY8461yBbsKECeech17bKzk52TzwwANm27Ztxphr+32bn/nX1l97bczZQDdjxoxzzkOv7dW3b1+zbNmyIrdPcw2dh2VlZWn//v2qV6+ea5iXl5fq1aun3bt3e7AyXEh8fLwef/xxPfnkk3rzzTeVmJgoSdq/f7+ys7PdelqhQgWVKVPG1dPdu3crIiLC7bB/gwYNdObMGR0+fFiStGfPHrdlSGdP9+Jz4TkJCQlKSkrSTTfd5BoWEBCg6tWru/W2ePHiuuGGG1zT1KtXTw6HQ3v37nVNU6tWLTmd/z3rvX79+oqNjVVKSoprmvz6v2fPnqv2/pDX9u3bNWDAAA0bNkzvv/++Tp065RpHr+11+vRpSVKJEiUkXbvv2/zMv/b+2utca9as0WOPPab/+Z//0dy5c5Wenu4aR6/tk5OTox9++EHp6emKjIwscvs019B52MmTJ5WTk+P2YZKkoKAgxcbGeqYoXFCNGjU0ePBghYeH68SJE1qwYIFGjRql119/XUlJSXI6nSpevLjbPKVKlVJSUpIkKSkpKU/PS5Uq5RqX+2/usD9Pc+bMGWVkZMjX1/eqvDecW25v8uvLn/sWGBjoNt7b21slSpRwm6Zs2bJu0+R+HpKSklzTnm89uPoaNGigpk2bqmzZsoqPj9e8efP0yiuvaNy4cfLy8qLXlsrJydHMmTNVs2ZNRURESNI1+76dkpLCz/xrKL9eS1KzZs1UpkwZhYSE6ODBg5ozZ45iY2P19NNPS6LXNjl06JBGjhypzMxMFStWTE8//bQqVqyo6OjoIrVPE+iAS5B7wa0kVa5c2RXwfvrpJ4IWcJ244447XP+PiIhQ5cqV9dRTT2nbtm15/mILe0RFRenw4cN68cUXPV0KrrJz9bpNmzau/0dERCg4OFgvvvii4uPjVb58+WtdJi5DeHi4Jk6cqNOnT+vnn3/WlClTNHbsWE+Xdc1xyqWHBQYGuv7S+2f5/dUAhVfx4sUVHh6u+Ph4BQUFKSsrS6mpqW7TJCcnu3oaFBSUp+fJycmucbn/5g778zT+/v6ERg/J7U1+fflz306ePOk2Pjs7WykpKeftf+7rC/Wf7wueU65cOZUsWVLx8fGS6LWNoqKitGHDBo0ePVqlS5d2Db9W37f5mX/tnKvX+cm9G+Gf9216bQen06ny5curWrVqevjhh1WlShV9/fXXRW6fJtB5mNPpVLVq1bR161bXsJycHG3dulWRkZEerAwXIy0tzRXmqlWrJm9vb23ZssU1PjY2VomJia6eRkZG6tChQ27fJDZv3ix/f39VrFhR0tnTOv+8jNxp+Fx4TtmyZRUUFOTWl9OnT2vv3r1uvU1NTdX+/ftd02zdulXGGNcvDZGRkdqxY4eysrJc02zevFnh4eGu6zwiIyPz7X+NGjWu2vvD+f3xxx9KSUlRcHCwJHptE2OMoqKitG7dOo0aNSrPabDX6vs2P/Ovvgv1Oj/R0dGS5LZv02s75eTkKDMzs8jt0wS6QuDee+/VsmXLtHLlSsXExGj69OlKT0/neWOF2OzZs7V9+3YlJCRo165dmjhxory8vNSsWTMFBASoVatWmj17trZu3ar9+/dr6tSpioyMdO3c9evXV8WKFfX2228rOjpav//+uz7++GPdfffd8vHxkSS1a9dOCQkJ+uijj3TkyBF98803+umnn9SxY0dPvvXrXlpamqKjo10/4BMSEhQdHa3ExEQ5HA7dc889+uyzz/Trr7/q0KFDevvttxUcHKxbbrlF0tnn4DRo0EDTpk3T3r17tXPnTn3wwQe6/fbbFRISIuns9RtOp1PvvvuuDh8+rB9//FFLlizRvffe66rjnnvu0aZNm7R48WIdOXJE8+fP1759+9S+fftrvk2uV+frdVpamj788EPt3r1bCQkJ2rJli/7973+rfPnyql+/viR6bZOoqCitWbNGw4YNk7+/v5KSkpSUlKSMjAxJuqbft/mZf3VdqNfx8fFasGCB9u/fr4SEBP3666+aMmWKatWqpcqVK0ui17aYO3eu63exQ4cOuV43b968yO3TDmOMuWZrwzktXbpUX3zxhZKSklSlShX169ePv84WYpMmTdKOHTt06tQpBQYG6sYbb9SDDz7oOvc+92GWP/zwg7KysvJ9mOWxY8c0ffp0bdu2TX5+fmrRooV69eqV52GWs2bNUkxMDA8Wv0a2bduW7/n3LVq00JAhQ1wPFv/+++91+vRp3XjjjXrsscfcHlqbkpKiqKgot4dN9+/f/5wPmy5ZsqTat2+vLl26uK3zp59+0scff6xjx44pLCyMh01fYefr9cCBAzVx4kQdOHBAqampCgkJ0U033aSePXu67cf02g49evTId/jgwYNd31Ov5fdtfuZfPRfqdWJiot566y0dPnxY6enpKl26tJo0aaJu3bopICDANT29Lvzeeecdbd26VSdOnFBAQIAqV66s++67z3Un6qK0TxPoAAAAAMBSnHIJAAAAAJYi0AEAAACApQh0AAAAAGApAh0AAAAAWIpABwAAAACWItABAAAAgKUIdAAAAABgKQIdAAAAAFiKQAcAAAAAliLQAQAAAIClCHQAAAAAYCkCHQAAAABY6v8ANm7bPhy7ULwAAAAASUVORK5CYII=",
            "text/plain": [
              "<Figure size 1000x600 with 1 Axes>"
<<<<<<< HEAD
            ]
=======
            ],
            "image/png": "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\n"
>>>>>>> main
          },
          "metadata": {},
          "output_type": "display_data"
        }
      ],
      "source": [
        "sentiments.plot(kind='barh', color='lightblue', figsize=(10,6))\n",
        "plt.title('Value Counts of English Sentiments')\n",
        "plt.show()"
      ]
    },
    {
<<<<<<< HEAD
      "cell_type": "markdown",
      "metadata": {
        "id": "ajvZ8N_Vc0d2"
      },
      "source": [
        "### Data Cleaning\n",
        "\n",
        "1. Remove usernames from tweets\n",
        "2. Remove hashtags from tweets\n",
        "3. Remove things like http links and \\n form tweet"
      ]
    },
    {
      "cell_type": "markdown",
      "metadata": {
        "id": "ITTsFZP8c5gn"
      },
      "source": [
        "##### Let's start with usernames\n",
        "\n",
        "- We need to remove the usernames that follow the @ symbol. The symbol will be removed as well\n",
        "- Write a function using the re module"
      ]
    },
    {
      "cell_type": "code",
      "execution_count": 17,
      "metadata": {
        "colab": {
          "base_uri": "https://localhost:8080/",
          "height": 53
        },
        "id": "q9J8kWnfc1LQ",
        "outputId": "0fd6aabe-609c-46dc-bccb-3ba6c4f0bac5"
      },
      "outputs": [
        {
          "data": {
            "application/vnd.google.colaboratory.intrinsic+json": {
              "type": "string"
            },
            "text/plain": [
              "'@Charlie_Corley @Kristine1G @amyklobuchar @StyleWriterNYC testimony is NOT evidence in a court of law, state or federal. Must stand up to cross examination'"
            ]
          },
          "execution_count": 17,
          "metadata": {},
          "output_type": "execute_result"
        }
      ],
      "source": [
        "# before\n",
        "data['Text'][0]"
      ]
    },
    {
      "cell_type": "code",
      "execution_count": 18,
      "metadata": {
        "colab": {
          "base_uri": "https://localhost:8080/",
          "height": 423
        },
        "id": "QOa6vjUWdBDI",
        "outputId": "b70a9368-8c8d-4085-f69e-2d26c7abc3c9"
      },
      "outputs": [
        {
          "data": {
            "text/html": [
              "\n",
              "  <div id=\"df-826c0315-91da-49ba-a844-30e1b48858c9\">\n",
              "    <div class=\"colab-df-container\">\n",
              "      <div>\n",
              "<style scoped>\n",
              "    .dataframe tbody tr th:only-of-type {\n",
              "        vertical-align: middle;\n",
              "    }\n",
              "\n",
              "    .dataframe tbody tr th {\n",
              "        vertical-align: top;\n",
              "    }\n",
              "\n",
              "    .dataframe thead th {\n",
              "        text-align: right;\n",
              "    }\n",
              "</style>\n",
              "<table border=\"1\" class=\"dataframe\">\n",
              "  <thead>\n",
              "    <tr style=\"text-align: right;\">\n",
              "      <th></th>\n",
              "      <th>Text</th>\n",
              "      <th>Label</th>\n",
              "    </tr>\n",
              "  </thead>\n",
              "  <tbody>\n",
              "    <tr>\n",
              "      <th>0</th>\n",
              "      <td>testimony is NOT evidence in a court of law, s...</td>\n",
              "      <td>litigious</td>\n",
              "    </tr>\n",
              "    <tr>\n",
              "      <th>1</th>\n",
              "      <td>https://t.co/YJNiO0p1JV Flagstar Bank disclose...</td>\n",
              "      <td>litigious</td>\n",
              "    </tr>\n",
              "    <tr>\n",
              "      <th>2</th>\n",
              "      <td>OOPS. I typed her name incorrectly (today’s br...</td>\n",
              "      <td>litigious</td>\n",
              "    </tr>\n",
              "    <tr>\n",
              "      <th>3</th>\n",
              "      <td>[When the first sign of surrender comes, Micha...</td>\n",
              "      <td>litigious</td>\n",
              "    </tr>\n",
              "    <tr>\n",
              "      <th>4</th>\n",
              "      <td>\"It's Your fight to save the UK from the liars...</td>\n",
              "      <td>litigious</td>\n",
              "    </tr>\n",
              "    <tr>\n",
              "      <th>...</th>\n",
              "      <td>...</td>\n",
              "      <td>...</td>\n",
              "    </tr>\n",
              "    <tr>\n",
              "      <th>119995</th>\n",
              "      <td>The neighbors filed a complaint against each o...</td>\n",
              "      <td>litigious</td>\n",
              "    </tr>\n",
              "    <tr>\n",
              "      <th>119996</th>\n",
              "      <td>The landlord is facing a lawsuit from the tena...</td>\n",
              "      <td>litigious</td>\n",
              "    </tr>\n",
              "    <tr>\n",
              "      <th>119997</th>\n",
              "      <td>A legal battle between former spouses ensued o...</td>\n",
              "      <td>litigious</td>\n",
              "    </tr>\n",
              "    <tr>\n",
              "      <th>119998</th>\n",
              "      <td>The homeowners' association sent a cease and d...</td>\n",
              "      <td>litigious</td>\n",
              "    </tr>\n",
              "    <tr>\n",
              "      <th>119999</th>\n",
              "      <td>Siblings engaged in a dispute over their late ...</td>\n",
              "      <td>litigious</td>\n",
              "    </tr>\n",
              "  </tbody>\n",
              "</table>\n",
              "<p>120000 rows × 2 columns</p>\n",
              "</div>\n",
              "      <button class=\"colab-df-convert\" onclick=\"convertToInteractive('df-826c0315-91da-49ba-a844-30e1b48858c9')\"\n",
              "              title=\"Convert this dataframe to an interactive table.\"\n",
              "              style=\"display:none;\">\n",
              "        \n",
              "  <svg xmlns=\"http://www.w3.org/2000/svg\" height=\"24px\"viewBox=\"0 0 24 24\"\n",
              "       width=\"24px\">\n",
              "    <path d=\"M0 0h24v24H0V0z\" fill=\"none\"/>\n",
              "    <path d=\"M18.56 5.44l.94 2.06.94-2.06 2.06-.94-2.06-.94-.94-2.06-.94 2.06-2.06.94zm-11 1L8.5 8.5l.94-2.06 2.06-.94-2.06-.94L8.5 2.5l-.94 2.06-2.06.94zm10 10l.94 2.06.94-2.06 2.06-.94-2.06-.94-.94-2.06-.94 2.06-2.06.94z\"/><path d=\"M17.41 7.96l-1.37-1.37c-.4-.4-.92-.59-1.43-.59-.52 0-1.04.2-1.43.59L10.3 9.45l-7.72 7.72c-.78.78-.78 2.05 0 2.83L4 21.41c.39.39.9.59 1.41.59.51 0 1.02-.2 1.41-.59l7.78-7.78 2.81-2.81c.8-.78.8-2.07 0-2.86zM5.41 20L4 18.59l7.72-7.72 1.47 1.35L5.41 20z\"/>\n",
              "  </svg>\n",
              "      </button>\n",
              "      \n",
              "  <style>\n",
              "    .colab-df-container {\n",
              "      display:flex;\n",
              "      flex-wrap:wrap;\n",
              "      gap: 12px;\n",
              "    }\n",
              "\n",
              "    .colab-df-convert {\n",
              "      background-color: #E8F0FE;\n",
              "      border: none;\n",
              "      border-radius: 50%;\n",
              "      cursor: pointer;\n",
              "      display: none;\n",
              "      fill: #1967D2;\n",
              "      height: 32px;\n",
              "      padding: 0 0 0 0;\n",
              "      width: 32px;\n",
              "    }\n",
              "\n",
              "    .colab-df-convert:hover {\n",
              "      background-color: #E2EBFA;\n",
              "      box-shadow: 0px 1px 2px rgba(60, 64, 67, 0.3), 0px 1px 3px 1px rgba(60, 64, 67, 0.15);\n",
              "      fill: #174EA6;\n",
              "    }\n",
              "\n",
              "    [theme=dark] .colab-df-convert {\n",
              "      background-color: #3B4455;\n",
              "      fill: #D2E3FC;\n",
              "    }\n",
              "\n",
              "    [theme=dark] .colab-df-convert:hover {\n",
              "      background-color: #434B5C;\n",
              "      box-shadow: 0px 1px 3px 1px rgba(0, 0, 0, 0.15);\n",
              "      filter: drop-shadow(0px 1px 2px rgba(0, 0, 0, 0.3));\n",
              "      fill: #FFFFFF;\n",
              "    }\n",
              "  </style>\n",
              "\n",
              "      <script>\n",
              "        const buttonEl =\n",
              "          document.querySelector('#df-826c0315-91da-49ba-a844-30e1b48858c9 button.colab-df-convert');\n",
              "        buttonEl.style.display =\n",
              "          google.colab.kernel.accessAllowed ? 'block' : 'none';\n",
              "\n",
              "        async function convertToInteractive(key) {\n",
              "          const element = document.querySelector('#df-826c0315-91da-49ba-a844-30e1b48858c9');\n",
              "          const dataTable =\n",
              "            await google.colab.kernel.invokeFunction('convertToInteractive',\n",
              "                                                     [key], {});\n",
              "          if (!dataTable) return;\n",
              "\n",
              "          const docLinkHtml = 'Like what you see? Visit the ' +\n",
              "            '<a target=\"_blank\" href=https://colab.research.google.com/notebooks/data_table.ipynb>data table notebook</a>'\n",
              "            + ' to learn more about interactive tables.';\n",
              "          element.innerHTML = '';\n",
              "          dataTable['output_type'] = 'display_data';\n",
              "          await google.colab.output.renderOutput(dataTable, element);\n",
              "          const docLink = document.createElement('div');\n",
              "          docLink.innerHTML = docLinkHtml;\n",
              "          element.appendChild(docLink);\n",
              "        }\n",
              "      </script>\n",
              "    </div>\n",
              "  </div>\n",
              "  "
            ],
            "text/plain": [
              "                                                     Text      Label\n",
              "0       testimony is NOT evidence in a court of law, s...  litigious\n",
              "1       https://t.co/YJNiO0p1JV Flagstar Bank disclose...  litigious\n",
              "2       OOPS. I typed her name incorrectly (today’s br...  litigious\n",
              "3       [When the first sign of surrender comes, Micha...  litigious\n",
              "4       \"It's Your fight to save the UK from the liars...  litigious\n",
              "...                                                   ...        ...\n",
              "119995  The neighbors filed a complaint against each o...  litigious\n",
              "119996  The landlord is facing a lawsuit from the tena...  litigious\n",
              "119997  A legal battle between former spouses ensued o...  litigious\n",
              "119998  The homeowners' association sent a cease and d...  litigious\n",
              "119999  Siblings engaged in a dispute over their late ...  litigious\n",
              "\n",
              "[120000 rows x 2 columns]"
            ]
          },
          "execution_count": 18,
          "metadata": {},
          "output_type": "execute_result"
        }
      ],
      "source": [
        "def remove_usernames(text):\n",
        "    pattern = r'@\\w+\\s?'\n",
        "    result = re.sub(pattern, '', text)\n",
        "    return result\n",
        "\n",
        "\n",
        "data['Text'] = data['Text'].apply(remove_usernames)\n",
        "data"
      ]
    },
    {
      "cell_type": "code",
      "execution_count": 19,
      "metadata": {
        "colab": {
          "base_uri": "https://localhost:8080/",
          "height": 36
        },
        "id": "XUxKgGXydJNX",
        "outputId": "1c9cfb83-c1dc-46b5-8d48-65800f10d19b"
      },
      "outputs": [
        {
          "data": {
            "application/vnd.google.colaboratory.intrinsic+json": {
              "type": "string"
            },
            "text/plain": [
              "'testimony is NOT evidence in a court of law, state or federal. Must stand up to cross examination'"
            ]
          },
          "execution_count": 19,
          "metadata": {},
          "output_type": "execute_result"
        }
      ],
      "source": [
        "# after\n",
        "data['Text'][0]"
      ]
    },
    {
      "cell_type": "code",
      "execution_count": 20,
      "metadata": {
        "colab": {
          "base_uri": "https://localhost:8080/",
          "height": 36
        },
        "id": "TfF-WwgOfjA3",
        "outputId": "fdf676a5-55c0-4742-b6be-7ec32c2942ce"
      },
      "outputs": [
        {
          "data": {
            "application/vnd.google.colaboratory.intrinsic+json": {
              "type": "string"
            },
            "text/plain": [
              "'litigious'"
            ]
          },
          "execution_count": 20,
          "metadata": {},
          "output_type": "execute_result"
        }
      ],
      "source": [
        "# corresponding label\n",
        "data['Label'][0]"
      ]
    },
    {
      "cell_type": "markdown",
      "metadata": {
        "id": "xz53q5dqdaLx"
      },
      "source": [
        "##### Next, hashtags\n",
        "\n",
        "- We need to remove the hashtags that follow the @ symbol.\n",
        "- Write a function using the re module"
      ]
    },
    {
      "cell_type": "code",
      "execution_count": 21,
      "metadata": {
        "colab": {
          "base_uri": "https://localhost:8080/",
          "height": 36
        },
        "id": "syVSZa51dRft",
        "outputId": "2a8d2e94-8453-47f1-a378-d8d29590fb71"
      },
      "outputs": [
        {
          "data": {
            "application/vnd.google.colaboratory.intrinsic+json": {
              "type": "string"
            },
            "text/plain": [
              "'The plaintiff alleges that the defendant committed defamation by spreading false and damaging statements about their character.'"
            ]
          },
          "execution_count": 21,
          "metadata": {},
          "output_type": "execute_result"
        }
      ],
      "source": [
        "# before\n",
        "data['Text'][100000]"
      ]
    },
    {
      "cell_type": "code",
      "execution_count": 22,
      "metadata": {
        "colab": {
          "base_uri": "https://localhost:8080/",
          "height": 36
        },
        "id": "k_j339ROP8CY",
        "outputId": "69c3aec6-0561-4afa-a0fc-7a2eaea1214a"
      },
      "outputs": [
        {
          "data": {
            "application/vnd.google.colaboratory.intrinsic+json": {
              "type": "string"
            },
            "text/plain": [
              "'litigious'"
            ]
          },
          "execution_count": 22,
          "metadata": {},
          "output_type": "execute_result"
        }
      ],
      "source": [
        "data['Label'][100000]"
      ]
    },
    {
      "cell_type": "code",
      "execution_count": 23,
      "metadata": {
        "colab": {
          "base_uri": "https://localhost:8080/",
          "height": 423
        },
        "id": "qFznFAwOdd3a",
        "outputId": "70610046-fc2b-402c-c94c-397ecf3b6f19"
      },
      "outputs": [
        {
          "data": {
            "text/html": [
              "\n",
              "  <div id=\"df-ad17b1dc-143e-4eb1-aa2d-1b670fb20d60\">\n",
              "    <div class=\"colab-df-container\">\n",
              "      <div>\n",
              "<style scoped>\n",
              "    .dataframe tbody tr th:only-of-type {\n",
              "        vertical-align: middle;\n",
              "    }\n",
              "\n",
              "    .dataframe tbody tr th {\n",
              "        vertical-align: top;\n",
              "    }\n",
              "\n",
              "    .dataframe thead th {\n",
              "        text-align: right;\n",
              "    }\n",
              "</style>\n",
              "<table border=\"1\" class=\"dataframe\">\n",
              "  <thead>\n",
              "    <tr style=\"text-align: right;\">\n",
              "      <th></th>\n",
              "      <th>Text</th>\n",
              "      <th>Label</th>\n",
              "    </tr>\n",
              "  </thead>\n",
              "  <tbody>\n",
              "    <tr>\n",
              "      <th>0</th>\n",
              "      <td>testimony is NOT evidence in a court of law, s...</td>\n",
              "      <td>litigious</td>\n",
              "    </tr>\n",
              "    <tr>\n",
              "      <th>1</th>\n",
              "      <td>https://t.co/YJNiO0p1JV Flagstar Bank disclose...</td>\n",
              "      <td>litigious</td>\n",
              "    </tr>\n",
              "    <tr>\n",
              "      <th>2</th>\n",
              "      <td>OOPS. I typed her name incorrectly (today’s br...</td>\n",
              "      <td>litigious</td>\n",
              "    </tr>\n",
              "    <tr>\n",
              "      <th>3</th>\n",
              "      <td>[When the first sign of surrender comes, Micha...</td>\n",
              "      <td>litigious</td>\n",
              "    </tr>\n",
              "    <tr>\n",
              "      <th>4</th>\n",
              "      <td>\"It's Your fight to save the UK from the liars...</td>\n",
              "      <td>litigious</td>\n",
              "    </tr>\n",
              "    <tr>\n",
              "      <th>...</th>\n",
              "      <td>...</td>\n",
              "      <td>...</td>\n",
              "    </tr>\n",
              "    <tr>\n",
              "      <th>119995</th>\n",
              "      <td>The neighbors filed a complaint against each o...</td>\n",
              "      <td>litigious</td>\n",
              "    </tr>\n",
              "    <tr>\n",
              "      <th>119996</th>\n",
              "      <td>The landlord is facing a lawsuit from the tena...</td>\n",
              "      <td>litigious</td>\n",
              "    </tr>\n",
              "    <tr>\n",
              "      <th>119997</th>\n",
              "      <td>A legal battle between former spouses ensued o...</td>\n",
              "      <td>litigious</td>\n",
              "    </tr>\n",
              "    <tr>\n",
              "      <th>119998</th>\n",
              "      <td>The homeowners' association sent a cease and d...</td>\n",
              "      <td>litigious</td>\n",
              "    </tr>\n",
              "    <tr>\n",
              "      <th>119999</th>\n",
              "      <td>Siblings engaged in a dispute over their late ...</td>\n",
              "      <td>litigious</td>\n",
              "    </tr>\n",
              "  </tbody>\n",
              "</table>\n",
              "<p>120000 rows × 2 columns</p>\n",
              "</div>\n",
              "      <button class=\"colab-df-convert\" onclick=\"convertToInteractive('df-ad17b1dc-143e-4eb1-aa2d-1b670fb20d60')\"\n",
              "              title=\"Convert this dataframe to an interactive table.\"\n",
              "              style=\"display:none;\">\n",
              "        \n",
              "  <svg xmlns=\"http://www.w3.org/2000/svg\" height=\"24px\"viewBox=\"0 0 24 24\"\n",
              "       width=\"24px\">\n",
              "    <path d=\"M0 0h24v24H0V0z\" fill=\"none\"/>\n",
              "    <path d=\"M18.56 5.44l.94 2.06.94-2.06 2.06-.94-2.06-.94-.94-2.06-.94 2.06-2.06.94zm-11 1L8.5 8.5l.94-2.06 2.06-.94-2.06-.94L8.5 2.5l-.94 2.06-2.06.94zm10 10l.94 2.06.94-2.06 2.06-.94-2.06-.94-.94-2.06-.94 2.06-2.06.94z\"/><path d=\"M17.41 7.96l-1.37-1.37c-.4-.4-.92-.59-1.43-.59-.52 0-1.04.2-1.43.59L10.3 9.45l-7.72 7.72c-.78.78-.78 2.05 0 2.83L4 21.41c.39.39.9.59 1.41.59.51 0 1.02-.2 1.41-.59l7.78-7.78 2.81-2.81c.8-.78.8-2.07 0-2.86zM5.41 20L4 18.59l7.72-7.72 1.47 1.35L5.41 20z\"/>\n",
              "  </svg>\n",
              "      </button>\n",
              "      \n",
              "  <style>\n",
              "    .colab-df-container {\n",
              "      display:flex;\n",
              "      flex-wrap:wrap;\n",
              "      gap: 12px;\n",
              "    }\n",
              "\n",
              "    .colab-df-convert {\n",
              "      background-color: #E8F0FE;\n",
              "      border: none;\n",
              "      border-radius: 50%;\n",
              "      cursor: pointer;\n",
              "      display: none;\n",
              "      fill: #1967D2;\n",
              "      height: 32px;\n",
              "      padding: 0 0 0 0;\n",
              "      width: 32px;\n",
              "    }\n",
              "\n",
              "    .colab-df-convert:hover {\n",
              "      background-color: #E2EBFA;\n",
              "      box-shadow: 0px 1px 2px rgba(60, 64, 67, 0.3), 0px 1px 3px 1px rgba(60, 64, 67, 0.15);\n",
              "      fill: #174EA6;\n",
              "    }\n",
              "\n",
              "    [theme=dark] .colab-df-convert {\n",
              "      background-color: #3B4455;\n",
              "      fill: #D2E3FC;\n",
              "    }\n",
              "\n",
              "    [theme=dark] .colab-df-convert:hover {\n",
              "      background-color: #434B5C;\n",
              "      box-shadow: 0px 1px 3px 1px rgba(0, 0, 0, 0.15);\n",
              "      filter: drop-shadow(0px 1px 2px rgba(0, 0, 0, 0.3));\n",
              "      fill: #FFFFFF;\n",
              "    }\n",
              "  </style>\n",
              "\n",
              "      <script>\n",
              "        const buttonEl =\n",
              "          document.querySelector('#df-ad17b1dc-143e-4eb1-aa2d-1b670fb20d60 button.colab-df-convert');\n",
              "        buttonEl.style.display =\n",
              "          google.colab.kernel.accessAllowed ? 'block' : 'none';\n",
              "\n",
              "        async function convertToInteractive(key) {\n",
              "          const element = document.querySelector('#df-ad17b1dc-143e-4eb1-aa2d-1b670fb20d60');\n",
              "          const dataTable =\n",
              "            await google.colab.kernel.invokeFunction('convertToInteractive',\n",
              "                                                     [key], {});\n",
              "          if (!dataTable) return;\n",
              "\n",
              "          const docLinkHtml = 'Like what you see? Visit the ' +\n",
              "            '<a target=\"_blank\" href=https://colab.research.google.com/notebooks/data_table.ipynb>data table notebook</a>'\n",
              "            + ' to learn more about interactive tables.';\n",
              "          element.innerHTML = '';\n",
              "          dataTable['output_type'] = 'display_data';\n",
              "          await google.colab.output.renderOutput(dataTable, element);\n",
              "          const docLink = document.createElement('div');\n",
              "          docLink.innerHTML = docLinkHtml;\n",
              "          element.appendChild(docLink);\n",
              "        }\n",
              "      </script>\n",
              "    </div>\n",
              "  </div>\n",
              "  "
            ],
            "text/plain": [
              "                                                     Text      Label\n",
              "0       testimony is NOT evidence in a court of law, s...  litigious\n",
              "1       https://t.co/YJNiO0p1JV Flagstar Bank disclose...  litigious\n",
              "2       OOPS. I typed her name incorrectly (today’s br...  litigious\n",
              "3       [When the first sign of surrender comes, Micha...  litigious\n",
              "4       \"It's Your fight to save the UK from the liars...  litigious\n",
              "...                                                   ...        ...\n",
              "119995  The neighbors filed a complaint against each o...  litigious\n",
              "119996  The landlord is facing a lawsuit from the tena...  litigious\n",
              "119997  A legal battle between former spouses ensued o...  litigious\n",
              "119998  The homeowners' association sent a cease and d...  litigious\n",
              "119999  Siblings engaged in a dispute over their late ...  litigious\n",
              "\n",
              "[120000 rows x 2 columns]"
            ]
          },
          "execution_count": 23,
          "metadata": {},
          "output_type": "execute_result"
        }
      ],
      "source": [
        "def remove_hastags(text):\n",
        "    pattern = r'#\\w+\\s?'\n",
        "    result = re.sub(pattern, '', text)\n",
        "    return result\n",
        "\n",
        "\n",
        "data['Text'] = data['Text'].apply(remove_hastags)\n",
        "data"
      ]
    },
    {
      "cell_type": "markdown",
      "metadata": {
        "id": "TTQ4AqTgdvQh"
      },
      "source": [
        "#### Next, hashtags\n",
        "\n",
        "- We need to remove the hashtags that follow the @ symbol.\n",
        "- Write a function using the re module"
      ]
    },
    {
      "cell_type": "code",
      "execution_count": 24,
      "metadata": {
        "colab": {
          "base_uri": "https://localhost:8080/",
          "height": 53
        },
        "id": "1N-D85aWdnIg",
        "outputId": "a8258e8c-5c1a-4750-94fa-dc12a9fc9ad4"
      },
      "outputs": [
        {
          "data": {
            "application/vnd.google.colaboratory.intrinsic+json": {
              "type": "string"
            },
            "text/plain": [
              "'[When the first sign of surrender comes, Michael’s smile splits his face like a sharp knife through flesh. It would chill Dean to his very core if he were to witness this ice cold existence and its nature, and the Archangel would have an enjoyable time »'"
            ]
          },
          "execution_count": 24,
          "metadata": {},
          "output_type": "execute_result"
        }
      ],
      "source": [
        "#after there are not more hashtags\n",
        "data['Text'][3]"
      ]
    },
    {
      "cell_type": "markdown",
      "metadata": {
        "id": "QCEWtqbQguUa"
      },
      "source": [
        "##### Next, http links\n",
        "\n",
        "- We need to remove all http links.\n",
        "- Write a function using the re module"
      ]
    },
    {
      "cell_type": "code",
      "execution_count": 25,
      "metadata": {
        "colab": {
          "base_uri": "https://localhost:8080/",
          "height": 53
        },
        "id": "6jaRTxhCgrHi",
        "outputId": "c4a691d2-96b5-4297-95f4-4eb065856397"
      },
      "outputs": [
        {
          "data": {
            "application/vnd.google.colaboratory.intrinsic+json": {
              "type": "string"
            },
            "text/plain": [
              "'[When the first sign of surrender comes, Michael’s smile splits his face like a sharp knife through flesh. It would chill Dean to his very core if he were to witness this ice cold existence and its nature, and the Archangel would have an enjoyable time »'"
            ]
          },
          "execution_count": 25,
          "metadata": {},
          "output_type": "execute_result"
        }
      ],
      "source": [
        "#before\n",
        "data['Text'][3]"
      ]
    },
    {
      "cell_type": "code",
      "execution_count": 26,
      "metadata": {
        "id": "KAVY8qRngyEq"
      },
      "outputs": [],
      "source": [
        "def remove_urls(string):\n",
        "    pattern = r'https?://\\S+'\n",
        "    result = re.sub(pattern, '', string)\n",
        "    return result\n",
        "\n",
        "data['Text'] = data['Text'].apply(remove_urls)"
      ]
    },
    {
      "cell_type": "code",
      "execution_count": 27,
      "metadata": {
        "colab": {
          "base_uri": "https://localhost:8080/",
          "height": 36
        },
        "id": "Sw3J5WwLg_BQ",
        "outputId": "ceeb04a8-ae9b-4c17-ff6b-4d230ff0d7ae"
      },
      "outputs": [
        {
          "data": {
            "application/vnd.google.colaboratory.intrinsic+json": {
              "type": "string"
            },
            "text/plain": [
              "'a family issue put her in witness protection as a child.'"
            ]
          },
          "execution_count": 27,
          "metadata": {},
          "output_type": "execute_result"
        }
      ],
      "source": [
        "#after\n",
        "data['Text'][203]"
      ]
    },
    {
      "cell_type": "markdown",
      "metadata": {
        "id": "-SQ0K4VVhDjK"
      },
      "source": [
        "\n",
        "##### Remove special characters\n",
        "\n",
        "- We need to remove * and newline characters (\\n).\n",
        "- Write a function using the re module"
      ]
    },
    {
      "cell_type": "code",
      "execution_count": 28,
      "metadata": {
        "colab": {
          "base_uri": "https://localhost:8080/"
        },
        "id": "Rc6ln_r_hEHd",
        "outputId": "da376b6d-c478-4fb2-a054-ff23ce34d22c"
      },
      "outputs": [
        {
          "data": {
            "text/plain": [
              "array(['testimony is NOT evidence in a court of law, state or federal. Must stand up to cross examination',\n",
              "       ' Flagstar Bank discloses a data breach that impacted 1.5\\nMillion individuals ',\n",
              "       'OOPS. I typed her name incorrectly (today’s brave witness) . 6. 7. (probaby) . Don’t forget requesting a . ',\n",
              "       ...,\n",
              "       'A legal battle between former spouses ensued over child custody, with both parties accusing each other of parental alienation and seeking sole custody rights.',\n",
              "       \"The homeowners' association sent a cease and desist letter to a resident for violating community guidelines by conducting business activities from their home.\",\n",
              "       \"Siblings engaged in a dispute over their late parent's estate, resulting in a contentious probate case with allegations of undue influence and mismanagement of assets.\"],\n",
              "      dtype=object)"
            ]
          },
          "execution_count": 28,
          "metadata": {},
          "output_type": "execute_result"
        }
      ],
      "source": [
        "#before\n",
        "data['Text'].unique()"
      ]
    },
    {
      "cell_type": "code",
      "execution_count": 29,
      "metadata": {
        "colab": {
          "base_uri": "https://localhost:8080/",
          "height": 206
        },
        "id": "jecglMH2hO0p",
        "outputId": "fe5c4057-9ffa-4485-9c2c-90ca71bda696"
      },
      "outputs": [
        {
          "data": {
            "text/html": [
              "\n",
              "  <div id=\"df-9b85d5f9-a2e7-481c-b07f-1508be250778\">\n",
              "    <div class=\"colab-df-container\">\n",
              "      <div>\n",
              "<style scoped>\n",
              "    .dataframe tbody tr th:only-of-type {\n",
              "        vertical-align: middle;\n",
              "    }\n",
              "\n",
              "    .dataframe tbody tr th {\n",
              "        vertical-align: top;\n",
              "    }\n",
              "\n",
              "    .dataframe thead th {\n",
              "        text-align: right;\n",
              "    }\n",
              "</style>\n",
              "<table border=\"1\" class=\"dataframe\">\n",
              "  <thead>\n",
              "    <tr style=\"text-align: right;\">\n",
              "      <th></th>\n",
              "      <th>Text</th>\n",
              "      <th>Label</th>\n",
              "    </tr>\n",
              "  </thead>\n",
              "  <tbody>\n",
              "    <tr>\n",
              "      <th>0</th>\n",
              "      <td>testimony is NOT evidence in a court of law, s...</td>\n",
              "      <td>litigious</td>\n",
              "    </tr>\n",
              "    <tr>\n",
              "      <th>1</th>\n",
              "      <td>Flagstar Bank discloses a data breach that im...</td>\n",
              "      <td>litigious</td>\n",
              "    </tr>\n",
              "    <tr>\n",
              "      <th>2</th>\n",
              "      <td>OOPS. I typed her name incorrectly (today’s br...</td>\n",
              "      <td>litigious</td>\n",
              "    </tr>\n",
              "    <tr>\n",
              "      <th>3</th>\n",
              "      <td>[When the first sign of surrender comes, Micha...</td>\n",
              "      <td>litigious</td>\n",
              "    </tr>\n",
              "    <tr>\n",
              "      <th>4</th>\n",
              "      <td>\"It's Your fight to save the UK from the liars...</td>\n",
              "      <td>litigious</td>\n",
              "    </tr>\n",
              "  </tbody>\n",
              "</table>\n",
              "</div>\n",
              "      <button class=\"colab-df-convert\" onclick=\"convertToInteractive('df-9b85d5f9-a2e7-481c-b07f-1508be250778')\"\n",
              "              title=\"Convert this dataframe to an interactive table.\"\n",
              "              style=\"display:none;\">\n",
              "        \n",
              "  <svg xmlns=\"http://www.w3.org/2000/svg\" height=\"24px\"viewBox=\"0 0 24 24\"\n",
              "       width=\"24px\">\n",
              "    <path d=\"M0 0h24v24H0V0z\" fill=\"none\"/>\n",
              "    <path d=\"M18.56 5.44l.94 2.06.94-2.06 2.06-.94-2.06-.94-.94-2.06-.94 2.06-2.06.94zm-11 1L8.5 8.5l.94-2.06 2.06-.94-2.06-.94L8.5 2.5l-.94 2.06-2.06.94zm10 10l.94 2.06.94-2.06 2.06-.94-2.06-.94-.94-2.06-.94 2.06-2.06.94z\"/><path d=\"M17.41 7.96l-1.37-1.37c-.4-.4-.92-.59-1.43-.59-.52 0-1.04.2-1.43.59L10.3 9.45l-7.72 7.72c-.78.78-.78 2.05 0 2.83L4 21.41c.39.39.9.59 1.41.59.51 0 1.02-.2 1.41-.59l7.78-7.78 2.81-2.81c.8-.78.8-2.07 0-2.86zM5.41 20L4 18.59l7.72-7.72 1.47 1.35L5.41 20z\"/>\n",
              "  </svg>\n",
              "      </button>\n",
              "      \n",
              "  <style>\n",
              "    .colab-df-container {\n",
              "      display:flex;\n",
              "      flex-wrap:wrap;\n",
              "      gap: 12px;\n",
              "    }\n",
              "\n",
              "    .colab-df-convert {\n",
              "      background-color: #E8F0FE;\n",
              "      border: none;\n",
              "      border-radius: 50%;\n",
              "      cursor: pointer;\n",
              "      display: none;\n",
              "      fill: #1967D2;\n",
              "      height: 32px;\n",
              "      padding: 0 0 0 0;\n",
              "      width: 32px;\n",
              "    }\n",
              "\n",
              "    .colab-df-convert:hover {\n",
              "      background-color: #E2EBFA;\n",
              "      box-shadow: 0px 1px 2px rgba(60, 64, 67, 0.3), 0px 1px 3px 1px rgba(60, 64, 67, 0.15);\n",
              "      fill: #174EA6;\n",
              "    }\n",
              "\n",
              "    [theme=dark] .colab-df-convert {\n",
              "      background-color: #3B4455;\n",
              "      fill: #D2E3FC;\n",
              "    }\n",
              "\n",
              "    [theme=dark] .colab-df-convert:hover {\n",
              "      background-color: #434B5C;\n",
              "      box-shadow: 0px 1px 3px 1px rgba(0, 0, 0, 0.15);\n",
              "      filter: drop-shadow(0px 1px 2px rgba(0, 0, 0, 0.3));\n",
              "      fill: #FFFFFF;\n",
              "    }\n",
              "  </style>\n",
              "\n",
              "      <script>\n",
              "        const buttonEl =\n",
              "          document.querySelector('#df-9b85d5f9-a2e7-481c-b07f-1508be250778 button.colab-df-convert');\n",
              "        buttonEl.style.display =\n",
              "          google.colab.kernel.accessAllowed ? 'block' : 'none';\n",
              "\n",
              "        async function convertToInteractive(key) {\n",
              "          const element = document.querySelector('#df-9b85d5f9-a2e7-481c-b07f-1508be250778');\n",
              "          const dataTable =\n",
              "            await google.colab.kernel.invokeFunction('convertToInteractive',\n",
              "                                                     [key], {});\n",
              "          if (!dataTable) return;\n",
              "\n",
              "          const docLinkHtml = 'Like what you see? Visit the ' +\n",
              "            '<a target=\"_blank\" href=https://colab.research.google.com/notebooks/data_table.ipynb>data table notebook</a>'\n",
              "            + ' to learn more about interactive tables.';\n",
              "          element.innerHTML = '';\n",
              "          dataTable['output_type'] = 'display_data';\n",
              "          await google.colab.output.renderOutput(dataTable, element);\n",
              "          const docLink = document.createElement('div');\n",
              "          docLink.innerHTML = docLinkHtml;\n",
              "          element.appendChild(docLink);\n",
              "        }\n",
              "      </script>\n",
              "    </div>\n",
              "  </div>\n",
              "  "
            ],
            "text/plain": [
              "                                                Text      Label\n",
              "0  testimony is NOT evidence in a court of law, s...  litigious\n",
              "1   Flagstar Bank discloses a data breach that im...  litigious\n",
              "2  OOPS. I typed her name incorrectly (today’s br...  litigious\n",
              "3  [When the first sign of surrender comes, Micha...  litigious\n",
              "4  \"It's Your fight to save the UK from the liars...  litigious"
            ]
          },
          "execution_count": 29,
          "metadata": {},
          "output_type": "execute_result"
        }
      ],
      "source": [
        "def remove_special_chars(text):\n",
        "    pattern = r'[*\\n]'\n",
        "    cleaned_text = re.sub(pattern, '', text)\n",
        "    return cleaned_text\n",
        "\n",
        "data['Text'] = data['Text'].apply(remove_special_chars)\n",
        "data.head()"
      ]
    },
    {
      "cell_type": "markdown",
      "metadata": {
        "id": "9nrCKECVzTc1"
      },
      "source": [
        "### Let's shuffle the dataset because of the engineering we did"
      ]
    },
    {
=======
>>>>>>> main
      "cell_type": "code",
      "execution_count": 30,
      "metadata": {
        "colab": {
          "base_uri": "https://localhost:8080/",
          "height": 206
        },
        "id": "DzoXi7zLzOfE",
        "outputId": "e5f83a83-9cb9-4a6d-a380-e8ad588a0875"
      },
<<<<<<< HEAD
=======
      "execution_count": 122,
>>>>>>> main
      "outputs": [
        {
          "data": {
<<<<<<< HEAD
=======
            "text/plain": [
              "                                                     Text        Label\n",
              "38683   The court issued an injunction to prevent the ...    litigious\n",
              "64939    I find myself second-guessing every step I take.  uncertainty\n",
              "3954    The plaintiff claims substantial damages resul...    litigious\n",
              "120374  It's a challenging decision to make, and I'm u...  uncertainty\n",
              "172861  Innovation flourished, sparking new ideas and ...     positive"
            ],
>>>>>>> main
            "text/html": [
              "\n",
              "  <div id=\"df-9933861a-4aff-4da3-accb-9da1577a5122\">\n",
              "    <div class=\"colab-df-container\">\n",
              "      <div>\n",
              "<style scoped>\n",
              "    .dataframe tbody tr th:only-of-type {\n",
              "        vertical-align: middle;\n",
              "    }\n",
              "\n",
              "    .dataframe tbody tr th {\n",
              "        vertical-align: top;\n",
              "    }\n",
              "\n",
              "    .dataframe thead th {\n",
              "        text-align: right;\n",
              "    }\n",
              "</style>\n",
              "<table border=\"1\" class=\"dataframe\">\n",
              "  <thead>\n",
              "    <tr style=\"text-align: right;\">\n",
              "      <th></th>\n",
              "      <th>Text</th>\n",
              "      <th>Label</th>\n",
              "    </tr>\n",
              "  </thead>\n",
              "  <tbody>\n",
              "    <tr>\n",
              "      <th>38683</th>\n",
              "      <td>The court issued an injunction to prevent the ...</td>\n",
              "      <td>litigious</td>\n",
              "    </tr>\n",
              "    <tr>\n",
              "      <th>64939</th>\n",
              "      <td>I find myself second-guessing every step I take.</td>\n",
              "      <td>uncertainty</td>\n",
              "    </tr>\n",
              "    <tr>\n",
              "      <th>3954</th>\n",
              "      <td>The plaintiff claims substantial damages resul...</td>\n",
              "      <td>litigious</td>\n",
              "    </tr>\n",
              "    <tr>\n",
              "      <th>120374</th>\n",
              "      <td>It's a challenging decision to make, and I'm u...</td>\n",
              "      <td>uncertainty</td>\n",
              "    </tr>\n",
              "    <tr>\n",
              "      <th>172861</th>\n",
              "      <td>Innovation flourished, sparking new ideas and ...</td>\n",
              "      <td>positive</td>\n",
              "    </tr>\n",
              "  </tbody>\n",
              "</table>\n",
              "</div>\n",
              "      <button class=\"colab-df-convert\" onclick=\"convertToInteractive('df-9933861a-4aff-4da3-accb-9da1577a5122')\"\n",
              "              title=\"Convert this dataframe to an interactive table.\"\n",
              "              style=\"display:none;\">\n",
              "        \n",
              "  <svg xmlns=\"http://www.w3.org/2000/svg\" height=\"24px\"viewBox=\"0 0 24 24\"\n",
              "       width=\"24px\">\n",
              "    <path d=\"M0 0h24v24H0V0z\" fill=\"none\"/>\n",
              "    <path d=\"M18.56 5.44l.94 2.06.94-2.06 2.06-.94-2.06-.94-.94-2.06-.94 2.06-2.06.94zm-11 1L8.5 8.5l.94-2.06 2.06-.94-2.06-.94L8.5 2.5l-.94 2.06-2.06.94zm10 10l.94 2.06.94-2.06 2.06-.94-2.06-.94-.94-2.06-.94 2.06-2.06.94z\"/><path d=\"M17.41 7.96l-1.37-1.37c-.4-.4-.92-.59-1.43-.59-.52 0-1.04.2-1.43.59L10.3 9.45l-7.72 7.72c-.78.78-.78 2.05 0 2.83L4 21.41c.39.39.9.59 1.41.59.51 0 1.02-.2 1.41-.59l7.78-7.78 2.81-2.81c.8-.78.8-2.07 0-2.86zM5.41 20L4 18.59l7.72-7.72 1.47 1.35L5.41 20z\"/>\n",
              "  </svg>\n",
              "      </button>\n",
              "      \n",
              "  <style>\n",
              "    .colab-df-container {\n",
              "      display:flex;\n",
              "      flex-wrap:wrap;\n",
              "      gap: 12px;\n",
              "    }\n",
              "\n",
              "    .colab-df-convert {\n",
              "      background-color: #E8F0FE;\n",
              "      border: none;\n",
              "      border-radius: 50%;\n",
              "      cursor: pointer;\n",
              "      display: none;\n",
              "      fill: #1967D2;\n",
              "      height: 32px;\n",
              "      padding: 0 0 0 0;\n",
              "      width: 32px;\n",
              "    }\n",
              "\n",
              "    .colab-df-convert:hover {\n",
              "      background-color: #E2EBFA;\n",
              "      box-shadow: 0px 1px 2px rgba(60, 64, 67, 0.3), 0px 1px 3px 1px rgba(60, 64, 67, 0.15);\n",
              "      fill: #174EA6;\n",
              "    }\n",
              "\n",
              "    [theme=dark] .colab-df-convert {\n",
              "      background-color: #3B4455;\n",
              "      fill: #D2E3FC;\n",
              "    }\n",
              "\n",
              "    [theme=dark] .colab-df-convert:hover {\n",
              "      background-color: #434B5C;\n",
              "      box-shadow: 0px 1px 3px 1px rgba(0, 0, 0, 0.15);\n",
              "      filter: drop-shadow(0px 1px 2px rgba(0, 0, 0, 0.3));\n",
              "      fill: #FFFFFF;\n",
              "    }\n",
              "  </style>\n",
              "\n",
              "      <script>\n",
              "        const buttonEl =\n",
              "          document.querySelector('#df-9933861a-4aff-4da3-accb-9da1577a5122 button.colab-df-convert');\n",
              "        buttonEl.style.display =\n",
              "          google.colab.kernel.accessAllowed ? 'block' : 'none';\n",
              "\n",
              "        async function convertToInteractive(key) {\n",
              "          const element = document.querySelector('#df-9933861a-4aff-4da3-accb-9da1577a5122');\n",
              "          const dataTable =\n",
              "            await google.colab.kernel.invokeFunction('convertToInteractive',\n",
              "                                                     [key], {});\n",
              "          if (!dataTable) return;\n",
              "\n",
              "          const docLinkHtml = 'Like what you see? Visit the ' +\n",
              "            '<a target=\"_blank\" href=https://colab.research.google.com/notebooks/data_table.ipynb>data table notebook</a>'\n",
              "            + ' to learn more about interactive tables.';\n",
              "          element.innerHTML = '';\n",
              "          dataTable['output_type'] = 'display_data';\n",
              "          await google.colab.output.renderOutput(dataTable, element);\n",
              "          const docLink = document.createElement('div');\n",
              "          docLink.innerHTML = docLinkHtml;\n",
              "          element.appendChild(docLink);\n",
              "        }\n",
              "      </script>\n",
              "    </div>\n",
              "  </div>\n",
              "  "
            ],
            "text/plain": [
              "                                                    Text        Label\n",
              "71787  I wish i had a ps5, still on the ps4 and can’t...     negative\n",
              "67218    Our air conditioner at my job is broken again 😭     negative\n",
              "54066  Wait you don't think a true Trumper is easier ...     positive\n",
              "7168   ‘Too much risk’: why Erasmus students are shun...  uncertainty\n",
              "29618        Maybe they should try eating Lean Kwehsine.  uncertainty"
            ]
          },
          "execution_count": 30,
          "metadata": {},
<<<<<<< HEAD
          "output_type": "execute_result"
=======
          "execution_count": 122
        }
      ]
    },
    {
      "cell_type": "code",
      "source": [
        "data.shape\n"
      ],
      "metadata": {
        "colab": {
          "base_uri": "https://localhost:8080/"
        },
        "id": "MM23jO3Avyip",
        "outputId": "74f0ba97-bdd6-4f91-9526-aa68c1679a2f"
      },
      "execution_count": 123,
      "outputs": [
        {
          "output_type": "execute_result",
          "data": {
            "text/plain": [
              "(250000, 2)"
            ]
          },
          "metadata": {},
          "execution_count": 123
>>>>>>> main
        }
      ],
      "source": [
        "data = data.sample(frac=1, random_state=42)  \n",
        "\n",
        "# Frac=1 ensures all rows are included, random_state ensures we can reproduce the same sample data set\n",
        "\n",
        "data.head()\n"
      ]
    },
    {
      "cell_type": "markdown",
      "metadata": {
        "id": "C0aJWWkR6vPs"
      },
      "source": [
        "# Let's Train a Bert Model with a quarter million Tweets"
      ]
    },
    {
      "cell_type": "markdown",
      "metadata": {
        "id": "rkswR818hYyB"
      },
      "source": [
        "#### Creating Tokenizer and Model\n",
        "\n",
        "Let's convert our text and label column into list for easy splitting\n",
        "\n"
      ]
    },
    {
      "cell_type": "code",
      "execution_count": 150,
      "metadata": {
        "id": "vfmwX-BPhdY0"
      },
      "outputs": [],
      "source": [
        "X = data['Text'].to_list()\n",
        "y = data['Label'].to_list()\n",
        "\n",
        "\n",
        "X_train, X_test, y_train, y_test = train_test_split(X, y, test_size=0.2, random_state=42)\n",
        "\n",
        "label_encoder = LabelEncoder()\n",
        "train_labels = label_encoder.fit_transform(y_train)"
      ]
    },
    {
      "cell_type": "code",
      "execution_count": 151,
      "metadata": {
<<<<<<< HEAD
        "colab": {
          "base_uri": "https://localhost:8080/",
          "height": 145,
          "referenced_widgets": [
            "402f8d55db9f4f87a0db4c5da2f0a042",
            "b5cd0e17acbd400b91b240eea04ec270",
            "e6de111c981b4bb79a768201c40aed81",
            "a0b6d47cf42a461db0cecb4a64da160d",
            "4aa2aef51b534fe08ffeed1ac7f2f894",
            "997cd555fa7541bd9ea358dcb6d5a623",
            "0658506d9ea849f6b1757c2beeec1374",
            "534846a2e8674f2fa5ee12d7cd0cb864",
            "e4c1d65d4f4b4ee28593459b5e08025f",
            "f76cdc6af41a4f57962585fc831d4575",
            "8afb6933d3b844998f497df85e677a71",
            "cdaa91c4f234424cb86145eecc5d873e",
            "3610d4ce76444049be7cb23bdf89ed6d",
            "c350f8e508c9489fa085e5be96a06213",
            "56e6ea4d36a349229f1e21e64fc24891",
            "2e55173b72704af0b789f1cec6f0d302",
            "fb496c9fdf4849cfbe02bb90dd937d0f",
            "92da5a1db9e546728ea964327bf3d2c7",
            "552e1d9d0eff456c9aed3ff69f462bcd",
            "f0505e14608b4d2393d1b34fc3d6b02e",
            "86081c4530494ae094faa7a7d62115bc",
            "bc67028c4bd74ca58a066f3c4162691e",
            "071e857ba588417791fe6041cfbb5eb1",
            "ba77cc3dfec7445eb3037f5b557e67f6",
            "8b8f8538dc414ab389c8d404ce6a6404",
            "36f4a4ddba384dd6a98ae8222411553b",
            "2b19b22d3f4d4bbc9684fbf9a057fe80",
            "0ab6adb6bfa142bc8d4a95e9d9262f9e",
            "e41835cba0e64e1c82b7b8d048a60009",
            "9aca358d24ad4d0abde5216a466cf4a7",
            "b60b4bde2ddc441e9aa065e02ddfc593",
            "4464618ffba44244983bcf60b784cc31",
            "12710c02945d4b25bfeb736c920fb02d",
            "ebeb89455cc5499cb5e3235095c9f556",
            "9c0ec9282a2d476989738f76ecd79c27",
            "0f406d7294ac4d4bbaf2281aa2596c42",
            "34f25a36c81b409a8aa93c64003ac7c6",
            "c3f6e6c38b2d42979dba7e4d9dd9b8c4",
            "1f693ad3e96d4f18ab9edccec2d951bc",
            "89c62ad73874414bb01e9ce151fa4371",
            "8994a1ae39674840a98e30f6006305d1",
            "183286a1b6d34380a1121af6c4fe2c1b",
            "295361afc085400cbbce4b2fcd48edc2",
            "c05daba601cb4c4b83f9e0e2eb857875"
          ]
        },
        "id": "hB4fe-dW9fus",
        "outputId": "9ad0d4ac-e444-44c9-dc28-19205f2fadd0"
      },
      "outputs": [
        {
          "data": {
            "application/vnd.jupyter.widget-view+json": {
              "model_id": "402f8d55db9f4f87a0db4c5da2f0a042",
              "version_major": 2,
              "version_minor": 0
            },
            "text/plain": [
              "Downloading (…)okenizer_config.json:   0%|          | 0.00/28.0 [00:00<?, ?B/s]"
            ]
          },
          "metadata": {},
          "output_type": "display_data"
        },
        {
          "data": {
            "application/vnd.jupyter.widget-view+json": {
              "model_id": "cdaa91c4f234424cb86145eecc5d873e",
              "version_major": 2,
              "version_minor": 0
            },
            "text/plain": [
              "Downloading (…)lve/main/config.json:   0%|          | 0.00/570 [00:00<?, ?B/s]"
            ]
          },
          "metadata": {},
          "output_type": "display_data"
        },
        {
          "data": {
            "application/vnd.jupyter.widget-view+json": {
              "model_id": "071e857ba588417791fe6041cfbb5eb1",
              "version_major": 2,
              "version_minor": 0
            },
            "text/plain": [
              "Downloading (…)solve/main/vocab.txt:   0%|          | 0.00/232k [00:00<?, ?B/s]"
            ]
          },
          "metadata": {},
          "output_type": "display_data"
        },
        {
          "data": {
            "application/vnd.jupyter.widget-view+json": {
              "model_id": "ebeb89455cc5499cb5e3235095c9f556",
              "version_major": 2,
              "version_minor": 0
            },
            "text/plain": [
              "Downloading (…)/main/tokenizer.json:   0%|          | 0.00/466k [00:00<?, ?B/s]"
            ]
          },
          "metadata": {},
          "output_type": "display_data"
        }
      ],
=======
        "id": "hB4fe-dW9fus"
      },
      "outputs": [],
>>>>>>> main
      "source": [
        "# Load the tokenizer\n",
        "tokenizer = AutoTokenizer.from_pretrained('bert-base-uncased')\n",
        "\n",
        "# Tokenize and encode the training texts\n",
        "train_encodings = tokenizer(X_train, truncation=True, padding=True)\n",
        "train_labels = torch.tensor(train_labels)"
      ]
    },
    {
      "cell_type": "code",
      "execution_count": 152,
      "metadata": {
        "id": "s98nGtsv9i1k"
      },
      "outputs": [],
      "source": [
        "# Tokenize and encode the test texts\n",
        "test_encodings = tokenizer(X_test, truncation=True, padding=True)\n",
        "test_labels = torch.tensor(label_encoder.transform(y_test))"
      ]
    },
    {
      "cell_type": "code",
      "execution_count": 153,
      "metadata": {
        "id": "OD9krZRc_tGb"
      },
      "outputs": [],
      "source": [
        "# Create train and test datasets\n",
        "\n",
        "class SentimentDataset(torch.utils.data.Dataset):\n",
        "    def __init__(self, encodings, labels):\n",
        "        self.encodings = encodings\n",
        "        self.labels = labels\n",
        "\n",
        "    def __getitem__(self, idx):\n",
        "        item = {key: torch.tensor(val[idx]) for key, val in self.encodings.items()}\n",
        "        item['labels'] = torch.tensor(self.labels[idx])\n",
        "        return item\n",
        "\n",
        "    def __len__(self):\n",
        "        return len(self.labels)"
      ]
    },
    {
      "cell_type": "code",
      "execution_count": 154,
      "metadata": {
        "id": "ec36n4jB_06j"
      },
      "outputs": [],
      "source": [
        "\n",
        "train_dataset = SentimentDataset(train_encodings, train_labels)\n",
        "test_dataset = SentimentDataset(test_encodings, test_labels)"
      ]
    },
    {
      "cell_type": "code",
      "execution_count": 155,
      "metadata": {
        "id": "p9kl4Nz3__8T"
      },
      "outputs": [],
      "source": [
        "#Create train and test dataloaders\n",
        "train_dataloader = torch.utils.data.DataLoader(train_dataset, batch_size=16, shuffle=True)\n",
        "test_dataloader = torch.utils.data.DataLoader(test_dataset, batch_size=16, shuffle=False)"
      ]
    },
    {
      "cell_type": "code",
      "execution_count": 156,
      "metadata": {
        "colab": {
          "base_uri": "https://localhost:8080/"
        },
        "id": "ulN4_Qg1AF4c",
        "outputId": "0709cf35-cce8-4b13-dc3d-29646447ff16"
      },
      "outputs": [
        {
<<<<<<< HEAD
          "data": {
            "application/vnd.jupyter.widget-view+json": {
              "model_id": "96d9a65fb96a4b0295023d7291e3be4f",
              "version_major": 2,
              "version_minor": 0
            },
            "text/plain": [
              "Downloading pytorch_model.bin:   0%|          | 0.00/440M [00:00<?, ?B/s]"
            ]
          },
          "metadata": {},
          "output_type": "display_data"
        },
        {
=======
          "output_type": "stream",
>>>>>>> main
          "name": "stderr",
          "output_type": "stream",
          "text": [
            "Some weights of the model checkpoint at bert-base-uncased were not used when initializing BertForSequenceClassification: ['cls.predictions.decoder.weight', 'cls.predictions.transform.dense.weight', 'cls.predictions.transform.LayerNorm.weight', 'cls.predictions.transform.dense.bias', 'cls.predictions.bias', 'cls.predictions.transform.LayerNorm.bias', 'cls.seq_relationship.weight', 'cls.seq_relationship.bias']\n",
            "- This IS expected if you are initializing BertForSequenceClassification from the checkpoint of a model trained on another task or with another architecture (e.g. initializing a BertForSequenceClassification model from a BertForPreTraining model).\n",
            "- This IS NOT expected if you are initializing BertForSequenceClassification from the checkpoint of a model that you expect to be exactly identical (initializing a BertForSequenceClassification model from a BertForSequenceClassification model).\n",
            "Some weights of BertForSequenceClassification were not initialized from the model checkpoint at bert-base-uncased and are newly initialized: ['classifier.bias', 'classifier.weight']\n",
            "You should probably TRAIN this model on a down-stream task to be able to use it for predictions and inference.\n"
          ]
        }
      ],
      "source": [
        "# Load the pre-trained model\n",
        "model = AutoModelForSequenceClassification.from_pretrained('bert-base-uncased', num_labels=4)\n"
      ]
    },
    {
      "cell_type": "code",
      "execution_count": null,
      "metadata": {
        "id": "fYZ2g-VhALm7"
      },
<<<<<<< HEAD
      "outputs": [
        {
          "data": {
            "text/plain": [
              "BertForSequenceClassification(\n",
              "  (bert): BertModel(\n",
              "    (embeddings): BertEmbeddings(\n",
              "      (word_embeddings): Embedding(30522, 768, padding_idx=0)\n",
              "      (position_embeddings): Embedding(512, 768)\n",
              "      (token_type_embeddings): Embedding(2, 768)\n",
              "      (LayerNorm): LayerNorm((768,), eps=1e-12, elementwise_affine=True)\n",
              "      (dropout): Dropout(p=0.1, inplace=False)\n",
              "    )\n",
              "    (encoder): BertEncoder(\n",
              "      (layer): ModuleList(\n",
              "        (0-11): 12 x BertLayer(\n",
              "          (attention): BertAttention(\n",
              "            (self): BertSelfAttention(\n",
              "              (query): Linear(in_features=768, out_features=768, bias=True)\n",
              "              (key): Linear(in_features=768, out_features=768, bias=True)\n",
              "              (value): Linear(in_features=768, out_features=768, bias=True)\n",
              "              (dropout): Dropout(p=0.1, inplace=False)\n",
              "            )\n",
              "            (output): BertSelfOutput(\n",
              "              (dense): Linear(in_features=768, out_features=768, bias=True)\n",
              "              (LayerNorm): LayerNorm((768,), eps=1e-12, elementwise_affine=True)\n",
              "              (dropout): Dropout(p=0.1, inplace=False)\n",
              "            )\n",
              "          )\n",
              "          (intermediate): BertIntermediate(\n",
              "            (dense): Linear(in_features=768, out_features=3072, bias=True)\n",
              "            (intermediate_act_fn): GELUActivation()\n",
              "          )\n",
              "          (output): BertOutput(\n",
              "            (dense): Linear(in_features=3072, out_features=768, bias=True)\n",
              "            (LayerNorm): LayerNorm((768,), eps=1e-12, elementwise_affine=True)\n",
              "            (dropout): Dropout(p=0.1, inplace=False)\n",
              "          )\n",
              "        )\n",
              "      )\n",
              "    )\n",
              "    (pooler): BertPooler(\n",
              "      (dense): Linear(in_features=768, out_features=768, bias=True)\n",
              "      (activation): Tanh()\n",
              "    )\n",
              "  )\n",
              "  (dropout): Dropout(p=0.1, inplace=False)\n",
              "  (classifier): Linear(in_features=768, out_features=4, bias=True)\n",
              ")"
            ]
          },
          "execution_count": 38,
          "metadata": {},
          "output_type": "execute_result"
        }
      ],
=======
      "outputs": [],
>>>>>>> main
      "source": [
        "# Set device for training\n",
        "device = torch.device('cuda' if torch.cuda.is_available() else 'cpu')\n",
        "model.to(device)"
      ]
    },
    {
      "cell_type": "code",
      "execution_count": 159,
      "metadata": {
        "id": "Xx7sL3EeAVOL"
      },
      "outputs": [],
      "source": [
        "# Set training parameters\n",
        "num_epochs = 2\n",
        "optimizer = AdamW(model.parameters(), lr=1e-5)"
      ]
    },
    {
      "cell_type": "code",
      "execution_count": null,
      "metadata": {
        "id": "V0JyEG2cAav7"
      },
      "outputs": [],
      "source": [
        "#Training loop\n",
        "for epoch in range(num_epochs):\n",
        "    model.train()\n",
        "    for batch in train_dataloader:\n",
        "        input_ids = batch['input_ids'].to(device)\n",
        "        attention_mask = batch['attention_mask'].to(device)\n",
        "        labels = batch['labels'].to(device)\n",
        "\n",
        "        optimizer.zero_grad()\n",
        "        outputs = model(input_ids, attention_mask=attention_mask, labels=labels)\n",
        "        loss = outputs.loss\n",
        "        loss.backward()\n",
        "        optimizer.step()"
      ]
    },
    {
      "cell_type": "code",
<<<<<<< HEAD
      "execution_count": 41,
      "metadata": {
        "id": "QbOJfpBhlzDi"
      },
      "outputs": [],
      "source": [
        "# Evaluation loop\n",
        "model.eval()\n",
        "predictions = []\n",
        "with torch.no_grad():\n",
        "    for batch in test_dataloader:\n",
        "        input_ids = batch['input_ids'].to(device)\n",
        "        attention_mask = batch['attention_mask'].to(device)\n",
        "\n",
        "        outputs = model(input_ids, attention_mask=attention_mask)\n",
        "        logits = outputs.logits\n",
        "        predictions.extend(logits.argmax(dim=1).cpu().numpy().tolist())\n"
      ]
    },
    {
      "cell_type": "code",
      "execution_count": 47,
      "metadata": {
        "colab": {
          "base_uri": "https://localhost:8080/"
        },
        "id": "zmiqau3ZzQv6",
        "outputId": "4863fc1f-992d-4c6c-b529-65bbbc82c7aa"
      },
      "outputs": [
        {
          "name": "stdout",
          "output_type": "stream",
          "text": [
            "Accuracy: 0.9745\n",
            "Precision: 0.9745919056082964\n",
            "Recall: 0.9745\n",
            "F1 Score: 0.974485189992306\n"
          ]
        }
      ],
=======
>>>>>>> main
      "source": [
        "# evaluate perfomance of model\n",
        "model.eval()\n",
        "\n",
        "# Initialize lists for storing true labels and predicted labels\n",
        "true_labels = []\n",
        "predicted_labels = []\n",
        "\n",
        "# Initialize list for storing predicted probabilities\n",
        "predicted_probs = []\n",
        "\n",
        "# Iterate over the test dataset in an evaluation loop\n",
        "with torch.no_grad():\n",
        "    for batch in test_dataloader:\n",
        "        input_ids = batch['input_ids'].to(device)\n",
        "        attention_mask = batch['attention_mask'].to(device)\n",
        "        labels = batch['labels'].to(device)\n",
        "\n",
        "        # Forward pass\n",
        "        outputs = model(input_ids, attention_mask=attention_mask)\n",
        "        logits = outputs.logits\n",
        "        predicted_classes = logits.argmax(dim=1)\n",
        "        probabilities = torch.softmax(logits, dim=1)\n",
        "\n",
        "        # Store true labels and predicted labels\n",
        "        true_labels.extend(labels.tolist())\n",
        "        predicted_labels.extend(predicted_classes.tolist())\n",
        "        \n",
        "        # Store predicted probabilities\n",
        "        predicted_probs.extend(probabilities.tolist())\n",
        "\n",
        "# Calculate evaluation metrics\n",
        "accuracy = accuracy_score(true_labels, predicted_labels)\n",
        "precision, recall, f1, _ = precision_recall_fscore_support(true_labels, predicted_labels, average='weighted')\n",
        "\n",
        "print(\"Accuracy:\", accuracy)\n",
        "print(\"Precision:\", precision)\n",
        "print(\"Recall:\", recall)\n",
        "print(\"F1 Score:\", f1)\n"
<<<<<<< HEAD
=======
      ],
      "metadata": {
        "id": "zmiqau3ZzQv6",
        "colab": {
          "base_uri": "https://localhost:8080/"
        },
        "outputId": "2710e1fc-3169-4e6a-9d07-a1612f39216c"
      },
      "execution_count": null,
      "outputs": [
        {
          "output_type": "stream",
          "name": "stdout",
          "text": [
            "Accuracy: 0.9740416666666667\n",
            "Precision: 0.9744825087705457\n",
            "Recall: 0.9740416666666667\n",
            "F1 Score: 0.9740615506591533\n"
          ]
        }
>>>>>>> main
      ]
    },
    {
      "cell_type": "code",
      "execution_count": 45,
      "metadata": {
        "colab": {
          "base_uri": "https://localhost:8080/"
        },
        "id": "BLq8DRfn0TfP",
        "outputId": "172b5da6-1050-4fa5-d86e-49ff31be5acd"
      },
      "outputs": [
        {
          "name": "stdout",
          "output_type": "stream",
          "text": [
            "Predicted class: positive\n"
          ]
        }
      ],
      "source": [
        "# Input text for prediction\n",
        "input_text = \"The relentless storm unleashed its fury, causing widespread destruction and leaving behind a scene of utter devastation\"\n",
        "\n",
        "# Tokenize and encode the input text\n",
        "input_encoding = tokenizer(input_text, truncation=True, padding=True, return_tensors='pt')\n",
        "\n",
        "# Make predictions\n",
        "model.eval()\n",
        "with torch.no_grad():\n",
        "    input_ids = input_encoding['input_ids'].to(device)\n",
        "    attention_mask = input_encoding['attention_mask'].to(device)\n",
        "\n",
        "    outputs = model(input_ids, attention_mask=attention_mask)\n",
        "    logits = outputs.logits\n",
        "    predicted_labels = logits.argmax(dim=1)\n",
        "\n",
        "# Convert predicted labels back to original classes using label_encoder\n",
        "predicted_classes = label_encoder.inverse_transform(predicted_labels.cpu().numpy())\n",
        "\n",
        "# Print the predicted class\n",
        "print(\"Predicted class:\", predicted_classes[0])\n"
<<<<<<< HEAD
=======
      ],
      "metadata": {
        "id": "BLq8DRfn0TfP",
        "colab": {
          "base_uri": "https://localhost:8080/"
        },
        "outputId": "90417b53-c6f2-449d-e1b1-8fe3c74ed801"
      },
      "execution_count": null,
      "outputs": [
        {
          "output_type": "stream",
          "name": "stdout",
          "text": [
            "Predicted class: positive\n"
          ]
        }
>>>>>>> main
      ]
    },
    {
      "cell_type": "markdown",
      "metadata": {
        "id": "IkDADShWqqXc"
      },
      "source": [
        "### Persist Model"
      ]
    },
    {
      "cell_type": "code",
<<<<<<< HEAD
      "execution_count": 49,
=======
      "source": [
        "model.save_pretrained('/content/drive/MyDrive/Colab Notebooks/my_model')"
      ],
>>>>>>> main
      "metadata": {
        "id": "cJtLb8ZIwks4"
      },
<<<<<<< HEAD
      "outputs": [],
      "source": [
        "# Save the model\n",
        "model.save_pretrained('my_retrained_bert_model')\n"
      ]
=======
      "execution_count": null,
      "outputs": []
>>>>>>> main
    }
  ],
  "metadata": {
    "accelerator": "GPU",
    "colab": {
<<<<<<< HEAD
      "authorship_tag": "ABX9TyPRvSKeC6aa71cJkgsBub/E",
      "gpuType": "T4",
      "include_colab_link": true,
      "mount_file_id": "1arjddP5Y1uk_XNV7atUNbeohz0djO_eh",
      "provenance": []
=======
      "provenance": [],
      "gpuType": "T4",
      "mount_file_id": "1arjddP5Y1uk_XNV7atUNbeohz0djO_eh",
      "authorship_tag": "ABX9TyMbxPRGiPgXQyYyqFzh9FL5",
      "include_colab_link": true
>>>>>>> main
    },
    "gpuClass": "standard",
    "kernelspec": {
      "display_name": "Python 3",
      "name": "python3"
    },
    "language_info": {
      "name": "python"
<<<<<<< HEAD
    },
    "widgets": {
      "application/vnd.jupyter.widget-state+json": {
        "0658506d9ea849f6b1757c2beeec1374": {
          "model_module": "@jupyter-widgets/controls",
          "model_module_version": "1.5.0",
          "model_name": "DescriptionStyleModel",
          "state": {
            "_model_module": "@jupyter-widgets/controls",
            "_model_module_version": "1.5.0",
            "_model_name": "DescriptionStyleModel",
            "_view_count": null,
            "_view_module": "@jupyter-widgets/base",
            "_view_module_version": "1.2.0",
            "_view_name": "StyleView",
            "description_width": ""
          }
        },
        "071e857ba588417791fe6041cfbb5eb1": {
          "model_module": "@jupyter-widgets/controls",
          "model_module_version": "1.5.0",
          "model_name": "HBoxModel",
          "state": {
            "_dom_classes": [],
            "_model_module": "@jupyter-widgets/controls",
            "_model_module_version": "1.5.0",
            "_model_name": "HBoxModel",
            "_view_count": null,
            "_view_module": "@jupyter-widgets/controls",
            "_view_module_version": "1.5.0",
            "_view_name": "HBoxView",
            "box_style": "",
            "children": [
              "IPY_MODEL_ba77cc3dfec7445eb3037f5b557e67f6",
              "IPY_MODEL_8b8f8538dc414ab389c8d404ce6a6404",
              "IPY_MODEL_36f4a4ddba384dd6a98ae8222411553b"
            ],
            "layout": "IPY_MODEL_2b19b22d3f4d4bbc9684fbf9a057fe80"
          }
        },
        "0ab6adb6bfa142bc8d4a95e9d9262f9e": {
          "model_module": "@jupyter-widgets/base",
          "model_module_version": "1.2.0",
          "model_name": "LayoutModel",
          "state": {
            "_model_module": "@jupyter-widgets/base",
            "_model_module_version": "1.2.0",
            "_model_name": "LayoutModel",
            "_view_count": null,
            "_view_module": "@jupyter-widgets/base",
            "_view_module_version": "1.2.0",
            "_view_name": "LayoutView",
            "align_content": null,
            "align_items": null,
            "align_self": null,
            "border": null,
            "bottom": null,
            "display": null,
            "flex": null,
            "flex_flow": null,
            "grid_area": null,
            "grid_auto_columns": null,
            "grid_auto_flow": null,
            "grid_auto_rows": null,
            "grid_column": null,
            "grid_gap": null,
            "grid_row": null,
            "grid_template_areas": null,
            "grid_template_columns": null,
            "grid_template_rows": null,
            "height": null,
            "justify_content": null,
            "justify_items": null,
            "left": null,
            "margin": null,
            "max_height": null,
            "max_width": null,
            "min_height": null,
            "min_width": null,
            "object_fit": null,
            "object_position": null,
            "order": null,
            "overflow": null,
            "overflow_x": null,
            "overflow_y": null,
            "padding": null,
            "right": null,
            "top": null,
            "visibility": null,
            "width": null
          }
        },
        "0f406d7294ac4d4bbaf2281aa2596c42": {
          "model_module": "@jupyter-widgets/controls",
          "model_module_version": "1.5.0",
          "model_name": "FloatProgressModel",
          "state": {
            "_dom_classes": [],
            "_model_module": "@jupyter-widgets/controls",
            "_model_module_version": "1.5.0",
            "_model_name": "FloatProgressModel",
            "_view_count": null,
            "_view_module": "@jupyter-widgets/controls",
            "_view_module_version": "1.5.0",
            "_view_name": "ProgressView",
            "bar_style": "success",
            "description": "",
            "description_tooltip": null,
            "layout": "IPY_MODEL_8994a1ae39674840a98e30f6006305d1",
            "max": 466062,
            "min": 0,
            "orientation": "horizontal",
            "style": "IPY_MODEL_183286a1b6d34380a1121af6c4fe2c1b",
            "value": 466062
          }
        },
        "12710c02945d4b25bfeb736c920fb02d": {
          "model_module": "@jupyter-widgets/controls",
          "model_module_version": "1.5.0",
          "model_name": "DescriptionStyleModel",
          "state": {
            "_model_module": "@jupyter-widgets/controls",
            "_model_module_version": "1.5.0",
            "_model_name": "DescriptionStyleModel",
            "_view_count": null,
            "_view_module": "@jupyter-widgets/base",
            "_view_module_version": "1.2.0",
            "_view_name": "StyleView",
            "description_width": ""
          }
        },
        "183286a1b6d34380a1121af6c4fe2c1b": {
          "model_module": "@jupyter-widgets/controls",
          "model_module_version": "1.5.0",
          "model_name": "ProgressStyleModel",
          "state": {
            "_model_module": "@jupyter-widgets/controls",
            "_model_module_version": "1.5.0",
            "_model_name": "ProgressStyleModel",
            "_view_count": null,
            "_view_module": "@jupyter-widgets/base",
            "_view_module_version": "1.2.0",
            "_view_name": "StyleView",
            "bar_color": null,
            "description_width": ""
          }
        },
        "1f693ad3e96d4f18ab9edccec2d951bc": {
          "model_module": "@jupyter-widgets/base",
          "model_module_version": "1.2.0",
          "model_name": "LayoutModel",
          "state": {
            "_model_module": "@jupyter-widgets/base",
            "_model_module_version": "1.2.0",
            "_model_name": "LayoutModel",
            "_view_count": null,
            "_view_module": "@jupyter-widgets/base",
            "_view_module_version": "1.2.0",
            "_view_name": "LayoutView",
            "align_content": null,
            "align_items": null,
            "align_self": null,
            "border": null,
            "bottom": null,
            "display": null,
            "flex": null,
            "flex_flow": null,
            "grid_area": null,
            "grid_auto_columns": null,
            "grid_auto_flow": null,
            "grid_auto_rows": null,
            "grid_column": null,
            "grid_gap": null,
            "grid_row": null,
            "grid_template_areas": null,
            "grid_template_columns": null,
            "grid_template_rows": null,
            "height": null,
            "justify_content": null,
            "justify_items": null,
            "left": null,
            "margin": null,
            "max_height": null,
            "max_width": null,
            "min_height": null,
            "min_width": null,
            "object_fit": null,
            "object_position": null,
            "order": null,
            "overflow": null,
            "overflow_x": null,
            "overflow_y": null,
            "padding": null,
            "right": null,
            "top": null,
            "visibility": null,
            "width": null
          }
        },
        "21ffc010846440d0803b17d0e12ad233": {
          "model_module": "@jupyter-widgets/base",
          "model_module_version": "1.2.0",
          "model_name": "LayoutModel",
          "state": {
            "_model_module": "@jupyter-widgets/base",
            "_model_module_version": "1.2.0",
            "_model_name": "LayoutModel",
            "_view_count": null,
            "_view_module": "@jupyter-widgets/base",
            "_view_module_version": "1.2.0",
            "_view_name": "LayoutView",
            "align_content": null,
            "align_items": null,
            "align_self": null,
            "border": null,
            "bottom": null,
            "display": null,
            "flex": null,
            "flex_flow": null,
            "grid_area": null,
            "grid_auto_columns": null,
            "grid_auto_flow": null,
            "grid_auto_rows": null,
            "grid_column": null,
            "grid_gap": null,
            "grid_row": null,
            "grid_template_areas": null,
            "grid_template_columns": null,
            "grid_template_rows": null,
            "height": null,
            "justify_content": null,
            "justify_items": null,
            "left": null,
            "margin": null,
            "max_height": null,
            "max_width": null,
            "min_height": null,
            "min_width": null,
            "object_fit": null,
            "object_position": null,
            "order": null,
            "overflow": null,
            "overflow_x": null,
            "overflow_y": null,
            "padding": null,
            "right": null,
            "top": null,
            "visibility": null,
            "width": null
          }
        },
        "2932a4fbaa9745d8a77978f1724665b5": {
          "model_module": "@jupyter-widgets/controls",
          "model_module_version": "1.5.0",
          "model_name": "HTMLModel",
          "state": {
            "_dom_classes": [],
            "_model_module": "@jupyter-widgets/controls",
            "_model_module_version": "1.5.0",
            "_model_name": "HTMLModel",
            "_view_count": null,
            "_view_module": "@jupyter-widgets/controls",
            "_view_module_version": "1.5.0",
            "_view_name": "HTMLView",
            "description": "",
            "description_tooltip": null,
            "layout": "IPY_MODEL_a352ae3f93394692bc9da08228c896dc",
            "placeholder": "​",
            "style": "IPY_MODEL_f53207db462c4e9f9ab3e6ce15c18060",
            "value": "Downloading pytorch_model.bin: 100%"
          }
        },
        "295361afc085400cbbce4b2fcd48edc2": {
          "model_module": "@jupyter-widgets/base",
          "model_module_version": "1.2.0",
          "model_name": "LayoutModel",
          "state": {
            "_model_module": "@jupyter-widgets/base",
            "_model_module_version": "1.2.0",
            "_model_name": "LayoutModel",
            "_view_count": null,
            "_view_module": "@jupyter-widgets/base",
            "_view_module_version": "1.2.0",
            "_view_name": "LayoutView",
            "align_content": null,
            "align_items": null,
            "align_self": null,
            "border": null,
            "bottom": null,
            "display": null,
            "flex": null,
            "flex_flow": null,
            "grid_area": null,
            "grid_auto_columns": null,
            "grid_auto_flow": null,
            "grid_auto_rows": null,
            "grid_column": null,
            "grid_gap": null,
            "grid_row": null,
            "grid_template_areas": null,
            "grid_template_columns": null,
            "grid_template_rows": null,
            "height": null,
            "justify_content": null,
            "justify_items": null,
            "left": null,
            "margin": null,
            "max_height": null,
            "max_width": null,
            "min_height": null,
            "min_width": null,
            "object_fit": null,
            "object_position": null,
            "order": null,
            "overflow": null,
            "overflow_x": null,
            "overflow_y": null,
            "padding": null,
            "right": null,
            "top": null,
            "visibility": null,
            "width": null
          }
        },
        "2a434177e66346dd8474af688873d537": {
          "model_module": "@jupyter-widgets/controls",
          "model_module_version": "1.5.0",
          "model_name": "HTMLModel",
          "state": {
            "_dom_classes": [],
            "_model_module": "@jupyter-widgets/controls",
            "_model_module_version": "1.5.0",
            "_model_name": "HTMLModel",
            "_view_count": null,
            "_view_module": "@jupyter-widgets/controls",
            "_view_module_version": "1.5.0",
            "_view_name": "HTMLView",
            "description": "",
            "description_tooltip": null,
            "layout": "IPY_MODEL_3a3451f8f95f42ed9471c1722f69c11a",
            "placeholder": "​",
            "style": "IPY_MODEL_b3c25db4c3fd4513810511f0ee49ea1d",
            "value": " 440M/440M [00:03&lt;00:00, 164MB/s]"
          }
        },
        "2b19b22d3f4d4bbc9684fbf9a057fe80": {
          "model_module": "@jupyter-widgets/base",
          "model_module_version": "1.2.0",
          "model_name": "LayoutModel",
          "state": {
            "_model_module": "@jupyter-widgets/base",
            "_model_module_version": "1.2.0",
            "_model_name": "LayoutModel",
            "_view_count": null,
            "_view_module": "@jupyter-widgets/base",
            "_view_module_version": "1.2.0",
            "_view_name": "LayoutView",
            "align_content": null,
            "align_items": null,
            "align_self": null,
            "border": null,
            "bottom": null,
            "display": null,
            "flex": null,
            "flex_flow": null,
            "grid_area": null,
            "grid_auto_columns": null,
            "grid_auto_flow": null,
            "grid_auto_rows": null,
            "grid_column": null,
            "grid_gap": null,
            "grid_row": null,
            "grid_template_areas": null,
            "grid_template_columns": null,
            "grid_template_rows": null,
            "height": null,
            "justify_content": null,
            "justify_items": null,
            "left": null,
            "margin": null,
            "max_height": null,
            "max_width": null,
            "min_height": null,
            "min_width": null,
            "object_fit": null,
            "object_position": null,
            "order": null,
            "overflow": null,
            "overflow_x": null,
            "overflow_y": null,
            "padding": null,
            "right": null,
            "top": null,
            "visibility": null,
            "width": null
          }
        },
        "2e55173b72704af0b789f1cec6f0d302": {
          "model_module": "@jupyter-widgets/base",
          "model_module_version": "1.2.0",
          "model_name": "LayoutModel",
          "state": {
            "_model_module": "@jupyter-widgets/base",
            "_model_module_version": "1.2.0",
            "_model_name": "LayoutModel",
            "_view_count": null,
            "_view_module": "@jupyter-widgets/base",
            "_view_module_version": "1.2.0",
            "_view_name": "LayoutView",
            "align_content": null,
            "align_items": null,
            "align_self": null,
            "border": null,
            "bottom": null,
            "display": null,
            "flex": null,
            "flex_flow": null,
            "grid_area": null,
            "grid_auto_columns": null,
            "grid_auto_flow": null,
            "grid_auto_rows": null,
            "grid_column": null,
            "grid_gap": null,
            "grid_row": null,
            "grid_template_areas": null,
            "grid_template_columns": null,
            "grid_template_rows": null,
            "height": null,
            "justify_content": null,
            "justify_items": null,
            "left": null,
            "margin": null,
            "max_height": null,
            "max_width": null,
            "min_height": null,
            "min_width": null,
            "object_fit": null,
            "object_position": null,
            "order": null,
            "overflow": null,
            "overflow_x": null,
            "overflow_y": null,
            "padding": null,
            "right": null,
            "top": null,
            "visibility": null,
            "width": null
          }
        },
        "34f25a36c81b409a8aa93c64003ac7c6": {
          "model_module": "@jupyter-widgets/controls",
          "model_module_version": "1.5.0",
          "model_name": "HTMLModel",
          "state": {
            "_dom_classes": [],
            "_model_module": "@jupyter-widgets/controls",
            "_model_module_version": "1.5.0",
            "_model_name": "HTMLModel",
            "_view_count": null,
            "_view_module": "@jupyter-widgets/controls",
            "_view_module_version": "1.5.0",
            "_view_name": "HTMLView",
            "description": "",
            "description_tooltip": null,
            "layout": "IPY_MODEL_295361afc085400cbbce4b2fcd48edc2",
            "placeholder": "​",
            "style": "IPY_MODEL_c05daba601cb4c4b83f9e0e2eb857875",
            "value": " 466k/466k [00:00&lt;00:00, 23.8MB/s]"
          }
        },
        "3610d4ce76444049be7cb23bdf89ed6d": {
          "model_module": "@jupyter-widgets/controls",
          "model_module_version": "1.5.0",
          "model_name": "HTMLModel",
          "state": {
            "_dom_classes": [],
            "_model_module": "@jupyter-widgets/controls",
            "_model_module_version": "1.5.0",
            "_model_name": "HTMLModel",
            "_view_count": null,
            "_view_module": "@jupyter-widgets/controls",
            "_view_module_version": "1.5.0",
            "_view_name": "HTMLView",
            "description": "",
            "description_tooltip": null,
            "layout": "IPY_MODEL_fb496c9fdf4849cfbe02bb90dd937d0f",
            "placeholder": "​",
            "style": "IPY_MODEL_92da5a1db9e546728ea964327bf3d2c7",
            "value": "Downloading (…)lve/main/config.json: 100%"
          }
        },
        "36f4a4ddba384dd6a98ae8222411553b": {
          "model_module": "@jupyter-widgets/controls",
          "model_module_version": "1.5.0",
          "model_name": "HTMLModel",
          "state": {
            "_dom_classes": [],
            "_model_module": "@jupyter-widgets/controls",
            "_model_module_version": "1.5.0",
            "_model_name": "HTMLModel",
            "_view_count": null,
            "_view_module": "@jupyter-widgets/controls",
            "_view_module_version": "1.5.0",
            "_view_name": "HTMLView",
            "description": "",
            "description_tooltip": null,
            "layout": "IPY_MODEL_4464618ffba44244983bcf60b784cc31",
            "placeholder": "​",
            "style": "IPY_MODEL_12710c02945d4b25bfeb736c920fb02d",
            "value": " 232k/232k [00:00&lt;00:00, 4.69MB/s]"
          }
        },
        "3a3451f8f95f42ed9471c1722f69c11a": {
          "model_module": "@jupyter-widgets/base",
          "model_module_version": "1.2.0",
          "model_name": "LayoutModel",
          "state": {
            "_model_module": "@jupyter-widgets/base",
            "_model_module_version": "1.2.0",
            "_model_name": "LayoutModel",
            "_view_count": null,
            "_view_module": "@jupyter-widgets/base",
            "_view_module_version": "1.2.0",
            "_view_name": "LayoutView",
            "align_content": null,
            "align_items": null,
            "align_self": null,
            "border": null,
            "bottom": null,
            "display": null,
            "flex": null,
            "flex_flow": null,
            "grid_area": null,
            "grid_auto_columns": null,
            "grid_auto_flow": null,
            "grid_auto_rows": null,
            "grid_column": null,
            "grid_gap": null,
            "grid_row": null,
            "grid_template_areas": null,
            "grid_template_columns": null,
            "grid_template_rows": null,
            "height": null,
            "justify_content": null,
            "justify_items": null,
            "left": null,
            "margin": null,
            "max_height": null,
            "max_width": null,
            "min_height": null,
            "min_width": null,
            "object_fit": null,
            "object_position": null,
            "order": null,
            "overflow": null,
            "overflow_x": null,
            "overflow_y": null,
            "padding": null,
            "right": null,
            "top": null,
            "visibility": null,
            "width": null
          }
        },
        "402f8d55db9f4f87a0db4c5da2f0a042": {
          "model_module": "@jupyter-widgets/controls",
          "model_module_version": "1.5.0",
          "model_name": "HBoxModel",
          "state": {
            "_dom_classes": [],
            "_model_module": "@jupyter-widgets/controls",
            "_model_module_version": "1.5.0",
            "_model_name": "HBoxModel",
            "_view_count": null,
            "_view_module": "@jupyter-widgets/controls",
            "_view_module_version": "1.5.0",
            "_view_name": "HBoxView",
            "box_style": "",
            "children": [
              "IPY_MODEL_b5cd0e17acbd400b91b240eea04ec270",
              "IPY_MODEL_e6de111c981b4bb79a768201c40aed81",
              "IPY_MODEL_a0b6d47cf42a461db0cecb4a64da160d"
            ],
            "layout": "IPY_MODEL_4aa2aef51b534fe08ffeed1ac7f2f894"
          }
        },
        "4464618ffba44244983bcf60b784cc31": {
          "model_module": "@jupyter-widgets/base",
          "model_module_version": "1.2.0",
          "model_name": "LayoutModel",
          "state": {
            "_model_module": "@jupyter-widgets/base",
            "_model_module_version": "1.2.0",
            "_model_name": "LayoutModel",
            "_view_count": null,
            "_view_module": "@jupyter-widgets/base",
            "_view_module_version": "1.2.0",
            "_view_name": "LayoutView",
            "align_content": null,
            "align_items": null,
            "align_self": null,
            "border": null,
            "bottom": null,
            "display": null,
            "flex": null,
            "flex_flow": null,
            "grid_area": null,
            "grid_auto_columns": null,
            "grid_auto_flow": null,
            "grid_auto_rows": null,
            "grid_column": null,
            "grid_gap": null,
            "grid_row": null,
            "grid_template_areas": null,
            "grid_template_columns": null,
            "grid_template_rows": null,
            "height": null,
            "justify_content": null,
            "justify_items": null,
            "left": null,
            "margin": null,
            "max_height": null,
            "max_width": null,
            "min_height": null,
            "min_width": null,
            "object_fit": null,
            "object_position": null,
            "order": null,
            "overflow": null,
            "overflow_x": null,
            "overflow_y": null,
            "padding": null,
            "right": null,
            "top": null,
            "visibility": null,
            "width": null
          }
        },
        "4aa2aef51b534fe08ffeed1ac7f2f894": {
          "model_module": "@jupyter-widgets/base",
          "model_module_version": "1.2.0",
          "model_name": "LayoutModel",
          "state": {
            "_model_module": "@jupyter-widgets/base",
            "_model_module_version": "1.2.0",
            "_model_name": "LayoutModel",
            "_view_count": null,
            "_view_module": "@jupyter-widgets/base",
            "_view_module_version": "1.2.0",
            "_view_name": "LayoutView",
            "align_content": null,
            "align_items": null,
            "align_self": null,
            "border": null,
            "bottom": null,
            "display": null,
            "flex": null,
            "flex_flow": null,
            "grid_area": null,
            "grid_auto_columns": null,
            "grid_auto_flow": null,
            "grid_auto_rows": null,
            "grid_column": null,
            "grid_gap": null,
            "grid_row": null,
            "grid_template_areas": null,
            "grid_template_columns": null,
            "grid_template_rows": null,
            "height": null,
            "justify_content": null,
            "justify_items": null,
            "left": null,
            "margin": null,
            "max_height": null,
            "max_width": null,
            "min_height": null,
            "min_width": null,
            "object_fit": null,
            "object_position": null,
            "order": null,
            "overflow": null,
            "overflow_x": null,
            "overflow_y": null,
            "padding": null,
            "right": null,
            "top": null,
            "visibility": null,
            "width": null
          }
        },
        "534846a2e8674f2fa5ee12d7cd0cb864": {
          "model_module": "@jupyter-widgets/base",
          "model_module_version": "1.2.0",
          "model_name": "LayoutModel",
          "state": {
            "_model_module": "@jupyter-widgets/base",
            "_model_module_version": "1.2.0",
            "_model_name": "LayoutModel",
            "_view_count": null,
            "_view_module": "@jupyter-widgets/base",
            "_view_module_version": "1.2.0",
            "_view_name": "LayoutView",
            "align_content": null,
            "align_items": null,
            "align_self": null,
            "border": null,
            "bottom": null,
            "display": null,
            "flex": null,
            "flex_flow": null,
            "grid_area": null,
            "grid_auto_columns": null,
            "grid_auto_flow": null,
            "grid_auto_rows": null,
            "grid_column": null,
            "grid_gap": null,
            "grid_row": null,
            "grid_template_areas": null,
            "grid_template_columns": null,
            "grid_template_rows": null,
            "height": null,
            "justify_content": null,
            "justify_items": null,
            "left": null,
            "margin": null,
            "max_height": null,
            "max_width": null,
            "min_height": null,
            "min_width": null,
            "object_fit": null,
            "object_position": null,
            "order": null,
            "overflow": null,
            "overflow_x": null,
            "overflow_y": null,
            "padding": null,
            "right": null,
            "top": null,
            "visibility": null,
            "width": null
          }
        },
        "552e1d9d0eff456c9aed3ff69f462bcd": {
          "model_module": "@jupyter-widgets/base",
          "model_module_version": "1.2.0",
          "model_name": "LayoutModel",
          "state": {
            "_model_module": "@jupyter-widgets/base",
            "_model_module_version": "1.2.0",
            "_model_name": "LayoutModel",
            "_view_count": null,
            "_view_module": "@jupyter-widgets/base",
            "_view_module_version": "1.2.0",
            "_view_name": "LayoutView",
            "align_content": null,
            "align_items": null,
            "align_self": null,
            "border": null,
            "bottom": null,
            "display": null,
            "flex": null,
            "flex_flow": null,
            "grid_area": null,
            "grid_auto_columns": null,
            "grid_auto_flow": null,
            "grid_auto_rows": null,
            "grid_column": null,
            "grid_gap": null,
            "grid_row": null,
            "grid_template_areas": null,
            "grid_template_columns": null,
            "grid_template_rows": null,
            "height": null,
            "justify_content": null,
            "justify_items": null,
            "left": null,
            "margin": null,
            "max_height": null,
            "max_width": null,
            "min_height": null,
            "min_width": null,
            "object_fit": null,
            "object_position": null,
            "order": null,
            "overflow": null,
            "overflow_x": null,
            "overflow_y": null,
            "padding": null,
            "right": null,
            "top": null,
            "visibility": null,
            "width": null
          }
        },
        "56e6ea4d36a349229f1e21e64fc24891": {
          "model_module": "@jupyter-widgets/controls",
          "model_module_version": "1.5.0",
          "model_name": "HTMLModel",
          "state": {
            "_dom_classes": [],
            "_model_module": "@jupyter-widgets/controls",
            "_model_module_version": "1.5.0",
            "_model_name": "HTMLModel",
            "_view_count": null,
            "_view_module": "@jupyter-widgets/controls",
            "_view_module_version": "1.5.0",
            "_view_name": "HTMLView",
            "description": "",
            "description_tooltip": null,
            "layout": "IPY_MODEL_86081c4530494ae094faa7a7d62115bc",
            "placeholder": "​",
            "style": "IPY_MODEL_bc67028c4bd74ca58a066f3c4162691e",
            "value": " 570/570 [00:00&lt;00:00, 24.7kB/s]"
          }
        },
        "86081c4530494ae094faa7a7d62115bc": {
          "model_module": "@jupyter-widgets/base",
          "model_module_version": "1.2.0",
          "model_name": "LayoutModel",
          "state": {
            "_model_module": "@jupyter-widgets/base",
            "_model_module_version": "1.2.0",
            "_model_name": "LayoutModel",
            "_view_count": null,
            "_view_module": "@jupyter-widgets/base",
            "_view_module_version": "1.2.0",
            "_view_name": "LayoutView",
            "align_content": null,
            "align_items": null,
            "align_self": null,
            "border": null,
            "bottom": null,
            "display": null,
            "flex": null,
            "flex_flow": null,
            "grid_area": null,
            "grid_auto_columns": null,
            "grid_auto_flow": null,
            "grid_auto_rows": null,
            "grid_column": null,
            "grid_gap": null,
            "grid_row": null,
            "grid_template_areas": null,
            "grid_template_columns": null,
            "grid_template_rows": null,
            "height": null,
            "justify_content": null,
            "justify_items": null,
            "left": null,
            "margin": null,
            "max_height": null,
            "max_width": null,
            "min_height": null,
            "min_width": null,
            "object_fit": null,
            "object_position": null,
            "order": null,
            "overflow": null,
            "overflow_x": null,
            "overflow_y": null,
            "padding": null,
            "right": null,
            "top": null,
            "visibility": null,
            "width": null
          }
        },
        "8994a1ae39674840a98e30f6006305d1": {
          "model_module": "@jupyter-widgets/base",
          "model_module_version": "1.2.0",
          "model_name": "LayoutModel",
          "state": {
            "_model_module": "@jupyter-widgets/base",
            "_model_module_version": "1.2.0",
            "_model_name": "LayoutModel",
            "_view_count": null,
            "_view_module": "@jupyter-widgets/base",
            "_view_module_version": "1.2.0",
            "_view_name": "LayoutView",
            "align_content": null,
            "align_items": null,
            "align_self": null,
            "border": null,
            "bottom": null,
            "display": null,
            "flex": null,
            "flex_flow": null,
            "grid_area": null,
            "grid_auto_columns": null,
            "grid_auto_flow": null,
            "grid_auto_rows": null,
            "grid_column": null,
            "grid_gap": null,
            "grid_row": null,
            "grid_template_areas": null,
            "grid_template_columns": null,
            "grid_template_rows": null,
            "height": null,
            "justify_content": null,
            "justify_items": null,
            "left": null,
            "margin": null,
            "max_height": null,
            "max_width": null,
            "min_height": null,
            "min_width": null,
            "object_fit": null,
            "object_position": null,
            "order": null,
            "overflow": null,
            "overflow_x": null,
            "overflow_y": null,
            "padding": null,
            "right": null,
            "top": null,
            "visibility": null,
            "width": null
          }
        },
        "89c62ad73874414bb01e9ce151fa4371": {
          "model_module": "@jupyter-widgets/controls",
          "model_module_version": "1.5.0",
          "model_name": "DescriptionStyleModel",
          "state": {
            "_model_module": "@jupyter-widgets/controls",
            "_model_module_version": "1.5.0",
            "_model_name": "DescriptionStyleModel",
            "_view_count": null,
            "_view_module": "@jupyter-widgets/base",
            "_view_module_version": "1.2.0",
            "_view_name": "StyleView",
            "description_width": ""
          }
        },
        "8afb6933d3b844998f497df85e677a71": {
          "model_module": "@jupyter-widgets/controls",
          "model_module_version": "1.5.0",
          "model_name": "DescriptionStyleModel",
          "state": {
            "_model_module": "@jupyter-widgets/controls",
            "_model_module_version": "1.5.0",
            "_model_name": "DescriptionStyleModel",
            "_view_count": null,
            "_view_module": "@jupyter-widgets/base",
            "_view_module_version": "1.2.0",
            "_view_name": "StyleView",
            "description_width": ""
          }
        },
        "8b8f8538dc414ab389c8d404ce6a6404": {
          "model_module": "@jupyter-widgets/controls",
          "model_module_version": "1.5.0",
          "model_name": "FloatProgressModel",
          "state": {
            "_dom_classes": [],
            "_model_module": "@jupyter-widgets/controls",
            "_model_module_version": "1.5.0",
            "_model_name": "FloatProgressModel",
            "_view_count": null,
            "_view_module": "@jupyter-widgets/controls",
            "_view_module_version": "1.5.0",
            "_view_name": "ProgressView",
            "bar_style": "success",
            "description": "",
            "description_tooltip": null,
            "layout": "IPY_MODEL_9aca358d24ad4d0abde5216a466cf4a7",
            "max": 231508,
            "min": 0,
            "orientation": "horizontal",
            "style": "IPY_MODEL_b60b4bde2ddc441e9aa065e02ddfc593",
            "value": 231508
          }
        },
        "92da5a1db9e546728ea964327bf3d2c7": {
          "model_module": "@jupyter-widgets/controls",
          "model_module_version": "1.5.0",
          "model_name": "DescriptionStyleModel",
          "state": {
            "_model_module": "@jupyter-widgets/controls",
            "_model_module_version": "1.5.0",
            "_model_name": "DescriptionStyleModel",
            "_view_count": null,
            "_view_module": "@jupyter-widgets/base",
            "_view_module_version": "1.2.0",
            "_view_name": "StyleView",
            "description_width": ""
          }
        },
        "96d9a65fb96a4b0295023d7291e3be4f": {
          "model_module": "@jupyter-widgets/controls",
          "model_module_version": "1.5.0",
          "model_name": "HBoxModel",
          "state": {
            "_dom_classes": [],
            "_model_module": "@jupyter-widgets/controls",
            "_model_module_version": "1.5.0",
            "_model_name": "HBoxModel",
            "_view_count": null,
            "_view_module": "@jupyter-widgets/controls",
            "_view_module_version": "1.5.0",
            "_view_name": "HBoxView",
            "box_style": "",
            "children": [
              "IPY_MODEL_2932a4fbaa9745d8a77978f1724665b5",
              "IPY_MODEL_a2f55dee4e0d4ba2a93f6a34c89e9b43",
              "IPY_MODEL_2a434177e66346dd8474af688873d537"
            ],
            "layout": "IPY_MODEL_21ffc010846440d0803b17d0e12ad233"
          }
        },
        "997cd555fa7541bd9ea358dcb6d5a623": {
          "model_module": "@jupyter-widgets/base",
          "model_module_version": "1.2.0",
          "model_name": "LayoutModel",
          "state": {
            "_model_module": "@jupyter-widgets/base",
            "_model_module_version": "1.2.0",
            "_model_name": "LayoutModel",
            "_view_count": null,
            "_view_module": "@jupyter-widgets/base",
            "_view_module_version": "1.2.0",
            "_view_name": "LayoutView",
            "align_content": null,
            "align_items": null,
            "align_self": null,
            "border": null,
            "bottom": null,
            "display": null,
            "flex": null,
            "flex_flow": null,
            "grid_area": null,
            "grid_auto_columns": null,
            "grid_auto_flow": null,
            "grid_auto_rows": null,
            "grid_column": null,
            "grid_gap": null,
            "grid_row": null,
            "grid_template_areas": null,
            "grid_template_columns": null,
            "grid_template_rows": null,
            "height": null,
            "justify_content": null,
            "justify_items": null,
            "left": null,
            "margin": null,
            "max_height": null,
            "max_width": null,
            "min_height": null,
            "min_width": null,
            "object_fit": null,
            "object_position": null,
            "order": null,
            "overflow": null,
            "overflow_x": null,
            "overflow_y": null,
            "padding": null,
            "right": null,
            "top": null,
            "visibility": null,
            "width": null
          }
        },
        "9aca358d24ad4d0abde5216a466cf4a7": {
          "model_module": "@jupyter-widgets/base",
          "model_module_version": "1.2.0",
          "model_name": "LayoutModel",
          "state": {
            "_model_module": "@jupyter-widgets/base",
            "_model_module_version": "1.2.0",
            "_model_name": "LayoutModel",
            "_view_count": null,
            "_view_module": "@jupyter-widgets/base",
            "_view_module_version": "1.2.0",
            "_view_name": "LayoutView",
            "align_content": null,
            "align_items": null,
            "align_self": null,
            "border": null,
            "bottom": null,
            "display": null,
            "flex": null,
            "flex_flow": null,
            "grid_area": null,
            "grid_auto_columns": null,
            "grid_auto_flow": null,
            "grid_auto_rows": null,
            "grid_column": null,
            "grid_gap": null,
            "grid_row": null,
            "grid_template_areas": null,
            "grid_template_columns": null,
            "grid_template_rows": null,
            "height": null,
            "justify_content": null,
            "justify_items": null,
            "left": null,
            "margin": null,
            "max_height": null,
            "max_width": null,
            "min_height": null,
            "min_width": null,
            "object_fit": null,
            "object_position": null,
            "order": null,
            "overflow": null,
            "overflow_x": null,
            "overflow_y": null,
            "padding": null,
            "right": null,
            "top": null,
            "visibility": null,
            "width": null
          }
        },
        "9c0ec9282a2d476989738f76ecd79c27": {
          "model_module": "@jupyter-widgets/controls",
          "model_module_version": "1.5.0",
          "model_name": "HTMLModel",
          "state": {
            "_dom_classes": [],
            "_model_module": "@jupyter-widgets/controls",
            "_model_module_version": "1.5.0",
            "_model_name": "HTMLModel",
            "_view_count": null,
            "_view_module": "@jupyter-widgets/controls",
            "_view_module_version": "1.5.0",
            "_view_name": "HTMLView",
            "description": "",
            "description_tooltip": null,
            "layout": "IPY_MODEL_1f693ad3e96d4f18ab9edccec2d951bc",
            "placeholder": "​",
            "style": "IPY_MODEL_89c62ad73874414bb01e9ce151fa4371",
            "value": "Downloading (…)/main/tokenizer.json: 100%"
          }
        },
        "a0b6d47cf42a461db0cecb4a64da160d": {
          "model_module": "@jupyter-widgets/controls",
          "model_module_version": "1.5.0",
          "model_name": "HTMLModel",
          "state": {
            "_dom_classes": [],
            "_model_module": "@jupyter-widgets/controls",
            "_model_module_version": "1.5.0",
            "_model_name": "HTMLModel",
            "_view_count": null,
            "_view_module": "@jupyter-widgets/controls",
            "_view_module_version": "1.5.0",
            "_view_name": "HTMLView",
            "description": "",
            "description_tooltip": null,
            "layout": "IPY_MODEL_f76cdc6af41a4f57962585fc831d4575",
            "placeholder": "​",
            "style": "IPY_MODEL_8afb6933d3b844998f497df85e677a71",
            "value": " 28.0/28.0 [00:00&lt;00:00, 1.57kB/s]"
          }
        },
        "a2f55dee4e0d4ba2a93f6a34c89e9b43": {
          "model_module": "@jupyter-widgets/controls",
          "model_module_version": "1.5.0",
          "model_name": "FloatProgressModel",
          "state": {
            "_dom_classes": [],
            "_model_module": "@jupyter-widgets/controls",
            "_model_module_version": "1.5.0",
            "_model_name": "FloatProgressModel",
            "_view_count": null,
            "_view_module": "@jupyter-widgets/controls",
            "_view_module_version": "1.5.0",
            "_view_name": "ProgressView",
            "bar_style": "success",
            "description": "",
            "description_tooltip": null,
            "layout": "IPY_MODEL_f326c41b9a2e4b3caf20c636560249c8",
            "max": 440473133,
            "min": 0,
            "orientation": "horizontal",
            "style": "IPY_MODEL_c67ed4999d76490ba3dc87872e9869bf",
            "value": 440473133
          }
        },
        "a352ae3f93394692bc9da08228c896dc": {
          "model_module": "@jupyter-widgets/base",
          "model_module_version": "1.2.0",
          "model_name": "LayoutModel",
          "state": {
            "_model_module": "@jupyter-widgets/base",
            "_model_module_version": "1.2.0",
            "_model_name": "LayoutModel",
            "_view_count": null,
            "_view_module": "@jupyter-widgets/base",
            "_view_module_version": "1.2.0",
            "_view_name": "LayoutView",
            "align_content": null,
            "align_items": null,
            "align_self": null,
            "border": null,
            "bottom": null,
            "display": null,
            "flex": null,
            "flex_flow": null,
            "grid_area": null,
            "grid_auto_columns": null,
            "grid_auto_flow": null,
            "grid_auto_rows": null,
            "grid_column": null,
            "grid_gap": null,
            "grid_row": null,
            "grid_template_areas": null,
            "grid_template_columns": null,
            "grid_template_rows": null,
            "height": null,
            "justify_content": null,
            "justify_items": null,
            "left": null,
            "margin": null,
            "max_height": null,
            "max_width": null,
            "min_height": null,
            "min_width": null,
            "object_fit": null,
            "object_position": null,
            "order": null,
            "overflow": null,
            "overflow_x": null,
            "overflow_y": null,
            "padding": null,
            "right": null,
            "top": null,
            "visibility": null,
            "width": null
          }
        },
        "b3c25db4c3fd4513810511f0ee49ea1d": {
          "model_module": "@jupyter-widgets/controls",
          "model_module_version": "1.5.0",
          "model_name": "DescriptionStyleModel",
          "state": {
            "_model_module": "@jupyter-widgets/controls",
            "_model_module_version": "1.5.0",
            "_model_name": "DescriptionStyleModel",
            "_view_count": null,
            "_view_module": "@jupyter-widgets/base",
            "_view_module_version": "1.2.0",
            "_view_name": "StyleView",
            "description_width": ""
          }
        },
        "b5cd0e17acbd400b91b240eea04ec270": {
          "model_module": "@jupyter-widgets/controls",
          "model_module_version": "1.5.0",
          "model_name": "HTMLModel",
          "state": {
            "_dom_classes": [],
            "_model_module": "@jupyter-widgets/controls",
            "_model_module_version": "1.5.0",
            "_model_name": "HTMLModel",
            "_view_count": null,
            "_view_module": "@jupyter-widgets/controls",
            "_view_module_version": "1.5.0",
            "_view_name": "HTMLView",
            "description": "",
            "description_tooltip": null,
            "layout": "IPY_MODEL_997cd555fa7541bd9ea358dcb6d5a623",
            "placeholder": "​",
            "style": "IPY_MODEL_0658506d9ea849f6b1757c2beeec1374",
            "value": "Downloading (…)okenizer_config.json: 100%"
          }
        },
        "b60b4bde2ddc441e9aa065e02ddfc593": {
          "model_module": "@jupyter-widgets/controls",
          "model_module_version": "1.5.0",
          "model_name": "ProgressStyleModel",
          "state": {
            "_model_module": "@jupyter-widgets/controls",
            "_model_module_version": "1.5.0",
            "_model_name": "ProgressStyleModel",
            "_view_count": null,
            "_view_module": "@jupyter-widgets/base",
            "_view_module_version": "1.2.0",
            "_view_name": "StyleView",
            "bar_color": null,
            "description_width": ""
          }
        },
        "ba77cc3dfec7445eb3037f5b557e67f6": {
          "model_module": "@jupyter-widgets/controls",
          "model_module_version": "1.5.0",
          "model_name": "HTMLModel",
          "state": {
            "_dom_classes": [],
            "_model_module": "@jupyter-widgets/controls",
            "_model_module_version": "1.5.0",
            "_model_name": "HTMLModel",
            "_view_count": null,
            "_view_module": "@jupyter-widgets/controls",
            "_view_module_version": "1.5.0",
            "_view_name": "HTMLView",
            "description": "",
            "description_tooltip": null,
            "layout": "IPY_MODEL_0ab6adb6bfa142bc8d4a95e9d9262f9e",
            "placeholder": "​",
            "style": "IPY_MODEL_e41835cba0e64e1c82b7b8d048a60009",
            "value": "Downloading (…)solve/main/vocab.txt: 100%"
          }
        },
        "bc67028c4bd74ca58a066f3c4162691e": {
          "model_module": "@jupyter-widgets/controls",
          "model_module_version": "1.5.0",
          "model_name": "DescriptionStyleModel",
          "state": {
            "_model_module": "@jupyter-widgets/controls",
            "_model_module_version": "1.5.0",
            "_model_name": "DescriptionStyleModel",
            "_view_count": null,
            "_view_module": "@jupyter-widgets/base",
            "_view_module_version": "1.2.0",
            "_view_name": "StyleView",
            "description_width": ""
          }
        },
        "c05daba601cb4c4b83f9e0e2eb857875": {
          "model_module": "@jupyter-widgets/controls",
          "model_module_version": "1.5.0",
          "model_name": "DescriptionStyleModel",
          "state": {
            "_model_module": "@jupyter-widgets/controls",
            "_model_module_version": "1.5.0",
            "_model_name": "DescriptionStyleModel",
            "_view_count": null,
            "_view_module": "@jupyter-widgets/base",
            "_view_module_version": "1.2.0",
            "_view_name": "StyleView",
            "description_width": ""
          }
        },
        "c350f8e508c9489fa085e5be96a06213": {
          "model_module": "@jupyter-widgets/controls",
          "model_module_version": "1.5.0",
          "model_name": "FloatProgressModel",
          "state": {
            "_dom_classes": [],
            "_model_module": "@jupyter-widgets/controls",
            "_model_module_version": "1.5.0",
            "_model_name": "FloatProgressModel",
            "_view_count": null,
            "_view_module": "@jupyter-widgets/controls",
            "_view_module_version": "1.5.0",
            "_view_name": "ProgressView",
            "bar_style": "success",
            "description": "",
            "description_tooltip": null,
            "layout": "IPY_MODEL_552e1d9d0eff456c9aed3ff69f462bcd",
            "max": 570,
            "min": 0,
            "orientation": "horizontal",
            "style": "IPY_MODEL_f0505e14608b4d2393d1b34fc3d6b02e",
            "value": 570
          }
        },
        "c3f6e6c38b2d42979dba7e4d9dd9b8c4": {
          "model_module": "@jupyter-widgets/base",
          "model_module_version": "1.2.0",
          "model_name": "LayoutModel",
          "state": {
            "_model_module": "@jupyter-widgets/base",
            "_model_module_version": "1.2.0",
            "_model_name": "LayoutModel",
            "_view_count": null,
            "_view_module": "@jupyter-widgets/base",
            "_view_module_version": "1.2.0",
            "_view_name": "LayoutView",
            "align_content": null,
            "align_items": null,
            "align_self": null,
            "border": null,
            "bottom": null,
            "display": null,
            "flex": null,
            "flex_flow": null,
            "grid_area": null,
            "grid_auto_columns": null,
            "grid_auto_flow": null,
            "grid_auto_rows": null,
            "grid_column": null,
            "grid_gap": null,
            "grid_row": null,
            "grid_template_areas": null,
            "grid_template_columns": null,
            "grid_template_rows": null,
            "height": null,
            "justify_content": null,
            "justify_items": null,
            "left": null,
            "margin": null,
            "max_height": null,
            "max_width": null,
            "min_height": null,
            "min_width": null,
            "object_fit": null,
            "object_position": null,
            "order": null,
            "overflow": null,
            "overflow_x": null,
            "overflow_y": null,
            "padding": null,
            "right": null,
            "top": null,
            "visibility": null,
            "width": null
          }
        },
        "c67ed4999d76490ba3dc87872e9869bf": {
          "model_module": "@jupyter-widgets/controls",
          "model_module_version": "1.5.0",
          "model_name": "ProgressStyleModel",
          "state": {
            "_model_module": "@jupyter-widgets/controls",
            "_model_module_version": "1.5.0",
            "_model_name": "ProgressStyleModel",
            "_view_count": null,
            "_view_module": "@jupyter-widgets/base",
            "_view_module_version": "1.2.0",
            "_view_name": "StyleView",
            "bar_color": null,
            "description_width": ""
          }
        },
        "cdaa91c4f234424cb86145eecc5d873e": {
          "model_module": "@jupyter-widgets/controls",
          "model_module_version": "1.5.0",
          "model_name": "HBoxModel",
          "state": {
            "_dom_classes": [],
            "_model_module": "@jupyter-widgets/controls",
            "_model_module_version": "1.5.0",
            "_model_name": "HBoxModel",
            "_view_count": null,
            "_view_module": "@jupyter-widgets/controls",
            "_view_module_version": "1.5.0",
            "_view_name": "HBoxView",
            "box_style": "",
            "children": [
              "IPY_MODEL_3610d4ce76444049be7cb23bdf89ed6d",
              "IPY_MODEL_c350f8e508c9489fa085e5be96a06213",
              "IPY_MODEL_56e6ea4d36a349229f1e21e64fc24891"
            ],
            "layout": "IPY_MODEL_2e55173b72704af0b789f1cec6f0d302"
          }
        },
        "e41835cba0e64e1c82b7b8d048a60009": {
          "model_module": "@jupyter-widgets/controls",
          "model_module_version": "1.5.0",
          "model_name": "DescriptionStyleModel",
          "state": {
            "_model_module": "@jupyter-widgets/controls",
            "_model_module_version": "1.5.0",
            "_model_name": "DescriptionStyleModel",
            "_view_count": null,
            "_view_module": "@jupyter-widgets/base",
            "_view_module_version": "1.2.0",
            "_view_name": "StyleView",
            "description_width": ""
          }
        },
        "e4c1d65d4f4b4ee28593459b5e08025f": {
          "model_module": "@jupyter-widgets/controls",
          "model_module_version": "1.5.0",
          "model_name": "ProgressStyleModel",
          "state": {
            "_model_module": "@jupyter-widgets/controls",
            "_model_module_version": "1.5.0",
            "_model_name": "ProgressStyleModel",
            "_view_count": null,
            "_view_module": "@jupyter-widgets/base",
            "_view_module_version": "1.2.0",
            "_view_name": "StyleView",
            "bar_color": null,
            "description_width": ""
          }
        },
        "e6de111c981b4bb79a768201c40aed81": {
          "model_module": "@jupyter-widgets/controls",
          "model_module_version": "1.5.0",
          "model_name": "FloatProgressModel",
          "state": {
            "_dom_classes": [],
            "_model_module": "@jupyter-widgets/controls",
            "_model_module_version": "1.5.0",
            "_model_name": "FloatProgressModel",
            "_view_count": null,
            "_view_module": "@jupyter-widgets/controls",
            "_view_module_version": "1.5.0",
            "_view_name": "ProgressView",
            "bar_style": "success",
            "description": "",
            "description_tooltip": null,
            "layout": "IPY_MODEL_534846a2e8674f2fa5ee12d7cd0cb864",
            "max": 28,
            "min": 0,
            "orientation": "horizontal",
            "style": "IPY_MODEL_e4c1d65d4f4b4ee28593459b5e08025f",
            "value": 28
          }
        },
        "ebeb89455cc5499cb5e3235095c9f556": {
          "model_module": "@jupyter-widgets/controls",
          "model_module_version": "1.5.0",
          "model_name": "HBoxModel",
          "state": {
            "_dom_classes": [],
            "_model_module": "@jupyter-widgets/controls",
            "_model_module_version": "1.5.0",
            "_model_name": "HBoxModel",
            "_view_count": null,
            "_view_module": "@jupyter-widgets/controls",
            "_view_module_version": "1.5.0",
            "_view_name": "HBoxView",
            "box_style": "",
            "children": [
              "IPY_MODEL_9c0ec9282a2d476989738f76ecd79c27",
              "IPY_MODEL_0f406d7294ac4d4bbaf2281aa2596c42",
              "IPY_MODEL_34f25a36c81b409a8aa93c64003ac7c6"
            ],
            "layout": "IPY_MODEL_c3f6e6c38b2d42979dba7e4d9dd9b8c4"
          }
        },
        "f0505e14608b4d2393d1b34fc3d6b02e": {
          "model_module": "@jupyter-widgets/controls",
          "model_module_version": "1.5.0",
          "model_name": "ProgressStyleModel",
          "state": {
            "_model_module": "@jupyter-widgets/controls",
            "_model_module_version": "1.5.0",
            "_model_name": "ProgressStyleModel",
            "_view_count": null,
            "_view_module": "@jupyter-widgets/base",
            "_view_module_version": "1.2.0",
            "_view_name": "StyleView",
            "bar_color": null,
            "description_width": ""
          }
        },
        "f326c41b9a2e4b3caf20c636560249c8": {
          "model_module": "@jupyter-widgets/base",
          "model_module_version": "1.2.0",
          "model_name": "LayoutModel",
          "state": {
            "_model_module": "@jupyter-widgets/base",
            "_model_module_version": "1.2.0",
            "_model_name": "LayoutModel",
            "_view_count": null,
            "_view_module": "@jupyter-widgets/base",
            "_view_module_version": "1.2.0",
            "_view_name": "LayoutView",
            "align_content": null,
            "align_items": null,
            "align_self": null,
            "border": null,
            "bottom": null,
            "display": null,
            "flex": null,
            "flex_flow": null,
            "grid_area": null,
            "grid_auto_columns": null,
            "grid_auto_flow": null,
            "grid_auto_rows": null,
            "grid_column": null,
            "grid_gap": null,
            "grid_row": null,
            "grid_template_areas": null,
            "grid_template_columns": null,
            "grid_template_rows": null,
            "height": null,
            "justify_content": null,
            "justify_items": null,
            "left": null,
            "margin": null,
            "max_height": null,
            "max_width": null,
            "min_height": null,
            "min_width": null,
            "object_fit": null,
            "object_position": null,
            "order": null,
            "overflow": null,
            "overflow_x": null,
            "overflow_y": null,
            "padding": null,
            "right": null,
            "top": null,
            "visibility": null,
            "width": null
          }
        },
        "f53207db462c4e9f9ab3e6ce15c18060": {
          "model_module": "@jupyter-widgets/controls",
          "model_module_version": "1.5.0",
          "model_name": "DescriptionStyleModel",
          "state": {
            "_model_module": "@jupyter-widgets/controls",
            "_model_module_version": "1.5.0",
            "_model_name": "DescriptionStyleModel",
            "_view_count": null,
            "_view_module": "@jupyter-widgets/base",
            "_view_module_version": "1.2.0",
            "_view_name": "StyleView",
            "description_width": ""
          }
        },
        "f76cdc6af41a4f57962585fc831d4575": {
          "model_module": "@jupyter-widgets/base",
          "model_module_version": "1.2.0",
          "model_name": "LayoutModel",
          "state": {
            "_model_module": "@jupyter-widgets/base",
            "_model_module_version": "1.2.0",
            "_model_name": "LayoutModel",
            "_view_count": null,
            "_view_module": "@jupyter-widgets/base",
            "_view_module_version": "1.2.0",
            "_view_name": "LayoutView",
            "align_content": null,
            "align_items": null,
            "align_self": null,
            "border": null,
            "bottom": null,
            "display": null,
            "flex": null,
            "flex_flow": null,
            "grid_area": null,
            "grid_auto_columns": null,
            "grid_auto_flow": null,
            "grid_auto_rows": null,
            "grid_column": null,
            "grid_gap": null,
            "grid_row": null,
            "grid_template_areas": null,
            "grid_template_columns": null,
            "grid_template_rows": null,
            "height": null,
            "justify_content": null,
            "justify_items": null,
            "left": null,
            "margin": null,
            "max_height": null,
            "max_width": null,
            "min_height": null,
            "min_width": null,
            "object_fit": null,
            "object_position": null,
            "order": null,
            "overflow": null,
            "overflow_x": null,
            "overflow_y": null,
            "padding": null,
            "right": null,
            "top": null,
            "visibility": null,
            "width": null
          }
        },
        "fb496c9fdf4849cfbe02bb90dd937d0f": {
          "model_module": "@jupyter-widgets/base",
          "model_module_version": "1.2.0",
          "model_name": "LayoutModel",
          "state": {
            "_model_module": "@jupyter-widgets/base",
            "_model_module_version": "1.2.0",
            "_model_name": "LayoutModel",
            "_view_count": null,
            "_view_module": "@jupyter-widgets/base",
            "_view_module_version": "1.2.0",
            "_view_name": "LayoutView",
            "align_content": null,
            "align_items": null,
            "align_self": null,
            "border": null,
            "bottom": null,
            "display": null,
            "flex": null,
            "flex_flow": null,
            "grid_area": null,
            "grid_auto_columns": null,
            "grid_auto_flow": null,
            "grid_auto_rows": null,
            "grid_column": null,
            "grid_gap": null,
            "grid_row": null,
            "grid_template_areas": null,
            "grid_template_columns": null,
            "grid_template_rows": null,
            "height": null,
            "justify_content": null,
            "justify_items": null,
            "left": null,
            "margin": null,
            "max_height": null,
            "max_width": null,
            "min_height": null,
            "min_width": null,
            "object_fit": null,
            "object_position": null,
            "order": null,
            "overflow": null,
            "overflow_x": null,
            "overflow_y": null,
            "padding": null,
            "right": null,
            "top": null,
            "visibility": null,
            "width": null
          }
        }
      }
=======
>>>>>>> main
    }
  },
  "nbformat": 4,
  "nbformat_minor": 0
}
